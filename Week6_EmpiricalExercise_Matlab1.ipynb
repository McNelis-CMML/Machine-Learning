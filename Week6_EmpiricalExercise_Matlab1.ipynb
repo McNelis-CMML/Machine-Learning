{
 "cells": [
  {
   "cell_type": "markdown",
   "metadata": {},
   "source": [
    "$\\textbf{Applications of Neural Networks to Banking Risk and Contagion}$"
   ]
  },
  {
   "cell_type": "markdown",
   "metadata": {},
   "source": [
    "In previous sections we looked at banking risk and contagion with both range volatility as well as with quantile regression.  Now we will look at these measures of risk with the use of neural network approximation.  Since the quantile regression discussion is the most recent, we will start with that approach, but then we will examine the issue with the range volatility approach."
   ]
  },
  {
   "cell_type": "markdown",
   "metadata": {},
   "source": [
    "$\\textit{Quantile Regression for Risk and Contagion}$\n",
    "\n",
    "Lets to back and load in the data for the 20 GSIB's.  We do the original quantile regression but also a quantile regression with a simple feedforward neural network, of three neurons in one hidden layer."
   ]
  },
  {
   "cell_type": "code",
   "execution_count": 1,
   "metadata": {},
   "outputs": [
    {
     "name": "stdout",
     "output_type": "stream",
     "text": [
      "\n"
     ]
    }
   ],
   "source": [
    "clear all;\n",
    "TAB1 = readtable('McNYet_May2020_CovarData.xlsx');\n",
    "date1 = table2array(TAB1(:,1));\n",
    "StateVar  = table2array(TAB1(:,2:10));\n",
    "SharePrice = table2array(TAB1(:,11:30));\n",
    "TraceVol = table2array(TAB1(:,31:50));\n",
    "MarketCap = table2array(TAB1(:,51:70));\n",
    "index = 6:5:length(StateVar); index = index';\n",
    "index1 = 1:5:length(StateVar); index1 = index1';\n",
    "StateVar1 = StateVar(index1,:);\n",
    "StateVar1 = StateVar1(1:end-1,:);\n",
    "MarketCap2 = MarketCap(index1,:);\n",
    "for i = 2:length(MarketCap2(:,7)), \n",
    "    if MarketCap2(i,7) == 0, \n",
    "        MarketCap2(i,7) = MarketCap2(i-1,7); \n",
    "    end; \n",
    "end;\n",
    "\n",
    "Return = diff(log(MarketCap2));\n",
    "Return = - Return;\n",
    "\n",
    "MarketCap2 = MarketCap2(2:end,:);\n",
    "SMC2 = sum(MarketCap2,2);\n",
    "SMC3 = kron(ones(1,20), SMC2);\n",
    "RatioMC = MarketCap2./SMC3;\n",
    "AveReturn1 = -Return .* RatioMC;\n",
    "WeightedReturn = sum(AveReturn1,2);\n",
    "\n",
    "\n",
    "date2 = date1(index1,:);\n",
    "date2 = date2(2:end,:);"
   ]
  },
  {
   "cell_type": "code",
   "execution_count": 2,
   "metadata": {},
   "outputs": [
    {
     "name": "stdout",
     "output_type": "stream",
     "text": [
      "\n"
     ]
    },
    {
     "data": {
      "image/png": "[encoded data removed]",
      "text/plain": [
       "<IPython.core.display.Image object>"
      ]
     },
     "metadata": {},
     "output_type": "display_data"
    }
   ],
   "source": [
    "BankNames1 = {'BAC','BK','BCS','BBVA', 'C', 'CS', 'DB', 'GS', 'HSBC', 'ING','JPM', 'MS', ...\n",
    "    'MFG', 'RBC', 'RBS', 'SAN', 'STT', 'SMFG', 'UBS,' 'WFC'};\n",
    "BankNames2 = char(BankNames1);\n",
    "MaxRet = max(Return); \n",
    "a1 =subplot(211); ...\n",
    "bar(MaxRet(1:10)); axis([1,10, -1,1]);axis tight; title('Maximum Losses');...\n",
    "names = {'BAC';'BK';'BCS';'BBVA'; 'C'; 'CS'; 'DB'; 'GS'; 'HSBC'; 'ING'}; ...\n",
    "set(gca,'xtick',[1:10],'xticklabel',names);...\n",
    "a2 = subplot(212); ...\n",
    "bar(MaxRet(11:20)); axis([1,10,-1,1]); axis tight;...\n",
    "names1 = {'JPM'; 'MS'; ,'MFG'; 'RBC'; 'RBS'; 'SAN'; 'STT'; 'SMFG'; 'UBS'; 'WFC'};\n",
    "set(gca,'xtick',[1:10],'xticklabel',names1);\n",
    "linkaxes([a1, a2], 'y');\n",
    "saveas(gcf, 'Week6_Fig1.eps', 'eps');"
   ]
  },
  {
   "cell_type": "code",
   "execution_count": 3,
   "metadata": {},
   "outputs": [
    {
     "name": "stdout",
     "output_type": "stream",
     "text": [
      "Elapsed time is 772.899902 seconds.\n",
      "\n"
     ]
    }
   ],
   "source": [
    "tic;\n",
    "for i = 1:20,\n",
    "    RETURN = Return;\n",
    "    MARKETCAP2 = MarketCap2;\n",
    "    RETURN(:,i) = [];\n",
    "    MARKETCAP2(:,i) = [];\n",
    "    WRETURN1 = RETURN.*MARKETCAP2;\n",
    "    SRETURN1 = sum(MARKETCAP2,2);\n",
    "    SRETURN2 = kron(ones(1,19), SRETURN1);\n",
    "    SYSTEMRET = WRETURN1./SRETURN2;  \n",
    "    SYSTEMRET = sum(SYSTEMRET,2);\n",
    "    xx = [Return(:,i) StateVar1];\n",
    "    yy = SYSTEMRET;\n",
    "    % clear RETURN MARKETCAP2;\n",
    "    %  p,stats]=quantreg(x,y,tau[,order,nboot]);\n",
    "    tau1= .95;\n",
    "    tau2 = .50;\n",
    "    nst = [3];\n",
    "    [yhat05, INFOC05] = netquantile1(xx,yy,tau1,nst);\n",
    "    [yhat50, INFOC50] = netquantile1(xx,yy,tau2,nst);\n",
    "    INFOC(:,i) = mean(INFOC05 + INFOC50,2);\n",
    "    DCOVARnet(:,i) = yhat05 - yhat50;\n",
    "    nst = 20;\n",
    "    [yhat05, INFOC05] = netquantile1(xx,yy,tau1,nst);\n",
    "    [yhat50, INFOC50] = netquantile1(xx,yy,tau2,nst);\n",
    "    INFOC1(:,i) = mean(INFOC05 + INFOC50,2);\n",
    "    DCOVARnet1(:,i) = yhat05 - yhat50;\n",
    "    nst = [20 10 5];\n",
    "    [yhat05, INFOC05] = netquantile1(xx,yy,tau1,nst);\n",
    "    [yhat50, INFOC50] = netquantile1(xx,yy,tau2,nst);\n",
    "    INFOC2(:,i) = mean(INFOC05 + INFOC50,2);\n",
    "    DCOVARnet2(:,i) = yhat05 - yhat50;\n",
    "    nst = [20 15 10 5];\n",
    "    [yhat05, INFOC05] = netquantile1(xx,yy,tau1,nst);\n",
    "    [yhat50, INFOC50] = netquantile1(xx,yy,tau2,nst);\n",
    "    INFOC3(:,i) = mean(INFOC05 + INFOC50,2);\n",
    "    DCOVARnet3(:,i) = yhat05 - yhat50;\n",
    "    end;\n",
    "    toc;\n",
    "    runtime = toc/60;\n",
    "\n"
   ]
  },
  {
   "cell_type": "code",
   "execution_count": null,
   "metadata": {},
   "outputs": [],
   "source": [
    "runtime\n",
    "\n"
   ]
  },
  {
   "cell_type": "code",
   "execution_count": null,
   "metadata": {},
   "outputs": [],
   "source": [
    "INFOCmean = mean(INFOC,2);\n",
    "INFOC1mean = mean(INFOC1,2); INFOC2mean = mean(INFOC2,2);  INFOC3mean = mean(INFOC3,2);\n",
    "[INFOCmean INFOC1mean INFOC2mean INFOC3mean]"
   ]
  },
  {
   "cell_type": "code",
   "execution_count": 96,
   "metadata": {},
   "outputs": [
    {
     "name": "stdout",
     "output_type": "stream",
     "text": [
      "\n"
     ]
    }
   ],
   "source": [
    "INFOCRIT_Quantile = [INFOCmean INFOC1mean INFOC2mean INFOC3mean];\n",
    "T1 = {'AIF'; 'BIF'; 'HQIF'};\n",
    "T1 = cell2table(T1);\n",
    "T2 = [INFOCRIT_Quantile];\n",
    "T2 = array2table(T2);\n",
    "\n",
    "T2.Properties.VariableNames([1:4])={ '3', '20' '20-10-5' '20-15-10-5'};\n",
    "T2.Properties.RowNames = {'AIC', 'BIC', 'HQIF'};\n",
    "writetable(T2,'Week6_Tab1.xlsx');"
   ]
  },
  {
   "cell_type": "markdown",
   "metadata": {},
   "source": [
    "We see by all three information criteria (AIC, BIC, HQIC) that the simplest neural net structure does best."
   ]
  },
  {
   "cell_type": "code",
   "execution_count": 38,
   "metadata": {},
   "outputs": [
    {
     "name": "stdout",
     "output_type": "stream",
     "text": [
      "\n"
     ]
    },
    {
     "data": {
      "image/png": "[encoded data removed]",
      "text/plain": [
       "<IPython.core.display.Image object>"
      ]
     },
     "metadata": {},
     "output_type": "display_data"
    }
   ],
   "source": [
    "Maxval = max(DCOVARnet);\n",
    "a1 =subplot(211); ...\n",
    "bar(Maxval(1:10)); axis([1,10, -1,1]);axis tight;...\n",
    "title('Max Delta COVAR Estimates for GSIBs');...\n",
    "names = {'BAC';'BK';'BCS';'BBVA'; 'C'; 'CS'; 'DB'; 'GS'; 'HSBC'; 'ING'}; ...\n",
    "set(gca,'xtick',[1:10],'xticklabel',names);...\n",
    "a2 = subplot(212); ...\n",
    "bar(Maxval(11:20)); axis([1,10,-1,1]); axis tight; ...\n",
    "names1 = {'JPM'; 'MS'; ,'MFG'; 'RBC'; 'RBS'; 'SAN'; 'STT'; 'SMFG'; 'UBS'; 'WFC'};\n",
    "set(gca,'xtick',[1:10],'xticklabel',names1);\n",
    "linkaxes([a1, a2], 'y');\n",
    "saveas(gcf, 'Week6_Fig2.eps', 'eps');\n",
    "\n",
    "\n",
    "\n"
   ]
  },
  {
   "cell_type": "markdown",
   "metadata": {},
   "source": [
    "We see that C, RBS, SAN, followed by UBS, lead the pack, for their negative max impact values on the financial system.  However their mean values are about the same."
   ]
  },
  {
   "cell_type": "code",
   "execution_count": 101,
   "metadata": {},
   "outputs": [
    {
     "name": "stdout",
     "output_type": "stream",
     "text": [
      "\n"
     ]
    },
    {
     "data": {
      "image/png": "[encoded data removed]",
      "text/plain": [
       "<IPython.core.display.Image object>"
      ]
     },
     "metadata": {},
     "output_type": "display_data"
    }
   ],
   "source": [
    "plot(date2, DCOVARnet);  title('DCOVAR for GSIBs'); grid;\n",
    "saveas(gcf, 'Week6_DOVAR.epsc','epsc');"
   ]
  },
  {
   "cell_type": "code",
   "execution_count": 161,
   "metadata": {},
   "outputs": [
    {
     "name": "stdout",
     "output_type": "stream",
     "text": [
      "\n",
      "ans =\n",
      "\n",
      "    20     1\n",
      "\n",
      "\n",
      "ans =\n",
      "\n",
      "    20     1\n",
      "\n",
      "\n"
     ]
    }
   ],
   "source": [
    "\n",
    "for i = 1:20,\n",
    "[maxval(i), index(i)] = max(DCOVARnet(:,i));\n",
    "DATE1(i) = date2(index(i));\n",
    "end;\n",
    "DATE2 = array2table(DATE1');\n",
    "DATE3 =  table2cell(DATE2);\n",
    "\n",
    "\n",
    "\n",
    "\n",
    "\n",
    "\n",
    "\n",
    "\n",
    "\n",
    "BankNames11 = {'BAC';'BK';'BCS';'BBVA'; 'C'; 'CS'; 'DB'; 'GS'; 'HSBC'; 'ING';'JPM'; 'MS'; ...\n",
    "    'MFG'; 'RBC'; 'RBS'; 'SAN'; 'STT'; 'SMFG'; 'UBS'; 'WFC'};\n",
    "TB1 = cell2table(BankNames11);\n",
    "size(TB1)\n",
    "size(DATE2)\n",
    "\n",
    "TB2 = [DATE2 TB1];\n",
    "\n",
    "TB2.Properties.VariableNames([1:2]) = {'Date','GSIB Bank'};\n",
    "TB2;\n",
    "writetable(TB2,'Week6_Tab2.xlsx');\n",
    "\n",
    "\n",
    "\n",
    "\n",
    "\n",
    "\n",
    "\n",
    "\n",
    "\n"
   ]
  },
  {
   "cell_type": "markdown",
   "metadata": {},
   "source": [
    "Lets split the sample in half, to see if the contagion effect differ between more turbulent and more tranquil periods."
   ]
  },
  {
   "cell_type": "code",
   "execution_count": 3,
   "metadata": {},
   "outputs": [
    {
     "name": "stdout",
     "output_type": "stream",
     "text": [
      "\n",
      "Your variables are:\n",
      "\n",
      "AveReturn1      MarketCap2      SMC2            StateVar1       a1              i               names1          \n",
      "BankNames1      MaxRet          SMC3            TAB1            a2              index           \n",
      "BankNames2      RatioMC         SharePrice      TraceVol        date1           index1          \n",
      "MarketCap       Return          StateVar        WeightedReturn  date2           names           \n",
      "\n",
      "\n"
     ]
    }
   ],
   "source": [
    "who"
   ]
  },
  {
   "cell_type": "code",
   "execution_count": 8,
   "metadata": {},
   "outputs": [
    {
     "name": "stdout",
     "output_type": "stream",
     "text": [
      "Elapsed time is 138.716627 seconds.\n",
      "\n",
      "runtime =\n",
      "\n",
      "    2.3120\n",
      "\n",
      "\n"
     ]
    }
   ],
   "source": [
    "tic;\n",
    "split = 307;\n",
    "for i = 1:20,\n",
    "    RETURN = Return(1:split,:);\n",
    "    MARKETCAP2 = MarketCap2(1:split,:);\n",
    "    RETURN(:,i) = [];\n",
    "    MARKETCAP2(:,i) = [];\n",
    "    WRETURN1 = RETURN.*MARKETCAP2;\n",
    "    SRETURN1 = sum(MARKETCAP2,2);\n",
    "    SRETURN2 = kron(ones(1,19), SRETURN1);\n",
    "    SYSTEMRET = WRETURN1./SRETURN2;  \n",
    "    SYSTEMRET = sum(SYSTEMRET,2);\n",
    "     \n",
    "    xx = [Return(1:split,i) StateVar1(1:split,:)];\n",
    "    yy = SYSTEMRET;\n",
    "    % clear RETURN MARKETCAP2;\n",
    "    %  p,stats]=quantreg(x,y,tau[,order,nboot]);\n",
    "    tau1= .95;\n",
    "    tau2 = .50;\n",
    "    nst = [3];\n",
    "    [yhat05, infoc05] = netquantile1(xx,yy,tau1,nst);\n",
    "    [yhat50, infoc50] = netquantile1(xx,yy,tau2,nst);\n",
    "    INFOC1(:,i) = infoc05 + infoc50;\n",
    "    DCOVAR_GFC(:,i) = yhat05 - yhat50;\n",
    "    clear xx yy RETURN MARKETCAP2 WRETURN1 SRETURN1 SRETURN2 SYSTEMRET;\n",
    "end;\n",
    "INFOC1mean = mean(INFOC1,2);\n",
    "toc;\n",
    "runtime = toc/60;\n",
    "runtime\n"
   ]
  },
  {
   "cell_type": "code",
   "execution_count": 10,
   "metadata": {},
   "outputs": [
    {
     "name": "stdout",
     "output_type": "stream",
     "text": [
      "\n"
     ]
    },
    {
     "data": {
      "image/png": "[encoded data removed]",
      "text/plain": [
       "<IPython.core.display.Image object>"
      ]
     },
     "metadata": {},
     "output_type": "display_data"
    }
   ],
   "source": [
    "Maxval = max(DCOVAR_GFC);\n",
    "a1 =subplot(211); ...\n",
    "bar(Maxval(1:10)); axis([1,10, -1,1]);axis tight;...\n",
    "title('Max Delta COVAR Estimates for GSIBs during GFC');...\n",
    "names = {'BAC';'BK';'BCS';'BBVA'; 'C'; 'CS'; 'DB'; 'GS'; 'HSBC'; 'ING'}; ...\n",
    "set(gca,'xtick',[1:10],'xticklabel',names);...\n",
    "a2 = subplot(212); ...\n",
    "bar(Maxval(11:20)); axis([1,10,-1,1]); axis tight; ...\n",
    "names1 = {'JPM'; 'MS'; ,'MFG'; 'RBC'; 'RBS'; 'SAN'; 'STT'; 'SMFG'; 'UBS'; 'WFC'};\n",
    "set(gca,'xtick',[1:10],'xticklabel',names1);\n",
    "linkaxes([a1, a2], 'y');\n",
    "saveas(gcf, 'Week6_Fig3.eps', 'eps');"
   ]
  },
  {
   "cell_type": "markdown",
   "metadata": {},
   "source": [
    "We see that HSBC leads the pack at the time of the GFC, but DB and MS also have strong effects.  Let's see what happens after the GFC period."
   ]
  },
  {
   "cell_type": "code",
   "execution_count": 11,
   "metadata": {},
   "outputs": [
    {
     "name": "stdout",
     "output_type": "stream",
     "text": [
      "Elapsed time is 140.629908 seconds.\n",
      "\n",
      "runtime =\n",
      "\n",
      "    2.3438\n",
      "\n",
      "\n"
     ]
    }
   ],
   "source": [
    "tic;\n",
    "split = 307;\n",
    "for i = 1:20,\n",
    "    RETURN = Return(split+1:end,:);\n",
    "    MARKETCAP2 = MarketCap2(split+1:end,:);\n",
    "    RETURN(:,i) = [];\n",
    "    MARKETCAP2(:,i) = [];\n",
    "    WRETURN1 = RETURN.*MARKETCAP2;\n",
    "    SRETURN1 = sum(MARKETCAP2,2);\n",
    "    SRETURN2 = kron(ones(1,19), SRETURN1);\n",
    "    SYSTEMRET = WRETURN1./SRETURN2;  \n",
    "    SYSTEMRET = sum(SYSTEMRET,2);\n",
    "     \n",
    "    xx = [Return(split+1:end,i) StateVar1(split+1:end,:)];\n",
    "    yy = SYSTEMRET;\n",
    "    % clear RETURN MARKETCAP2;\n",
    "    %  p,stats]=quantreg(x,y,tau[,order,nboot]);\n",
    "    tau1= .95;\n",
    "    tau2 = .50;\n",
    "    nst = [3];\n",
    "    [yhat05, infoc05] = netquantile1(xx,yy,tau1,nst);\n",
    "    [yhat50, infoc50] = netquantile1(xx,yy,tau2,nst);\n",
    "    INFOC1(:,i) = infoc05 + infoc50;\n",
    "    DCOVAR_PostGFC(:,i) = yhat05 - yhat50;\n",
    "    clear xx yy RETURN MARKETCAP2 WRETURN1 SRETURN1 SRETURN2 SYSTEMRET;\n",
    "end;\n",
    "INFOC1mean = mean(INFOC1,2);\n",
    "toc;\n",
    "runtime = toc/60;\n",
    "runtime\n"
   ]
  },
  {
   "cell_type": "code",
   "execution_count": 12,
   "metadata": {},
   "outputs": [
    {
     "name": "stdout",
     "output_type": "stream",
     "text": [
      "\n"
     ]
    },
    {
     "data": {
      "image/png": "[encoded data removed]",
      "text/plain": [
       "<IPython.core.display.Image object>"
      ]
     },
     "metadata": {},
     "output_type": "display_data"
    }
   ],
   "source": [
    "Maxval = max(DCOVAR_PostGFC);\n",
    "a1 =subplot(211); ...\n",
    "bar(Maxval(1:10)); axis([1,10, -1,1]);axis tight;...\n",
    "title('Max Delta COVAR Estimates for GSIBs Post-GFC');...\n",
    "names = {'BAC';'BK';'BCS';'BBVA'; 'C'; 'CS'; 'DB'; 'GS'; 'HSBC'; 'ING'}; ...\n",
    "set(gca,'xtick',[1:10],'xticklabel',names);...\n",
    "a2 = subplot(212); ...\n",
    "bar(Maxval(11:20)); axis([1,10,-1,1]); axis tight;...\n",
    "names1 = {'JPM'; 'MS'; ,'MFG'; 'RBC'; 'RBS'; 'SAN'; 'STT'; 'SMFG'; 'UBS'; 'WFC'};\n",
    "set(gca,'xtick',[1:10],'xticklabel',names1);\n",
    "linkaxes([a1, a2], 'y');\n",
    "saveas(gcf, 'Week6_Fig4.eps', 'eps');"
   ]
  },
  {
   "cell_type": "markdown",
   "metadata": {},
   "source": [
    "In the post_GFC era, the maximum $\\Delta$COVAR effects are greatly reduced, with the max value about one-third of the max value in the GFC period. The leaders are CS ad MFG, but HSBS also is high, along with UBS.  Let's see when the max values took place."
   ]
  },
  {
   "cell_type": "code",
   "execution_count": 14,
   "metadata": {},
   "outputs": [
    {
     "name": "stdout",
     "output_type": "stream",
     "text": [
      "\n",
      "ans =\n",
      "\n",
      "    20     1\n",
      "\n",
      "\n",
      "ans =\n",
      "\n",
      "    20     1\n",
      "\n",
      "\n",
      "TB2 =\n",
      "\n",
      "  20x2 table\n",
      "\n",
      "       Date        GSIB Bank\n",
      "    ___________    _________\n",
      "\n",
      "    23-Mar-2010    {'BAC' } \n",
      "    25-May-2012    {'BK'  } \n",
      "    27-Jul-2010    {'BCS' } \n",
      "    17-Jan-2011    {'BBVA'} \n",
      "    30-Nov-2010    {'C'   } \n",
      "    23-Mar-2012    {'CS'  } \n",
      "    16-Nov-2010    {'DB'  } \n",
      "    25-Feb-2013    {'GS'  } \n",
      "    10-Aug-2009    {'HSBC'} \n",
      "    24-Aug-2010    {'ING' } \n",
      "    16-Feb-2010    {'JPM' } \n",
      "    02-Feb-2010    {'MS'  } \n",
      "    23-Mar-2012    {'MFG' } \n",
      "    06-Apr-2012    {'RBC' } \n",
      "    14-Feb-2011    {'RBS' } \n",
      "    30-Mar-2010    {'SAN' } \n",
      "    30-Nov-2012    {'STT' } \n",
      "    13-May-2013    {'SMFG'} \n",
      "    03-Aug-2010    {'UBS' } \n",
      "    21-Dec-2010    {'WFC' } \n",
      "\n",
      "\n"
     ]
    }
   ],
   "source": [
    "for i = 1:20,\n",
    "[maxval(i), index(i)] = max(DCOVAR_PostGFC(:,i));\n",
    "DATE1(i) = date2(index(i));\n",
    "end;\n",
    "DATE2 = array2table(DATE1');\n",
    "DATE3 =  table2cell(DATE2);\n",
    "BankNames11 = {'BAC';'BK';'BCS';'BBVA'; 'C'; 'CS'; 'DB'; 'GS'; 'HSBC'; 'ING';'JPM'; 'MS'; ...\n",
    "    'MFG'; 'RBC'; 'RBS'; 'SAN'; 'STT'; 'SMFG'; 'UBS'; 'WFC'};\n",
    "TB1 = cell2table(BankNames11);\n",
    "size(TB1)\n",
    "size(DATE2)\n",
    "\n",
    "TB2 = [DATE2 TB1];\n",
    "\n",
    "TB2.Properties.VariableNames([1:2]) = {'Date','GSIB Bank'};\n",
    "TB2;\n",
    "writetable(TB2,'Week6_Tab3.xlsx');\n",
    "TB2"
   ]
  },
  {
   "cell_type": "code",
   "execution_count": 19,
   "metadata": {},
   "outputs": [
    {
     "name": "stdout",
     "output_type": "stream",
     "text": [
      "Elapsed time is 460.937822 seconds.\n",
      "\n"
     ]
    }
   ],
   "source": [
    "tic;\n",
    "for i = 1:20,\n",
    "    RETURN = Return;\n",
    "    MARKETCAP2 = MarketCap2;\n",
    "    RETURN(:,i) = [];\n",
    "    MARKETCAP2(:,i) = [];\n",
    "    WRETURN1 = RETURN.*MARKETCAP2;\n",
    "    SRETURN1 = sum(MARKETCAP2,2);\n",
    "    SRETURN2 = kron(ones(1,19), SRETURN1);\n",
    "    SYSTEMRET = WRETURN1./SRETURN2;  \n",
    "    SYSTEMRET = sum(SYSTEMRET,2);\n",
    "    xx = [Return(:,i) StateVar1];\n",
    "    yy = SYSTEMRET;\n",
    "    % clear RETURN MARKETCAP2;\n",
    "    %  p,stats]=quantreg(x,y,tau[,order,nboot]);\n",
    "    tau1= .95;\n",
    "    tau2 = .50;\n",
    "    nst = [10 5 2];\n",
    "    [yhat05 hqif05] = netquantile(xx,yy,tau1,nst);\n",
    "    [yhat50 hqif50] = netquantile(xx,yy,tau2,nst);\n",
    "    DCOVARnet2(:,i) = yhat05 - yhat50;\n",
    "    HQIF2(i) = hqif05 + hqif50;\n",
    "end;\n",
    "HQIF2mean = mean(HQIF2);\n",
    "toc\n"
   ]
  },
  {
   "cell_type": "code",
   "execution_count": 20,
   "metadata": {},
   "outputs": [
    {
     "name": "stdout",
     "output_type": "stream",
     "text": [
      "\n",
      "ans =\n",
      "\n",
      "    0.0955    0.0958    2.1148\n",
      "\n",
      "\n"
     ]
    }
   ],
   "source": [
    "[HQIFmean HQIF1mean HQIF2mean]"
   ]
  },
  {
   "cell_type": "markdown",
   "metadata": {},
   "source": [
    "It looks like the simpler neural network beats the more complex ones for the quantile regression.\n",
    "Nevertheless, best to look at the implications of the more complex one."
   ]
  },
  {
   "cell_type": "code",
   "execution_count": 22,
   "metadata": {},
   "outputs": [
    {
     "name": "stdout",
     "output_type": "stream",
     "text": [
      "\n"
     ]
    },
    {
     "data": {
      "image/png": "[encoded data removed]",
      "text/plain": [
       "<IPython.core.display.Image object>"
      ]
     },
     "metadata": {},
     "output_type": "display_data"
    }
   ],
   "source": [
    "Maxval = max(DCOVARnet2);\n",
    "a1 =subplot(211); ...\n",
    "bar(Maxval(1:10)); axis([1,10, -1,1]);axis tight;...\n",
    "names = {'BAC';'BK';'BCS';'BBVA'; 'C'; 'CS'; 'DB'; 'GS'; 'HSBC'; 'ING'}; ...\n",
    "set(gca,'xtick',[1:10],'xticklabel',names);...\n",
    "a2 = subplot(212); ...\n",
    "bar(Maxval(11:20)); axis([1,10,-1,1]); axis tight;...\n",
    "names1 = {'JPM'; 'MS'; ,'MFG'; 'RBC'; 'RBS'; 'SAN'; 'STT'; 'SMFG'; 'UBS'; 'WFC'};\n",
    "set(gca,'xtick',[1:10],'xticklabel',names1);\n",
    "linkaxes([a1, a2], 'y');"
   ]
  },
  {
   "cell_type": "markdown",
   "metadata": {},
   "source": [
    "With the more complex network, MS stands at the top, along with BCS, CS, DB, UBS.  Lets try some more layers.   DB, of course, is famous for being highly fined for the LIBOR manipulation scandal.  Let's try four layers of ten neurons.  But this network by the HQIF criterion, is overfitted relative to the simple one layer network of 3 neurons.  So the parameters are likely picking up more interconnects than are warranted by the data."
   ]
  },
  {
   "cell_type": "code",
   "execution_count": 26,
   "metadata": {},
   "outputs": [
    {
     "name": "stdout",
     "output_type": "stream",
     "text": [
      "Elapsed time is 501.932354 seconds.\n",
      "\n"
     ]
    }
   ],
   "source": [
    "\n",
    "tic;\n",
    "for i = 1:20,\n",
    "    RETURN = Return;\n",
    "    MARKETCAP2 = MarketCap2;\n",
    "    RETURN(:,i) = [];\n",
    "    MARKETCAP2(:,i) = [];\n",
    "    WRETURN1 = RETURN.*MARKETCAP2;\n",
    "    SRETURN1 = sum(MARKETCAP2,2);\n",
    "    SRETURN2 = kron(ones(1,19), SRETURN1);\n",
    "    SYSTEMRET = WRETURN1./SRETURN2;  \n",
    "    SYSTEMRET = sum(SYSTEMRET,2);\n",
    "    xx = [Return(:,i) StateVar1];\n",
    "    yy = SYSTEMRET;\n",
    "    % clear RETURN MARKETCAP2;\n",
    "    %  p,stats]=quantreg(x,y,tau[,order,nboot]);\n",
    "    tau1= .95;\n",
    "    tau2 = .50;\n",
    "    nst = [10 10 10 ];\n",
    "    [yhat05, hqif05] = netquantile(xx,yy,tau1,nst);\n",
    "    [yhat50, hwif50]= netquantile(xx,yy,tau2,nst);\n",
    "    DCOVARnet3(:,i) = yhat05 - yhat50;\n",
    "    HQIF3(i) = hqif05+hqif50;\n",
    "end;\n",
    "HQIF3mean = mean(HQIF3);\n",
    "toc;\n",
    "runtime = toc;\n"
   ]
  },
  {
   "cell_type": "code",
   "execution_count": 29,
   "metadata": {},
   "outputs": [
    {
     "name": "stdout",
     "output_type": "stream",
     "text": [
      "\n",
      "ans =\n",
      "\n",
      "    0.0955    0.0958    2.1148    3.0602\n",
      "\n",
      "\n"
     ]
    }
   ],
   "source": [
    "[HQIFmean HQIF1mean HQIF2mean HQIF3mean]"
   ]
  },
  {
   "cell_type": "markdown",
   "metadata": {},
   "source": [
    "We see that going to the expansive 4-layered network does not help.  The Hannan-Quinn criterion tells us to accept the simpler one-layer network with three neurons.  Let's look at the last one."
   ]
  },
  {
   "cell_type": "code",
   "execution_count": 30,
   "metadata": {},
   "outputs": [
    {
     "name": "stdout",
     "output_type": "stream",
     "text": [
      "\n"
     ]
    },
    {
     "data": {
      "image/png": "[encoded data removed]",
      "text/plain": [
       "<IPython.core.display.Image object>"
      ]
     },
     "metadata": {},
     "output_type": "display_data"
    }
   ],
   "source": [
    "Maxval = max(DCOVARnet3);\n",
    "a1 =subplot(211); ...\n",
    "bar(Maxval(1:10)); axis([1,10, -1,1]);axis tight;...\n",
    "names = {'BAC';'BK';'BCS';'BBVA'; 'C'; 'CS'; 'DB'; 'GS'; 'HSBC'; 'ING'}; ...\n",
    "set(gca,'xtick',[1:10],'xticklabel',names);...\n",
    "a2 = subplot(212); ...\n",
    "bar(Maxval(11:20)); axis([1,10,-1,1]); axis tight;...\n",
    "names1 = {'JPM'; 'MS'; ,'MFG'; 'RBC'; 'RBS'; 'SAN'; 'STT'; 'SMFG'; 'UBS'; 'WFC'};\n",
    "set(gca,'xtick',[1:10],'xticklabel',names1);\n",
    "linkaxes([a1, a2], 'y');"
   ]
  },
  {
   "cell_type": "markdown",
   "metadata": {},
   "source": [
    "SMFB is now at the top, as well as DB.  But there are more nuisance parameters in this estimation, so the estimation may overstate the connectedness."
   ]
  },
  {
   "cell_type": "markdown",
   "metadata": {},
   "source": [
    "$\\textit{Range Volatility and Contagion}$\n",
    "\n",
    "Now lets turn to $\\textit{daily}$ range volatility and evaluate contagion effects with various neural net specifications."
   ]
  },
  {
   "cell_type": "code",
   "execution_count": 2,
   "metadata": {},
   "outputs": [
    {
     "name": "stdout",
     "output_type": "stream",
     "text": [
      "\n"
     ]
    },
    {
     "data": {
      "image/png": "[encoded data removed]",
      "text/plain": [
       "<IPython.core.display.Image object>"
      ]
     },
     "metadata": {},
     "output_type": "display_data"
    }
   ],
   "source": [
    "clear all;\n",
    "TAB1 = readtable('McNelis_Yetman_May2020.xlsx');\n",
    "date1 = TAB1(:,1);\n",
    "date1 = table2array(date1);\n",
    "date1 = datetime(date1);\n",
    "dat_ = TAB1(:,2:21);\n",
    "[ry, cy] = size(dat_);\n",
    "xx = TAB1(:,22:end);\n",
    "dat_= table2array(dat_);\n",
    "xx = table2array(xx);\n",
    "% dat1_ = (dat_ - min(dat_))./(max(dat_)-min(dat_));\n",
    "% xx1 = (xx - min(xx))./(max(xx)-min(xx));\n",
    "%dat_ = normalize(dat_);\n",
    "% xx = normalize(xx);\n",
    "\n",
    "%dat2_ =  2*dat1_ - 1;\n",
    "%xx2 = 2 * xx1 - 1;\n",
    "\n",
    "% dat_ = gpuArray(dat_,range');\n",
    "% xx = gpuArray(xx);\n",
    "\n",
    "BankNames = {'BAC'\t'BK'\t'BCS'\t'BBVA' 'C' 'CS' 'DB' 'GS' 'HSBC' 'ING'\t'JPM' 'MS' ...\n",
    "    'MFG' 'RBC' 'RBS' 'SAN' 'STT' 'SMFG' 'UBS' 'WFC'};\n",
    "Maxval = max(dat_);\n",
    "\n",
    "a1 =subplot(211); ...\n",
    "bar(Maxval(1:10)); axis([1,10, -1,1]);axis tight;...\n",
    "names = {'BAC';'BK';'BCS';'BBVA'; 'C'; 'CS'; 'DB'; 'GS'; 'HSBC'; 'ING'}; ...\n",
    "set(gca,'xtick',[1:10],'xticklabel',names);...\n",
    "a2 = subplot(212); ...\n",
    "bar(Maxval(11:20)); axis([1,10,-1,1]); axis tight; title('Max Range Volatility');...\n",
    "names1 = {'JPM'; 'MS'; ,'MFG'; 'RBC'; 'RBS'; 'SAN'; 'STT'; 'SMFG'; 'UBS'; 'WFC'};\n",
    "set(gca,'xtick',[1:10],'xticklabel',names1);\n",
    "linkaxes([a1, a2], 'y');\n",
    "saveas(gcf, 'RangeVol.eps','eps');\n",
    "\n",
    "\n"
   ]
  },
  {
   "cell_type": "code",
   "execution_count": 2,
   "metadata": {},
   "outputs": [
    {
     "name": "stdout",
     "output_type": "stream",
     "text": [
      "\n",
      "ans =\n",
      "\n",
      "    20     1\n",
      "\n",
      "\n",
      "ans =\n",
      "\n",
      "    20     1\n",
      "\n",
      "\n"
     ]
    }
   ],
   "source": [
    "for i = 1:20,\n",
    "[maxval(i), index(i)] = max(dat_(:,i));\n",
    "DATE1(i) = date1(index(i));\n",
    "end;\n",
    "DATE2 = array2table(DATE1');\n",
    "DATE3 =  table2cell(DATE2);\n",
    "BankNames11 = {'BAC';'BK';'BCS';'BBVA'; 'C'; 'CS'; 'DB'; 'GS'; 'HSBC'; 'ING';'JPM'; 'MS'; ...\n",
    "    'MFG'; 'RBC'; 'RBS'; 'SAN'; 'STT'; 'SMFG'; 'UBS'; 'WFC'};\n",
    "TB11 = cell2table(BankNames11);\n",
    "size(TB11)\n",
    "size(DATE2)\n",
    "\n",
    "TB21 = [DATE2 TB11];\n",
    "\n",
    "TB21.Properties.VariableNames([1:2]) = {'Date','GSIB Bank'};\n",
    "TB21;\n",
    "writetable(TB21,'Week6_Tab4.xlsx');\n"
   ]
  },
  {
   "cell_type": "markdown",
   "metadata": {},
   "source": [
    "Lets look at a Network with a single layer of 20 neurons."
   ]
  },
  {
   "cell_type": "code",
   "execution_count": 3,
   "metadata": {},
   "outputs": [
    {
     "name": "stdout",
     "output_type": "stream",
     "text": [
      "Starting parallel pool (parpool) using the 'local' profile ...\n",
      "Connected to the parallel pool (number of workers: 4).\n",
      "\n",
      "nnst =\n",
      "\n",
      "    20    15    10\n",
      "\n",
      "\n",
      "nnst =\n",
      "\n",
      "    20    15    10     5\n",
      "\n",
      "\n",
      "ans =\n",
      "\n",
      "    2.2768    2.4567    2.4262\n",
      "\n",
      "Elapsed time is 728.951664 seconds.\n",
      "\n",
      "runtime =\n",
      "\n",
      "   12.1492\n",
      "\n",
      "\n"
     ]
    }
   ],
   "source": [
    "tic;\n",
    "dat_ = normalize(dat_,'range',[-1,1]);    % dat are the range volatilities of the 20 banks\n",
    "xx = normalize(xx,'range',[-1,1]);\n",
    "size(dat_);\n",
    "size(xx);\n",
    "%  xx are the controls\n",
    "nnst = [20];\n",
    "lagst = [1:5];\n",
    "[VD, INWARD, OUTWARD,NET, IFCRIT] = NNVARfun3(dat_, xx, nnst, lagst);\n",
    "nnst = [20 10];\n",
    "lagst = [1:5];\n",
    "[VD1, INWARD1, OUTWARD1,NET1, IFCRIT1] = NNVARfun3(dat_, xx, nnst, lagst);\n",
    "nnst = [20 15 10]\n",
    "[VD2, INWARD2, OUTWARD2,NET2, IFCRIT2] = NNVARfun3(dat_, xx, nnst, lagst);\n",
    "nnst = [20 15 10 5]\n",
    "[VD3, INWARD3, OUTWARD3,NET3, IFCRIT3] = NNVARfun3(dat_, xx, nnst, lagst);\n",
    "[IFCRIT1 IFCRIT2 IFCRIT3]\n",
    "toc;\n",
    "runtime = toc/60\n",
    "\n",
    " "
   ]
  },
  {
   "cell_type": "code",
   "execution_count": 7,
   "metadata": {},
   "outputs": [
    {
     "name": "stdout",
     "output_type": "stream",
     "text": [
      "\n"
     ]
    },
    {
     "data": {
      "image/png": "[encoded data removed]",
      "text/plain": [
       "<IPython.core.display.Image object>"
      ]
     },
     "metadata": {},
     "output_type": "display_data"
    }
   ],
   "source": [
    "bar(NET3)"
   ]
  },
  {
   "cell_type": "code",
   "execution_count": 4,
   "metadata": {},
   "outputs": [
    {
     "name": "stdout",
     "output_type": "stream",
     "text": [
      "\n",
      "ans =\n",
      "\n",
      "    2.2698    2.2768    2.4567    2.4262\n",
      "\n",
      "\n"
     ]
    }
   ],
   "source": [
    "[IFCRIT IFCRIT1 IFCRIT2 IFCRIT3]\n",
    "\n"
   ]
  },
  {
   "cell_type": "code",
   "execution_count": 44,
   "metadata": {},
   "outputs": [
    {
     "name": "stdout",
     "output_type": "stream",
     "text": [
      "\n",
      "split =\n",
      "\n",
      "        1536\n",
      "\n",
      "\n"
     ]
    }
   ],
   "source": [
    "size(dat_);\n",
    "split = length(dat_)/2"
   ]
  },
  {
   "cell_type": "code",
   "execution_count": 37,
   "metadata": {},
   "outputs": [
    {
     "name": "stdout",
     "output_type": "stream",
     "text": [
      "\n"
     ]
    },
    {
     "data": {
      "image/png": "[encoded data removed]",
      "text/plain": [
       "<IPython.core.display.Image object>"
      ]
     },
     "metadata": {},
     "output_type": "display_data"
    }
   ],
   "source": [
    "Maxval = NET;\n",
    "\n",
    "a1 =subplot(211); ...\n",
    "title('Net Outward Connectedness'); ...\n",
    "bar(Maxval(1:10)); axis([1,10, -1,1]);axis tight;...\n",
    "names = {'BAC';'BK';'BCS';'BBVA'; 'C'; 'CS'; 'DB'; 'GS'; 'HSBC'; 'ING'}; ...\n",
    "set(gca,'xtick',[1:10],'xticklabel',names);...\n",
    "a2 = subplot(212); ...\n",
    "bar(Maxval(11:20)); axis([1,10,-1,1]); axis tight; ...\n",
    "names1 = {'JPM'; 'MS'; ,'MFG'; 'RBC'; 'RBS'; 'SAN'; 'STT'; 'SMFG'; 'UBS'; 'WFC'};\n",
    "set(gca,'xtick',[1:10],'xticklabel',names1);\n",
    "linkaxes([a1, a2], 'y');\n",
    "saveas(gcf, 'NN_NetConnect','eps');"
   ]
  },
  {
   "cell_type": "code",
   "execution_count": 42,
   "metadata": {},
   "outputs": [
    {
     "name": "stdout",
     "output_type": "stream",
     "text": [
      "\n"
     ]
    }
   ],
   "source": [
    "VDD = VD';\n",
    "adj2gephilab('BIS_NN20',VDD);\n",
    "save BIS_NN_14October;\n"
   ]
  },
  {
   "cell_type": "markdown",
   "metadata": {},
   "source": [
    "We see that BK, C, DB, SAN, and UBS are the largest transmitters of risk."
   ]
  },
  {
   "cell_type": "markdown",
   "metadata": {},
   "source": [
    "Lets see if the results are robust to a more complex network, of three hidden layers of [20 10 5]"
   ]
  },
  {
   "cell_type": "code",
   "execution_count": 50,
   "metadata": {},
   "outputs": [
    {
     "name": "stdout",
     "output_type": "stream",
     "text": [
      "\n",
      "ans =\n",
      "\n",
      "        3072           1\n",
      "\n",
      "\n",
      "split =\n",
      "\n",
      "        1536\n",
      "\n",
      "\n",
      "datex = \n",
      "\n",
      "  datetime\n",
      "\n",
      "   21-Nov-2013\n",
      "\n",
      "\n"
     ]
    }
   ],
   "source": [
    "size(date1)\n",
    "split\n",
    "datex = date1(split);\n",
    "datex"
   ]
  },
  {
   "cell_type": "code",
   "execution_count": 58,
   "metadata": {},
   "outputs": [
    {
     "name": "stdout",
     "output_type": "stream",
     "text": [
      "Elapsed time is 129.128782 seconds.\n",
      "\n",
      "runtime =\n",
      "\n",
      "    2.1522\n",
      "\n",
      "\n"
     ]
    }
   ],
   "source": [
    "tic;\n",
    "dat1 = dat_(1:split,:);\n",
    "xx1 = xx(1:split,:);\n",
    "dat2 = dat_(split+1:end,:);\n",
    "xx2 = xx(split+1:end,:);\n",
    "dat1_ = normalize(dat1,'range',[-1,1]);    % dat are the range volatilities of the 20 banks\n",
    "xx1 = normalize(xx1,'range',[-1,1]);\n",
    "dat2_ = normalize(dat2,'range',[-1,1]);    % dat are the range volatilities of the 20 banks\n",
    "xx2 = normalize(xx2,'range',[-1,1]);\n",
    "\n",
    "%  xx are the controls\n",
    "nnst = [20];\n",
    "lagst = [1:5];\n",
    "[VD_1, INWARD_1, OUTWARD_1,NET_1, IFCRIT_1] = NNVARfun3(dat1_, xx1, nnst, lagst);\n",
    "[VD_2, INWARD_2, OUTWARD_2,NET_2, IFCRIT_2] = NNVARfun3(dat2_, xx2, nnst, lagst);\n",
    "toc;\n",
    "runtime = toc/60\n"
   ]
  },
  {
   "cell_type": "code",
   "execution_count": 72,
   "metadata": {},
   "outputs": [
    {
     "name": "stdout",
     "output_type": "stream",
     "text": [
      "\n",
      "ans =\n",
      "\n",
      "   -0.2047    0.1255\n",
      "    0.0435    0.9860\n",
      "    0.1189   -0.2098\n",
      "    0.0333    0.5374\n",
      "   -0.0443   -0.3389\n",
      "   -0.0201   -0.5923\n",
      "    0.2791   -0.1329\n",
      "   -0.0249   -0.0590\n",
      "    0.0797   -0.4302\n",
      "    0.1733    1.2858\n",
      "    0.0444   -0.8234\n",
      "    0.0163    0.0445\n",
      "   -0.1696   -0.7290\n",
      "   -0.0619   -0.6334\n",
      "   -0.1916   -0.1449\n",
      "    0.1072   -0.8791\n",
      "   -0.0489   -0.8425\n",
      "   -0.0120    2.1640\n",
      "   -0.0629    0.3797\n",
      "   -0.0551    0.2922\n",
      "\n",
      "\n"
     ]
    }
   ],
   "source": [
    "[NET_1' NET_2']"
   ]
  },
  {
   "cell_type": "code",
   "execution_count": 68,
   "metadata": {},
   "outputs": [
    {
     "name": "stdout",
     "output_type": "stream",
     "text": [
      "\n"
     ]
    },
    {
     "data": {
      "image/png": "[encoded data removed]",
      "text/plain": [
       "<IPython.core.display.Image object>"
      ]
     },
     "metadata": {},
     "output_type": "display_data"
    }
   ],
   "source": [
    "Maxval = NET_1;\n",
    "\n",
    "subplot(211); ...\n",
    "axval = NET_1;\n",
    "a1 =subplot(211); ...\n",
    "bar(Maxval(1:10)); axis([1,10, -1,1]);axis tight;...\n",
    "title('Net Connectedness, GFC and After');...\n",
    "names = {'BAC';'BK';'BCS';'BBVA'; 'C'; 'CS'; 'DB'; 'GS'; 'HSBC'; 'ING'}; ...\n",
    "set(gca,'xtick',[1:10],'xticklabel',names);...\n",
    "a2 = subplot(212); ...\n",
    "bar(Maxval(11:20)); axis([1,10,-1,1]); axis tight;...\n",
    "names1 = {'JPM'; 'MS'; ,'MFG'; 'RBC'; 'RBS'; 'SAN'; 'STT'; 'SMFG'; 'UBS'; 'WFC'};\n",
    "set(gca,'xtick',[1:10],'xticklabel',names1);\n",
    "linkaxes([a1, a2], 'y');\n",
    "saveas(gcf, 'BIS_NetConnect1.eps', 'eps');\n",
    "\n",
    "\n"
   ]
  },
  {
   "cell_type": "code",
   "execution_count": 73,
   "metadata": {},
   "outputs": [
    {
     "name": "stdout",
     "output_type": "stream",
     "text": [
      "\n"
     ]
    },
    {
     "data": {
      "image/png": "[encoded data removed]",
      "text/plain": [
       "<IPython.core.display.Image object>"
      ]
     },
     "metadata": {},
     "output_type": "display_data"
    }
   ],
   "source": [
    "Maxval = NET_2;\n",
    "\n",
    "subplot(211); ...\n",
    "axval = NET_2;\n",
    "a1 =subplot(211); ...\n",
    "bar(Maxval(1:10)); axis([1,10, -1,1]);axis tight;...\n",
    "title('Net Connectedness, Post-GFC Period');...\n",
    "names = {'BAC';'BK';'BCS';'BBVA'; 'C'; 'CS'; 'DB'; 'GS'; 'HSBC'; 'ING'}; ...\n",
    "set(gca,'xtick',[1:10],'xticklabel',names);...\n",
    "a2 = subplot(212); ...\n",
    "bar(Maxval(11:20)); axis([1,10,-1,1]); axis tight;...\n",
    "names1 = {'JPM'; 'MS'; ,'MFG'; 'RBC'; 'RBS'; 'SAN'; 'STT'; 'SMFG'; 'UBS'; 'WFC'};\n",
    "set(gca,'xtick',[1:10],'xticklabel',names1);\n",
    "linkaxes([a1, a2], 'y');\n",
    "saveas(gcf, 'BIS_NetConnect2.eps', 'eps');"
   ]
  },
  {
   "cell_type": "code",
   "execution_count": 76,
   "metadata": {},
   "outputs": [
    {
     "name": "stdout",
     "output_type": "stream",
     "text": [
      "\n"
     ]
    }
   ],
   "source": [
    "VDD1 = VD_1';\n",
    "VDD2 = VD_2';\n",
    "adj2gephilab('BIS_NN20_1', VDD1);\n",
    "adj2gephilab('BIS_NN20_2', VDD2 );"
   ]
  },
  {
   "cell_type": "markdown",
   "metadata": {},
   "source": [
    "In the more complex network, DB, RCB, SAN and WFC stand out, as well as UBS.  BK is no longer a net transmitter."
   ]
  },
  {
   "cell_type": "code",
   "execution_count": 47,
   "metadata": {},
   "outputs": [
    {
     "name": "stdout",
     "output_type": "stream",
     "text": [
      "\n"
     ]
    }
   ],
   "source": []
  },
  {
   "cell_type": "markdown",
   "metadata": {},
   "source": [
    "Lets try a four layered network"
   ]
  },
  {
   "cell_type": "code",
   "execution_count": 13,
   "metadata": {
    "scrolled": true
   },
   "outputs": [
    {
     "name": "stdout",
     "output_type": "stream",
     "text": [
      "\n",
      "aif =\n",
      "\n",
      "    2.3296\n",
      "\n",
      "\n",
      "bif =\n",
      "\n",
      "    9.3467\n",
      "\n",
      "Elapsed time is 110.275928 seconds.\n",
      "\n",
      "runtime =\n",
      "\n",
      "    1.8379\n",
      "\n",
      "\n"
     ]
    }
   ],
   "source": [
    "tic\n",
    "nnst = [20 15 10 5];\n",
    "lagst = [1:5];\n",
    "[VD2, INWARD2, OUTWARD2,NET2, IFCRIT2] = NNVARfun4(dat_, xx, nnst, lagst);\n",
    "toc\n",
    "runtime = toc/60\n"
   ]
  },
  {
   "cell_type": "code",
   "execution_count": 14,
   "metadata": {},
   "outputs": [
    {
     "name": "stdout",
     "output_type": "stream",
     "text": [
      "\n",
      "ans =\n",
      "\n",
      "    2.3296    2.1568    2.3296\n",
      "    9.3467    8.6531    9.3467\n",
      "    2.4262    2.2462    2.4262\n",
      "\n",
      "\n"
     ]
    }
   ],
   "source": [
    "[IFCRIT IFCRIT1 IFCRIT2]"
   ]
  },
  {
   "cell_type": "markdown",
   "metadata": {},
   "source": [
    "This result shows that the four hidden layer network is worse than the other networks by all three criteria (AIC, BIC, HQIF). Here is what it looks like."
   ]
  },
  {
   "cell_type": "code",
   "execution_count": 15,
   "metadata": {},
   "outputs": [
    {
     "name": "stdout",
     "output_type": "stream",
     "text": [
      "\n"
     ]
    },
    {
     "data": {
      "image/png": "[encoded data removed]",
      "text/plain": [
       "<IPython.core.display.Image object>"
      ]
     },
     "metadata": {},
     "output_type": "display_data"
    }
   ],
   "source": [
    "Maxval = NET2;\n",
    "\n",
    "a1 =subplot(211); ...\n",
    "bar(Maxval(1:10)); axis([1,10, -1,1]);axis tight;...\n",
    "names = {'BAC';'BK';'BCS';'BBVA'; 'C'; 'CS'; 'DB'; 'GS'; 'HSBC'; 'ING'}; ...\n",
    "set(gca,'xtick',[1:10],'xticklabel',names);...\n",
    "a2 = subplot(212); ...\n",
    "bar(Maxval(11:20)); axis([1,10,-1,1]); axis tight; title('Net Connectedness');...\n",
    "names1 = {'JPM'; 'MS'; ,'MFG'; 'RBC'; 'RBS'; 'SAN'; 'STT'; 'SMFG'; 'UBS'; 'WFC'};\n",
    "set(gca,'xtick',[1:10],'xticklabel',names1);\n",
    "linkaxes([a1, a2], 'y');"
   ]
  },
  {
   "cell_type": "markdown",
   "metadata": {},
   "source": [
    "DB stands out in all three, lets try an even more complex network."
   ]
  },
  {
   "cell_type": "code",
   "execution_count": 16,
   "metadata": {},
   "outputs": [
    {
     "name": "stdout",
     "output_type": "stream",
     "text": [
      "\n",
      "aif =\n",
      "\n",
      "    3.1446\n",
      "\n",
      "\n",
      "bif =\n",
      "\n",
      "   12.6188\n",
      "\n",
      "Elapsed time is 132.421842 seconds.\n",
      "\n",
      "runtime =\n",
      "\n",
      "    2.2070\n",
      "\n",
      "\n"
     ]
    }
   ],
   "source": [
    "tic\n",
    "nnst = [25 20 15 10 5];\n",
    "lagst = [1:5];\n",
    "[VD3, INWARD3, OUTWARD3,NET3, IFCRIT3] = NNVARfun4(dat_, xx, nnst, lagst);\n",
    "toc;\n",
    "runtime = toc/60"
   ]
  },
  {
   "cell_type": "code",
   "execution_count": 17,
   "metadata": {},
   "outputs": [
    {
     "name": "stdout",
     "output_type": "stream",
     "text": [
      "\n",
      "ans =\n",
      "\n",
      "    2.3296    2.1568    2.3296    3.1446\n",
      "    9.3467    8.6531    9.3467   12.6188\n",
      "    2.4262    2.2462    2.4262    3.2751\n",
      "\n",
      "\n"
     ]
    }
   ],
   "source": [
    "[IFCRIT IFCRIT1 IFCRIT2 IFCRIT3]"
   ]
  },
  {
   "cell_type": "markdown",
   "metadata": {},
   "source": [
    "Thus the network with three hidden layers [20 10 5], appears to be best, by all three criteria.  Let's examine the network connectedness.  We create nodes and edges for the Gephi software."
   ]
  },
  {
   "cell_type": "code",
   "execution_count": 64,
   "metadata": {},
   "outputs": [
    {
     "name": "stdout",
     "output_type": "stream",
     "text": [
      "--- adjgephilab not found. Showing help for adj2gephilab instead. ---\n",
      "\n",
      "  Convert ana adjacency matrix of a graph to 2 spreadhseets csv files\n",
      "  one for the edge table and the other for node table.\n",
      "  The files _node.csv and _edge.csv have to be open \n",
      " in Gephi via Data Laboratory.\n",
      "  INPUTS:\n",
      "            filename: string for the prefix name of the two files .csv\n",
      "            ADJ: the adjacency matrix\n",
      "            parameters: vector as properties of the node to use as\n",
      "                               attributes of them.\n",
      "  OUTPUTS:\n",
      "             two csv spreadsheet files: \n",
      "                        filename_node.csv\n",
      "                        filename_edge.csv\n",
      "              EdgeL = it returns the edge list corresponing to the\n",
      "              adjacency matrix. (it can be saved to be open in Gephi too)\n",
      " \n",
      "  The two files must be open in Gephi via the Data Laboratory\n",
      "\n",
      "\n"
     ]
    }
   ],
   "source": [
    "help adjgephilab"
   ]
  },
  {
   "cell_type": "code",
   "execution_count": 22,
   "metadata": {},
   "outputs": [
    {
     "name": "stdout",
     "output_type": "stream",
     "text": [
      "\n",
      "NAMES =\n",
      "\n",
      "  20x1 cell array\n",
      "\n",
      "    {'BAC' }\n",
      "    {'BK'  }\n",
      "    {'BCS' }\n",
      "    {'BBVA'}\n",
      "    {'C'   }\n",
      "    {'CS'  }\n",
      "    {'DB'  }\n",
      "    {'GS'  }\n",
      "    {'HSBC'}\n",
      "    {'ING' }\n",
      "    {'JPM' }\n",
      "    {'MS'  }\n",
      "    {'MFG' }\n",
      "    {'RBC' }\n",
      "    {'RBS' }\n",
      "    {'SAN' }\n",
      "    {'STT' }\n",
      "    {'SMFG'}\n",
      "    {'UBS' }\n",
      "    {'WFC' }\n",
      "\n",
      "\n"
     ]
    }
   ],
   "source": [
    "VDD1 = VD1'; \n",
    "VDD1;\n",
    "NAMES = [names; names1];\n",
    "NAMES\n",
    "return;\n",
    "NAMES1 = cell2table(NAMES);\n",
    "NAMES2 = table2array(NAMES1);\n",
    "\n",
    "%adj2gephilab('BIS_Range_NN',VDD1,'');\n",
    "NAMES = BankNames'\n",
    "G = digraph(VDD1, NAMES2, 'omitselfloops');\n",
    " G.Edges;\n",
    " LWidths = 3*G.Edges.Weight/max(G.Edges.Weight);\n",
    "% plot(G,'EdgeLabel',G.Edges.Weight,'LineWidth',LWidths)\n",
    "  p = plot(G, 'Layout', 'force', 'NodeLabelColor', 'k','NodeFontSize', 15, 'LineWidth',  LWidths,   'EdgeColor','b' );  \n",
    " p.ArrowSize = 5;\n",
    "  p.Marker = 's';\n",
    "p.NodeColor = 'r';\n",
    "p = plot(G, 'Layout', 'force', 'UseGravity', true, 'NodeLabelColor', 'r','NodeFontSize', 12, 'LineWidth',  LWidths,   'EdgeColor','k' );"
   ]
  },
  {
   "cell_type": "code",
   "execution_count": 19,
   "metadata": {},
   "outputs": [
    {
     "name": "stdout",
     "output_type": "stream",
     "text": [
      "\n"
     ]
    }
   ],
   "source": [
    "save BIS_NN_Data;"
   ]
  },
  {
   "cell_type": "code",
   "execution_count": null,
   "metadata": {},
   "outputs": [],
   "source": []
  }
 ],
 "metadata": {
  "kernelspec": {
   "display_name": "Matlab",
   "language": "matlab",
   "name": "matlab"
  },
  "language_info": {
   "codemirror_mode": "octave",
   "file_extension": ".m",
   "help_links": [
    {
     "text": "MetaKernel Magics",
     "url": "https://metakernel.readthedocs.io/en/latest/source/README.html"
    }
   ],
   "mimetype": "text/x-octave",
   "name": "matlab",
   "version": "0.16.11"
  }
 },
 "nbformat": 4,
 "nbformat_minor": 4
}
