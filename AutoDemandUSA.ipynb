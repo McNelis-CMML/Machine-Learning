{
 "cells": [
  {
   "cell_type": "markdown",
   "metadata": {},
   "source": [
    "$\\textbf{Introduction}$\n",
    "\n",
    "This is a study of automobile demand, as a function of disposable income, US mortage rates and the rate of change of automobile prices.\n",
    "\n",
    "First lets read in the data from the spread sheets."
   ]
  },
  {
   "cell_type": "code",
   "execution_count": 10,
   "metadata": {},
   "outputs": [
    {
     "name": "stdout",
     "output_type": "stream",
     "text": [
      "Requirement already up-to-date: pandas in c:\\users\\apostlepaul1906\\anaconda3\\lib\\site-packages (1.3.5)\n",
      "Requirement already satisfied, skipping upgrade: python-dateutil>=2.7.3 in c:\\users\\apostlepaul1906\\anaconda3\\lib\\site-packages (from pandas) (2.8.1)\n",
      "Requirement already satisfied, skipping upgrade: pytz>=2017.3 in c:\\users\\apostlepaul1906\\anaconda3\\lib\\site-packages (from pandas) (2019.3)\n",
      "Requirement already satisfied, skipping upgrade: numpy>=1.17.3; platform_machine != \"aarch64\" and platform_machine != \"arm64\" and python_version < \"3.10\" in c:\\users\\apostlepaul1906\\anaconda3\\lib\\site-packages (from pandas) (1.18.1)\n",
      "Requirement already satisfied, skipping upgrade: six>=1.5 in c:\\users\\apostlepaul1906\\anaconda3\\lib\\site-packages (from python-dateutil>=2.7.3->pandas) (1.14.0)\n"
     ]
    }
   ],
   "source": [
    "# ! pip install --upgrade pandas"
   ]
  },
  {
   "cell_type": "code",
   "execution_count": 1,
   "metadata": {},
   "outputs": [],
   "source": [
    "\n",
    "import pandas as pd\n",
    "import os, sys, re, datetime\n",
    "from datetime import datetime \n",
    "import time\n",
    "from datetime import datetime, date, time, timedelta\n",
    "\n",
    "df1 = pd.read_excel('AutoPrices.xls', header=0, names=['observation_date','CUSR0000SETA01'],\n",
    "                   parse_dates=['observation_date']).iloc[10:]\n",
    "df1.set_index('observation_date', inplace=True)\n",
    "df1.index= pd.to_datetime(df1.index)\n",
    "\n",
    "df2 = pd.read_excel('DAUPSA.xls', header=0, names=['observation_date','DAUPSA'],\n",
    "                   parse_dates=['observation_date']).iloc[10:]\n",
    "df2.set_index('observation_date', inplace=True)\n",
    "df2.index= pd.to_datetime(df2.index)\n",
    "\n",
    "df3 = pd.read_excel('DisposIncome.xls', header=0, names=['observation_date','DSPIC96'],\n",
    "                    parse_dates=['observation_date']).iloc[10:]\n",
    "df3.set_index('observation_date', inplace=True)\n",
    "df3.index= pd.to_datetime(df3.index)\n",
    "\n",
    "\n",
    "\n",
    "df4 = pd.read_excel('MORTGAGE15US.xls', header=0, names=['observation_date','MORTGAGE15US'], \n",
    "                    parse_dates=['observation_date']).iloc[10:]\n",
    "df4.set_index('observation_date', inplace=True)\n",
    "df4.index= pd.to_datetime(df4.index)\n",
    "df4 = df4.resample('M').last()\n",
    "df4.index=df4.index+timedelta(days=1)\n"
   ]
  },
  {
   "cell_type": "code",
   "execution_count": 2,
   "metadata": {},
   "outputs": [
    {
     "data": {
      "text/html": [
       "<div>\n",
       "<style scoped>\n",
       "    .dataframe tbody tr th:only-of-type {\n",
       "        vertical-align: middle;\n",
       "    }\n",
       "\n",
       "    .dataframe tbody tr th {\n",
       "        vertical-align: top;\n",
       "    }\n",
       "\n",
       "    .dataframe thead th {\n",
       "        text-align: right;\n",
       "    }\n",
       "</style>\n",
       "<table border=\"1\" class=\"dataframe\">\n",
       "  <thead>\n",
       "    <tr style=\"text-align: right;\">\n",
       "      <th></th>\n",
       "      <th>CUSR0000SETA01</th>\n",
       "      <th>DAUPSA</th>\n",
       "      <th>DSPIC96</th>\n",
       "      <th>MORTGAGE15US</th>\n",
       "    </tr>\n",
       "    <tr>\n",
       "      <th>observation_date</th>\n",
       "      <th></th>\n",
       "      <th></th>\n",
       "      <th></th>\n",
       "      <th></th>\n",
       "    </tr>\n",
       "  </thead>\n",
       "  <tbody>\n",
       "    <tr>\n",
       "      <th>1993-01-01</th>\n",
       "      <td>130.9</td>\n",
       "      <td>512.9</td>\n",
       "      <td>7237.6</td>\n",
       "      <td>7.68</td>\n",
       "    </tr>\n",
       "    <tr>\n",
       "      <th>1993-02-01</th>\n",
       "      <td>131.1</td>\n",
       "      <td>503.8</td>\n",
       "      <td>7271.8</td>\n",
       "      <td>7.37</td>\n",
       "    </tr>\n",
       "    <tr>\n",
       "      <th>1993-03-01</th>\n",
       "      <td>131.3</td>\n",
       "      <td>498.1</td>\n",
       "      <td>7249.2</td>\n",
       "      <td>7.02</td>\n",
       "    </tr>\n",
       "    <tr>\n",
       "      <th>1993-04-01</th>\n",
       "      <td>131.7</td>\n",
       "      <td>510.2</td>\n",
       "      <td>7286.8</td>\n",
       "      <td>7.01</td>\n",
       "    </tr>\n",
       "    <tr>\n",
       "      <th>1993-05-01</th>\n",
       "      <td>132.2</td>\n",
       "      <td>512.8</td>\n",
       "      <td>7276.3</td>\n",
       "      <td>6.91</td>\n",
       "    </tr>\n",
       "    <tr>\n",
       "      <th>...</th>\n",
       "      <td>...</td>\n",
       "      <td>...</td>\n",
       "      <td>...</td>\n",
       "      <td>...</td>\n",
       "    </tr>\n",
       "    <tr>\n",
       "      <th>2021-05-01</th>\n",
       "      <td>151.693</td>\n",
       "      <td>128.1</td>\n",
       "      <td>15598.1</td>\n",
       "      <td>2.31</td>\n",
       "    </tr>\n",
       "    <tr>\n",
       "      <th>2021-06-01</th>\n",
       "      <td>154.68</td>\n",
       "      <td>120.3</td>\n",
       "      <td>15517.7</td>\n",
       "      <td>2.27</td>\n",
       "    </tr>\n",
       "    <tr>\n",
       "      <th>2021-07-01</th>\n",
       "      <td>157.34</td>\n",
       "      <td>142.2</td>\n",
       "      <td>15617.6</td>\n",
       "      <td>2.34</td>\n",
       "    </tr>\n",
       "    <tr>\n",
       "      <th>2021-08-01</th>\n",
       "      <td>159.267</td>\n",
       "      <td>122.9</td>\n",
       "      <td>15587.5</td>\n",
       "      <td>2.10</td>\n",
       "    </tr>\n",
       "    <tr>\n",
       "      <th>2021-09-01</th>\n",
       "      <td>161.33</td>\n",
       "      <td>84.2</td>\n",
       "      <td>15334.7</td>\n",
       "      <td>2.17</td>\n",
       "    </tr>\n",
       "  </tbody>\n",
       "</table>\n",
       "<p>345 rows × 4 columns</p>\n",
       "</div>"
      ],
      "text/plain": [
       "                 CUSR0000SETA01 DAUPSA  DSPIC96  MORTGAGE15US\n",
       "observation_date                                             \n",
       "1993-01-01                130.9  512.9   7237.6          7.68\n",
       "1993-02-01                131.1  503.8   7271.8          7.37\n",
       "1993-03-01                131.3  498.1   7249.2          7.02\n",
       "1993-04-01                131.7  510.2   7286.8          7.01\n",
       "1993-05-01                132.2  512.8   7276.3          6.91\n",
       "...                         ...    ...      ...           ...\n",
       "2021-05-01              151.693  128.1  15598.1          2.31\n",
       "2021-06-01               154.68  120.3  15517.7          2.27\n",
       "2021-07-01               157.34  142.2  15617.6          2.34\n",
       "2021-08-01              159.267  122.9  15587.5          2.10\n",
       "2021-09-01               161.33   84.2  15334.7          2.17\n",
       "\n",
       "[345 rows x 4 columns]"
      ]
     },
     "execution_count": 2,
     "metadata": {},
     "output_type": "execute_result"
    }
   ],
   "source": [
    "df1_2 = pd.merge(df1, df2, left_index=True, right_index=True)\n",
    "df1_2_3 =pd.merge(df1_2, df3, left_index=True, right_index=True)\n",
    "df =pd.merge(df1_2_3, df4, left_index=True, right_index=True)\n",
    "df"
   ]
  },
  {
   "cell_type": "code",
   "execution_count": 3,
   "metadata": {},
   "outputs": [
    {
     "data": {
      "text/html": [
       "<div>\n",
       "<style scoped>\n",
       "    .dataframe tbody tr th:only-of-type {\n",
       "        vertical-align: middle;\n",
       "    }\n",
       "\n",
       "    .dataframe tbody tr th {\n",
       "        vertical-align: top;\n",
       "    }\n",
       "\n",
       "    .dataframe thead th {\n",
       "        text-align: right;\n",
       "    }\n",
       "</style>\n",
       "<table border=\"1\" class=\"dataframe\">\n",
       "  <thead>\n",
       "    <tr style=\"text-align: right;\">\n",
       "      <th></th>\n",
       "      <th>AutoPrice</th>\n",
       "      <th>AutoProd</th>\n",
       "      <th>DisIncome</th>\n",
       "      <th>MortRate</th>\n",
       "    </tr>\n",
       "    <tr>\n",
       "      <th>observation_date</th>\n",
       "      <th></th>\n",
       "      <th></th>\n",
       "      <th></th>\n",
       "      <th></th>\n",
       "    </tr>\n",
       "  </thead>\n",
       "  <tbody>\n",
       "    <tr>\n",
       "      <th>1993-01-01</th>\n",
       "      <td>130.9</td>\n",
       "      <td>512.9</td>\n",
       "      <td>7237.6</td>\n",
       "      <td>7.68</td>\n",
       "    </tr>\n",
       "    <tr>\n",
       "      <th>1993-02-01</th>\n",
       "      <td>131.1</td>\n",
       "      <td>503.8</td>\n",
       "      <td>7271.8</td>\n",
       "      <td>7.37</td>\n",
       "    </tr>\n",
       "    <tr>\n",
       "      <th>1993-03-01</th>\n",
       "      <td>131.3</td>\n",
       "      <td>498.1</td>\n",
       "      <td>7249.2</td>\n",
       "      <td>7.02</td>\n",
       "    </tr>\n",
       "    <tr>\n",
       "      <th>1993-04-01</th>\n",
       "      <td>131.7</td>\n",
       "      <td>510.2</td>\n",
       "      <td>7286.8</td>\n",
       "      <td>7.01</td>\n",
       "    </tr>\n",
       "    <tr>\n",
       "      <th>1993-05-01</th>\n",
       "      <td>132.2</td>\n",
       "      <td>512.8</td>\n",
       "      <td>7276.3</td>\n",
       "      <td>6.91</td>\n",
       "    </tr>\n",
       "    <tr>\n",
       "      <th>...</th>\n",
       "      <td>...</td>\n",
       "      <td>...</td>\n",
       "      <td>...</td>\n",
       "      <td>...</td>\n",
       "    </tr>\n",
       "    <tr>\n",
       "      <th>2021-05-01</th>\n",
       "      <td>151.693</td>\n",
       "      <td>128.1</td>\n",
       "      <td>15598.1</td>\n",
       "      <td>2.31</td>\n",
       "    </tr>\n",
       "    <tr>\n",
       "      <th>2021-06-01</th>\n",
       "      <td>154.68</td>\n",
       "      <td>120.3</td>\n",
       "      <td>15517.7</td>\n",
       "      <td>2.27</td>\n",
       "    </tr>\n",
       "    <tr>\n",
       "      <th>2021-07-01</th>\n",
       "      <td>157.34</td>\n",
       "      <td>142.2</td>\n",
       "      <td>15617.6</td>\n",
       "      <td>2.34</td>\n",
       "    </tr>\n",
       "    <tr>\n",
       "      <th>2021-08-01</th>\n",
       "      <td>159.267</td>\n",
       "      <td>122.9</td>\n",
       "      <td>15587.5</td>\n",
       "      <td>2.10</td>\n",
       "    </tr>\n",
       "    <tr>\n",
       "      <th>2021-09-01</th>\n",
       "      <td>161.33</td>\n",
       "      <td>84.2</td>\n",
       "      <td>15334.7</td>\n",
       "      <td>2.17</td>\n",
       "    </tr>\n",
       "  </tbody>\n",
       "</table>\n",
       "<p>345 rows × 4 columns</p>\n",
       "</div>"
      ],
      "text/plain": [
       "                 AutoPrice AutoProd DisIncome  MortRate\n",
       "observation_date                                       \n",
       "1993-01-01           130.9    512.9    7237.6      7.68\n",
       "1993-02-01           131.1    503.8    7271.8      7.37\n",
       "1993-03-01           131.3    498.1    7249.2      7.02\n",
       "1993-04-01           131.7    510.2    7286.8      7.01\n",
       "1993-05-01           132.2    512.8    7276.3      6.91\n",
       "...                    ...      ...       ...       ...\n",
       "2021-05-01         151.693    128.1   15598.1      2.31\n",
       "2021-06-01          154.68    120.3   15517.7      2.27\n",
       "2021-07-01          157.34    142.2   15617.6      2.34\n",
       "2021-08-01         159.267    122.9   15587.5      2.10\n",
       "2021-09-01          161.33     84.2   15334.7      2.17\n",
       "\n",
       "[345 rows x 4 columns]"
      ]
     },
     "execution_count": 3,
     "metadata": {},
     "output_type": "execute_result"
    }
   ],
   "source": [
    "df = df.rename({'CUSR0000SETA01':'AutoPrice', 'DAUPSA':'AutoProd','DSPIC96':'DisIncome', 'MORTGAGE15US':'MortRate'}, axis=1)\n",
    "df"
   ]
  },
  {
   "cell_type": "code",
   "execution_count": 4,
   "metadata": {},
   "outputs": [],
   "source": [
    "df = df.astype(dtype={'AutoPrice':float,'AutoProd':float,'DisIncome':float, 'MortRate':float})"
   ]
  },
  {
   "cell_type": "code",
   "execution_count": 5,
   "metadata": {},
   "outputs": [
    {
     "data": {
      "text/html": [
       "<div>\n",
       "<style scoped>\n",
       "    .dataframe tbody tr th:only-of-type {\n",
       "        vertical-align: middle;\n",
       "    }\n",
       "\n",
       "    .dataframe tbody tr th {\n",
       "        vertical-align: top;\n",
       "    }\n",
       "\n",
       "    .dataframe thead th {\n",
       "        text-align: right;\n",
       "    }\n",
       "</style>\n",
       "<table border=\"1\" class=\"dataframe\">\n",
       "  <thead>\n",
       "    <tr style=\"text-align: right;\">\n",
       "      <th></th>\n",
       "      <th>AutoPrice</th>\n",
       "      <th>AutoProd</th>\n",
       "      <th>DisIncome</th>\n",
       "      <th>MortRate</th>\n",
       "    </tr>\n",
       "    <tr>\n",
       "      <th>observation_date</th>\n",
       "      <th></th>\n",
       "      <th></th>\n",
       "      <th></th>\n",
       "      <th></th>\n",
       "    </tr>\n",
       "  </thead>\n",
       "  <tbody>\n",
       "    <tr>\n",
       "      <th>1993-01-01</th>\n",
       "      <td>130.9</td>\n",
       "      <td>512.9</td>\n",
       "      <td>7237.6</td>\n",
       "      <td>7.68</td>\n",
       "    </tr>\n",
       "    <tr>\n",
       "      <th>1993-02-01</th>\n",
       "      <td>131.1</td>\n",
       "      <td>503.8</td>\n",
       "      <td>7271.8</td>\n",
       "      <td>7.37</td>\n",
       "    </tr>\n",
       "    <tr>\n",
       "      <th>1993-03-01</th>\n",
       "      <td>131.3</td>\n",
       "      <td>498.1</td>\n",
       "      <td>7249.2</td>\n",
       "      <td>7.02</td>\n",
       "    </tr>\n",
       "    <tr>\n",
       "      <th>1993-04-01</th>\n",
       "      <td>131.7</td>\n",
       "      <td>510.2</td>\n",
       "      <td>7286.8</td>\n",
       "      <td>7.01</td>\n",
       "    </tr>\n",
       "    <tr>\n",
       "      <th>1993-05-01</th>\n",
       "      <td>132.2</td>\n",
       "      <td>512.8</td>\n",
       "      <td>7276.3</td>\n",
       "      <td>6.91</td>\n",
       "    </tr>\n",
       "    <tr>\n",
       "      <th>1993-06-01</th>\n",
       "      <td>132.3</td>\n",
       "      <td>489.5</td>\n",
       "      <td>7262.9</td>\n",
       "      <td>6.99</td>\n",
       "    </tr>\n",
       "    <tr>\n",
       "      <th>1993-07-01</th>\n",
       "      <td>132.9</td>\n",
       "      <td>468.1</td>\n",
       "      <td>7281.2</td>\n",
       "      <td>6.84</td>\n",
       "    </tr>\n",
       "    <tr>\n",
       "      <th>1993-08-01</th>\n",
       "      <td>133.4</td>\n",
       "      <td>457.1</td>\n",
       "      <td>7291.8</td>\n",
       "      <td>6.75</td>\n",
       "    </tr>\n",
       "    <tr>\n",
       "      <th>1993-09-01</th>\n",
       "      <td>133.6</td>\n",
       "      <td>441.7</td>\n",
       "      <td>7271.9</td>\n",
       "      <td>6.49</td>\n",
       "    </tr>\n",
       "    <tr>\n",
       "      <th>1993-10-01</th>\n",
       "      <td>134.2</td>\n",
       "      <td>502.7</td>\n",
       "      <td>7236.4</td>\n",
       "      <td>6.47</td>\n",
       "    </tr>\n",
       "    <tr>\n",
       "      <th>1993-11-01</th>\n",
       "      <td>134.6</td>\n",
       "      <td>535.5</td>\n",
       "      <td>7256.4</td>\n",
       "      <td>6.40</td>\n",
       "    </tr>\n",
       "    <tr>\n",
       "      <th>1993-12-01</th>\n",
       "      <td>134.9</td>\n",
       "      <td>546.4</td>\n",
       "      <td>7503.7</td>\n",
       "      <td>6.84</td>\n",
       "    </tr>\n",
       "    <tr>\n",
       "      <th>1994-01-01</th>\n",
       "      <td>135.3</td>\n",
       "      <td>576.7</td>\n",
       "      <td>7363.1</td>\n",
       "      <td>6.63</td>\n",
       "    </tr>\n",
       "    <tr>\n",
       "      <th>1994-02-01</th>\n",
       "      <td>135.7</td>\n",
       "      <td>576.1</td>\n",
       "      <td>7377.2</td>\n",
       "      <td>6.47</td>\n",
       "    </tr>\n",
       "    <tr>\n",
       "      <th>1994-03-01</th>\n",
       "      <td>136.1</td>\n",
       "      <td>570.5</td>\n",
       "      <td>7401.7</td>\n",
       "      <td>6.80</td>\n",
       "    </tr>\n",
       "    <tr>\n",
       "      <th>1994-04-01</th>\n",
       "      <td>136.4</td>\n",
       "      <td>543.8</td>\n",
       "      <td>7402.0</td>\n",
       "      <td>7.30</td>\n",
       "    </tr>\n",
       "    <tr>\n",
       "      <th>1994-05-01</th>\n",
       "      <td>137.0</td>\n",
       "      <td>544.9</td>\n",
       "      <td>7487.4</td>\n",
       "      <td>7.85</td>\n",
       "    </tr>\n",
       "    <tr>\n",
       "      <th>1994-06-01</th>\n",
       "      <td>137.5</td>\n",
       "      <td>545.3</td>\n",
       "      <td>7475.5</td>\n",
       "      <td>7.99</td>\n",
       "    </tr>\n",
       "    <tr>\n",
       "      <th>1994-07-01</th>\n",
       "      <td>138.1</td>\n",
       "      <td>540.9</td>\n",
       "      <td>7481.7</td>\n",
       "      <td>8.00</td>\n",
       "    </tr>\n",
       "    <tr>\n",
       "      <th>1994-08-01</th>\n",
       "      <td>138.4</td>\n",
       "      <td>493.1</td>\n",
       "      <td>7490.5</td>\n",
       "      <td>8.09</td>\n",
       "    </tr>\n",
       "  </tbody>\n",
       "</table>\n",
       "</div>"
      ],
      "text/plain": [
       "                  AutoPrice  AutoProd  DisIncome  MortRate\n",
       "observation_date                                          \n",
       "1993-01-01            130.9     512.9     7237.6      7.68\n",
       "1993-02-01            131.1     503.8     7271.8      7.37\n",
       "1993-03-01            131.3     498.1     7249.2      7.02\n",
       "1993-04-01            131.7     510.2     7286.8      7.01\n",
       "1993-05-01            132.2     512.8     7276.3      6.91\n",
       "1993-06-01            132.3     489.5     7262.9      6.99\n",
       "1993-07-01            132.9     468.1     7281.2      6.84\n",
       "1993-08-01            133.4     457.1     7291.8      6.75\n",
       "1993-09-01            133.6     441.7     7271.9      6.49\n",
       "1993-10-01            134.2     502.7     7236.4      6.47\n",
       "1993-11-01            134.6     535.5     7256.4      6.40\n",
       "1993-12-01            134.9     546.4     7503.7      6.84\n",
       "1994-01-01            135.3     576.7     7363.1      6.63\n",
       "1994-02-01            135.7     576.1     7377.2      6.47\n",
       "1994-03-01            136.1     570.5     7401.7      6.80\n",
       "1994-04-01            136.4     543.8     7402.0      7.30\n",
       "1994-05-01            137.0     544.9     7487.4      7.85\n",
       "1994-06-01            137.5     545.3     7475.5      7.99\n",
       "1994-07-01            138.1     540.9     7481.7      8.00\n",
       "1994-08-01            138.4     493.1     7490.5      8.09"
      ]
     },
     "execution_count": 5,
     "metadata": {},
     "output_type": "execute_result"
    }
   ],
   "source": [
    "df.head(20)"
   ]
  },
  {
   "cell_type": "markdown",
   "metadata": {},
   "source": [
    "- lets start from 94\n"
   ]
  },
  {
   "cell_type": "code",
   "execution_count": 6,
   "metadata": {},
   "outputs": [
    {
     "data": {
      "text/plain": [
       "((345, 4), (333, 4), (333, 4))"
      ]
     },
     "execution_count": 6,
     "metadata": {},
     "output_type": "execute_result"
    }
   ],
   "source": [
    "df_cur = df.iloc[12:] # shift one year later\n",
    "df_prev = df.iloc[:-12] \n",
    "df.shape, df_cur.shape, df_prev.shape"
   ]
  },
  {
   "cell_type": "code",
   "execution_count": null,
   "metadata": {},
   "outputs": [],
   "source": []
  },
  {
   "cell_type": "markdown",
   "metadata": {},
   "source": [
    "Now let's pick out the arrays and look at the data, we see the deep drop in Mortgage Rates after 2010"
   ]
  },
  {
   "cell_type": "code",
   "execution_count": 7,
   "metadata": {},
   "outputs": [
    {
     "data": {
      "image/png": "[encoded data removed]",
      "text/plain": [
       "<Figure size 432x288 with 1 Axes>"
      ]
     },
     "metadata": {
      "needs_background": "light"
     },
     "output_type": "display_data"
    }
   ],
   "source": [
    "#!pip install --upgrade matplotlib\n",
    "import matplotlib.pyplot as plt\n",
    "\n",
    "df.plot(y='MortRate')\n",
    "plt.grid(True)"
   ]
  },
  {
   "cell_type": "markdown",
   "metadata": {},
   "source": [
    "## Data Transformation"
   ]
  },
  {
   "cell_type": "code",
   "execution_count": 8,
   "metadata": {},
   "outputs": [
    {
     "name": "stdout",
     "output_type": "stream",
     "text": [
      "(333,)\n",
      "(333,)\n",
      "(333,)\n",
      "(333,)\n"
     ]
    }
   ],
   "source": [
    "import numpy as np\n",
    "df_transformed = pd.DataFrame(columns=df.columns)\n",
    "for col in df.columns:\n",
    "    df_transformed[col] =  np.log(df_cur[col].values) - np.log(df_prev[col].values)\n",
    "    print(df_cur[col].values.shape)\n",
    "df_transformed.index = df_cur.index"
   ]
  },
  {
   "cell_type": "code",
   "execution_count": 9,
   "metadata": {},
   "outputs": [
    {
     "data": {
      "image/png": "[encoded data removed]",
      "text/plain": [
       "<Figure size 720x720 with 3 Axes>"
      ]
     },
     "metadata": {
      "needs_background": "light"
     },
     "output_type": "display_data"
    }
   ],
   "source": [
    "import matplotlib.pyplot as plt\n",
    "#!pip install tensorflow\n",
    "#import tensorflow as tf\n",
    "fig,axes = plt.subplots(nrows=3,figsize=(10,10))\n",
    "ax = axes[0]\n",
    "df_transformed.plot(ax=ax,title='Disposable Income', y='DisIncome')\n",
    "ax.grid(True)\n",
    "ax = axes[1]\n",
    "df_transformed.plot(ax=ax,y='AutoProd', title='Automobile Production')\n",
    "ax.grid(True)\n",
    "ax = axes[2]\n",
    "df_transformed.plot(ax=ax,y='AutoPrice', title='Automobile Prices')\n",
    "ax.grid(True)\n",
    "fig.tight_layout(pad=3.0)\n"
   ]
  },
  {
   "cell_type": "code",
   "execution_count": 10,
   "metadata": {},
   "outputs": [
    {
     "data": {
      "text/html": [
       "<div>\n",
       "<style scoped>\n",
       "    .dataframe tbody tr th:only-of-type {\n",
       "        vertical-align: middle;\n",
       "    }\n",
       "\n",
       "    .dataframe tbody tr th {\n",
       "        vertical-align: top;\n",
       "    }\n",
       "\n",
       "    .dataframe thead th {\n",
       "        text-align: right;\n",
       "    }\n",
       "</style>\n",
       "<table border=\"1\" class=\"dataframe\">\n",
       "  <thead>\n",
       "    <tr style=\"text-align: right;\">\n",
       "      <th></th>\n",
       "      <th>AutoPrice</th>\n",
       "      <th>AutoProd</th>\n",
       "      <th>DisIncome</th>\n",
       "      <th>MortRate</th>\n",
       "    </tr>\n",
       "    <tr>\n",
       "      <th>observation_date</th>\n",
       "      <th></th>\n",
       "      <th></th>\n",
       "      <th></th>\n",
       "      <th></th>\n",
       "    </tr>\n",
       "  </thead>\n",
       "  <tbody>\n",
       "    <tr>\n",
       "      <th>1995-01-01</th>\n",
       "      <td>0.032718</td>\n",
       "      <td>-0.001736</td>\n",
       "      <td>0.038708</td>\n",
       "      <td>0.284283</td>\n",
       "    </tr>\n",
       "    <tr>\n",
       "      <th>1995-02-01</th>\n",
       "      <td>0.030481</td>\n",
       "      <td>-0.012928</td>\n",
       "      <td>0.038805</td>\n",
       "      <td>0.303020</td>\n",
       "    </tr>\n",
       "    <tr>\n",
       "      <th>1995-03-01</th>\n",
       "      <td>0.028253</td>\n",
       "      <td>0.031404</td>\n",
       "      <td>0.038250</td>\n",
       "      <td>0.204141</td>\n",
       "    </tr>\n",
       "    <tr>\n",
       "      <th>1995-04-01</th>\n",
       "      <td>0.030327</td>\n",
       "      <td>-0.036327</td>\n",
       "      <td>0.030809</td>\n",
       "      <td>0.086555</td>\n",
       "    </tr>\n",
       "    <tr>\n",
       "      <th>1995-05-01</th>\n",
       "      <td>0.028069</td>\n",
       "      <td>-0.065408</td>\n",
       "      <td>0.029413</td>\n",
       "      <td>-0.006390</td>\n",
       "    </tr>\n",
       "    <tr>\n",
       "      <th>...</th>\n",
       "      <td>...</td>\n",
       "      <td>...</td>\n",
       "      <td>...</td>\n",
       "      <td>...</td>\n",
       "    </tr>\n",
       "    <tr>\n",
       "      <th>2021-05-01</th>\n",
       "      <td>0.032890</td>\n",
       "      <td>0.969188</td>\n",
       "      <td>-0.046038</td>\n",
       "      <td>-0.181600</td>\n",
       "    </tr>\n",
       "    <tr>\n",
       "      <th>2021-06-01</th>\n",
       "      <td>0.051273</td>\n",
       "      <td>-0.156641</td>\n",
       "      <td>-0.034182</td>\n",
       "      <td>-0.143394</td>\n",
       "    </tr>\n",
       "    <tr>\n",
       "      <th>2021-07-01</th>\n",
       "      <td>0.061663</td>\n",
       "      <td>-0.418044</td>\n",
       "      <td>-0.033639</td>\n",
       "      <td>-0.101507</td>\n",
       "    </tr>\n",
       "    <tr>\n",
       "      <th>2021-08-01</th>\n",
       "      <td>0.073485</td>\n",
       "      <td>-0.466744</td>\n",
       "      <td>0.002158</td>\n",
       "      <td>-0.178345</td>\n",
       "    </tr>\n",
       "    <tr>\n",
       "      <th>2021-09-01</th>\n",
       "      <td>0.083810</td>\n",
       "      <td>-0.848993</td>\n",
       "      <td>-0.019931</td>\n",
       "      <td>-0.125434</td>\n",
       "    </tr>\n",
       "  </tbody>\n",
       "</table>\n",
       "<p>321 rows × 4 columns</p>\n",
       "</div>"
      ],
      "text/plain": [
       "                  AutoPrice  AutoProd  DisIncome  MortRate\n",
       "observation_date                                          \n",
       "1995-01-01         0.032718 -0.001736   0.038708  0.284283\n",
       "1995-02-01         0.030481 -0.012928   0.038805  0.303020\n",
       "1995-03-01         0.028253  0.031404   0.038250  0.204141\n",
       "1995-04-01         0.030327 -0.036327   0.030809  0.086555\n",
       "1995-05-01         0.028069 -0.065408   0.029413 -0.006390\n",
       "...                     ...       ...        ...       ...\n",
       "2021-05-01         0.032890  0.969188  -0.046038 -0.181600\n",
       "2021-06-01         0.051273 -0.156641  -0.034182 -0.143394\n",
       "2021-07-01         0.061663 -0.418044  -0.033639 -0.101507\n",
       "2021-08-01         0.073485 -0.466744   0.002158 -0.178345\n",
       "2021-09-01         0.083810 -0.848993  -0.019931 -0.125434\n",
       "\n",
       "[321 rows x 4 columns]"
      ]
     },
     "execution_count": 10,
     "metadata": {},
     "output_type": "execute_result"
    }
   ],
   "source": [
    " df_transformed.iloc[12:]"
   ]
  },
  {
   "cell_type": "code",
   "execution_count": 11,
   "metadata": {},
   "outputs": [],
   "source": [
    "y = df_transformed.iloc[12:]['AutoProd']\n",
    "normalized_y=(y-y.min())/(y.max()-y.min()) #[0,1]\n",
    "\n",
    "x = df_transformed.iloc[:-12]\n",
    "normalized_x=(x-x.min())/(x.max()-x.min())"
   ]
  },
  {
   "cell_type": "code",
   "execution_count": 12,
   "metadata": {},
   "outputs": [
    {
     "data": {
      "text/plain": [
       "321"
      ]
     },
     "execution_count": 12,
     "metadata": {},
     "output_type": "execute_result"
    }
   ],
   "source": [
    "ry = len(y)\n",
    "ry"
   ]
  },
  {
   "cell_type": "markdown",
   "metadata": {},
   "source": [
    "Lets do a split of in and out of sample with ols.  Let 85 percent of the sample be for estimaition and the last for the final test of root mean squared error.  He calculate the Hanan-Quinn information criteria for the insample performance with zero lags."
   ]
  },
  {
   "cell_type": "code",
   "execution_count": 13,
   "metadata": {},
   "outputs": [
    {
     "name": "stdout",
     "output_type": "stream",
     "text": [
      "Index(['AutoPrice', 'AutoProd', 'DisIncome', 'MortRate'], dtype='object')\n",
      "[ 3.74363934 -0.36630907 -1.40972822 -0.170074  ]\n"
     ]
    },
    {
     "data": {
      "text/plain": [
       "20.564703774492784"
      ]
     },
     "execution_count": 13,
     "metadata": {},
     "output_type": "execute_result"
    }
   ],
   "source": [
    "import statsmodels.api as sm\n",
    "nn = 85*len(y)//100\n",
    "\n",
    "xin = x.iloc[:nn]\n",
    "yin = y.iloc[:nn]\n",
    "\n",
    "xout = x.iloc[nn:]\n",
    "yout = y.iloc[nn:]\n",
    "\n",
    "mod = sm.OLS(yin.values, xin.values)\n",
    "res = mod.fit()\n",
    "\n",
    "B  = res.params\n",
    "print(x.columns),\n",
    "print(B)\n",
    "\n",
    "yhat_in = np.dot(xin.values, np.expand_dims(B,axis=1))\n",
    "ehat = yin.values - np.squeeze(yhat_in)\n",
    "sse = np.dot(ehat.T, ehat)/nn;\n",
    "hqif =  -2 * np.log(sse) + 2 *len(B)*np.log(np.log(len(xin)))\n",
    "hqif"
   ]
  },
  {
   "cell_type": "code",
   "execution_count": null,
   "metadata": {},
   "outputs": [],
   "source": []
  },
  {
   "cell_type": "code",
   "execution_count": null,
   "metadata": {},
   "outputs": [],
   "source": []
  },
  {
   "cell_type": "markdown",
   "metadata": {},
   "source": [
    "Now lets try the in sample with  lags from zero to 42 to see which lag structure is better\n"
   ]
  },
  {
   "cell_type": "markdown",
   "metadata": {},
   "source": [
    "We have the aif bif and the hqif.  They show us that the best, in terms of lowest value, is for zero lags. "
   ]
  },
  {
   "cell_type": "code",
   "execution_count": 14,
   "metadata": {},
   "outputs": [
    {
     "name": "stdout",
     "output_type": "stream",
     "text": [
      "lag, hqif, aif, bif\n",
      "0: 9.97, 17.74, 550.53\n",
      "1: 9.89, 17.65, 548.45\n",
      "2: 9.77, 17.52, 546.32\n",
      "3: 9.66, 17.41, 544.22\n",
      "4: 9.59, 17.33, 542.14\n",
      "5: 9.61, 17.34, 540.16\n",
      "6: 9.69, 17.42, 538.25\n",
      "12: 9.11, 16.80, 525.68\n",
      "24: 7.11, 14.72, 499.69\n",
      "36: 6.05, 13.59, 474.66\n",
      "42: 5.98, 13.47, 462.59\n"
     ]
    }
   ],
   "source": [
    "from statsmodels.tsa.tsatools import lagmat\n",
    "lags = [0,1,2,3,4,5,6,12,24,36,42];\n",
    "print('lag, hqif, aif, bif')\n",
    "for i, lag in enumerate(lags):\n",
    "    \n",
    "    x11 = lagmat(xin,maxlag=lag, trim=\"forward\", original='in');\n",
    "    #print('x11',x11.shape)\n",
    "    \n",
    "    y11 = yin.iloc[lag:]\n",
    "    x21 = x11[lag:]\n",
    "    Y = y11; X = x21;\n",
    "              \n",
    "    mod = sm.OLS(X, Y.values)\n",
    "    res = mod.fit()\n",
    "    B  = res.params\n",
    "    \n",
    "    yhat_in = np.dot(X, B.reshape(-1,1))\n",
    "    ehat = Y.values - np.squeeze(yhat_in)\n",
    "    sse = np.dot(ehat.T, ehat)/nn;\n",
    "    hqif =  -2 * np.log(sse) + 2 *len(B)*np.log(np.log(len(X)))\n",
    "    aif = -2 * np.log(sse) + 2 *len(B)*np.log(len(X));\n",
    "    bif  = -2 * np.log(sse) + 2 *len(B)*len(X);\n",
    "    print('{}: {:.2f}, {:.2f}, {:.2f}'.format(lag,hqif,aif,bif))\n",
    "#     end\n",
    "#     hqif1\n",
    "#     aif1\n",
    "#     bif1\n"
   ]
  },
  {
   "cell_type": "markdown",
   "metadata": {},
   "source": [
    "We do the regression for the insample and do the out of sample by multiplying the Bols to the out of sample xout to get \n",
    "the prediction yhat_out.  We calculate the error and the Root mean squared error.  We get the value of 1.02."
   ]
  },
  {
   "cell_type": "code",
   "execution_count": 16,
   "metadata": {},
   "outputs": [
    {
     "data": {
      "text/plain": [
       "0.8722451541683682"
      ]
     },
     "execution_count": 16,
     "metadata": {},
     "output_type": "execute_result"
    }
   ],
   "source": [
    "  \n",
    "mod = sm.OLS(yin.values, xin.values)\n",
    "res = mod.fit()\n",
    "\n",
    "B  = res.params\n",
    "\n",
    "yhat_out = np.dot(xout.values, np.expand_dims(B,axis=1))\n",
    "error_out = yout.values - np.squeeze(yhat_out)\n",
    "sse = np.sum(error_out**2)/len(error_out)\n",
    "rmsq = sse**.5\n",
    "rmsq\n"
   ]
  },
  {
   "cell_type": "code",
   "execution_count": 58,
   "metadata": {},
   "outputs": [],
   "source": [
    "lag_best = 4\n",
    "xmatrix = lagmat(x,maxlag=lag_best, trim=\"forward\", original='in')\n",
    "xmatrix2  = xmatrix[lag:,:]\n",
    "[rx, cx] = xmatrix2.shape\n",
    "constant_term = np.ones((rx,1))\n",
    "xmatrix1 = np.hstack((xmatrix2, constant_term))\n",
    "\n",
    "yadj = y[lag:]\n",
    "xmatrix1_in = xmatrix1[:nn,:]\n",
    "yadj_in = yadj[:nn]\n",
    "xmatrix1_out = xmatrix1[nn:,:]\n",
    "yadj_out = yadj[nn:]\n",
    "mod = sm.OLS(yadj_in, xmatrix1_in)\n",
    "res = mod.fit()\n",
    "B  = res.params\n",
    "yhat_out = np.dot(xmatrix1_out, np.expand_dims(B,axis=1))\n",
    "error_out = yadj_out - np.squeeze(yhat_out)\n"
   ]
  },
  {
   "cell_type": "code",
   "execution_count": 127,
   "metadata": {},
   "outputs": [
    {
     "data": {
      "text/plain": [
       "0.9923816077777569"
      ]
     },
     "execution_count": 127,
     "metadata": {},
     "output_type": "execute_result"
    }
   ],
   "source": [
    "sse = np.mean((error_out ** 2))\n",
    "rmse_ols = np.sqrt(sse)\n",
    "rmse_ols"
   ]
  },
  {
   "cell_type": "code",
   "execution_count": 176,
   "metadata": {},
   "outputs": [],
   "source": [
    "ny = len(yadj)\n",
    "WL = 100;\n",
    "TERM = ny - (WL+1)\n",
    "yadj_rw = np.array(yadj)\n",
    "xmatrix1_rw = np.array(xmatrix1)\n",
    "Yhat_out_rw = np.zeros((ny-WL,1))\n",
    "Error_out_rw = np.zeros((ny-WL,1))\n"
   ]
  },
  {
   "cell_type": "code",
   "execution_count": 178,
   "metadata": {},
   "outputs": [],
   "source": [
    "for i in range(1,TERM):\n",
    "    WLL = WL+(i-1)\n",
    "    WLLp = WLL +1\n",
    "    yy = yadj_rw[i:WLL]\n",
    "    xx = xmatrix1_rw[i:WLL,:]\n",
    "    xjunk = xmatrix1_rw[WLLp,:]\n",
    "    mod = sm.OLS(yy, xx)\n",
    "    res = mod.fit()\n",
    "    B  = res.params\n",
    "    Yhat_out_rw[i] = np.dot(xjunk,B)\n",
    "    Error_out_rw[i] = y[WLLp] - Yhat_out_rw[i]\n",
    "\n",
    "    \n",
    "    "
   ]
  },
  {
   "cell_type": "code",
   "execution_count": 181,
   "metadata": {},
   "outputs": [
    {
     "name": "stdout",
     "output_type": "stream",
     "text": [
      "0.5924946668347997\n"
     ]
    }
   ],
   "source": [
    "sse =  np.mean((Error_out_rw)**2)\n",
    "rmsq_ols_rw = np.sqrt(sse)\n",
    "print(rmsq_ols_rw)"
   ]
  },
  {
   "cell_type": "code",
   "execution_count": null,
   "metadata": {},
   "outputs": [],
   "source": []
  },
  {
   "cell_type": "markdown",
   "metadata": {},
   "source": [
    "Now lets see if the simple neural network does better out of sample. We feed in the same in and out of sample x and y variables as well as a simple neural net structure"
   ]
  },
  {
   "cell_type": "code",
   "execution_count": 172,
   "metadata": {},
   "outputs": [
    {
     "data": {
      "text/plain": [
       "0.4689172806602805"
      ]
     },
     "execution_count": 172,
     "metadata": {},
     "output_type": "execute_result"
    }
   ],
   "source": [
    "from sklearn.neural_network import MLPRegressor\n",
    "from sklearn.datasets import make_regression\n",
    "from sklearn.model_selection import train_test_split\n",
    "#X, y = make_regression(n_samples=200, random_state=1)\n",
    "regr = MLPRegressor(random_state=1, max_iter=100000, hidden_layer_sizes =(24,), alpha=.1, solver='lbfgs', \n",
    "                    activation='logistic').fit(xmatrix1_in, yadj_in)\n",
    "\n",
    "yhat_out_nn = regr.predict(xmatrix1_out)\n",
    "\n",
    "Score = regr.score(xmatrix1_out, yadj_out)\n",
    "Score"
   ]
  },
  {
   "cell_type": "code",
   "execution_count": 173,
   "metadata": {},
   "outputs": [
    {
     "data": {
      "text/plain": [
       "1.2204110484579493"
      ]
     },
     "execution_count": 173,
     "metadata": {},
     "output_type": "execute_result"
    }
   ],
   "source": [
    "\n",
    "error_nn = yadj_out - yhat_out_nn\n",
    "sse_nn = np.mean((error_nn **2))\n",
    "rmsq_nn = np.sqrt(sse_nn)\n",
    "rmsq_nn"
   ]
  },
  {
   "cell_type": "markdown",
   "metadata": {},
   "source": [
    "We see that the simple neural net delivered a better out of sample root mean squared error than the ols. A reduction in the root mean squared error from .1644 to 0.09.   Now lets do a third order polynomial expansion.  You see that the polynomial expansion does even worse out of sample than the linear least squares. And much worse than the simple neural net."
   ]
  },
  {
   "cell_type": "code",
   "execution_count": 136,
   "metadata": {},
   "outputs": [
    {
     "data": {
      "text/plain": [
       "97.79451572921882"
      ]
     },
     "execution_count": 136,
     "metadata": {},
     "output_type": "execute_result"
    }
   ],
   "source": [
    "from sklearn.preprocessing import PolynomialFeatures\n",
    "from sklearn.linear_model import LinearRegression\n",
    "poly_feat = PolynomialFeatures(degree=2)\n",
    "xmatrix2p = poly_feat.fit_transform(xmatrix2)\n",
    "xmatrix2p1 =  np.hstack((xmatrix2p,constant_term))\n",
    "xmatrix2p1_in = xmatrix2p1[:nn,:]\n",
    "xmatrix2p1_out = xmatrix2p1[nn:,:]\n",
    "mod = sm.OLS(yadj_in, xmatrix2p1_in)\n",
    "res = mod.fit()\n",
    "B  = res.params\n",
    "yhat_out_poly = np.dot(xmatrix2p1_out, np.expand_dims(B,axis=1))\n",
    "error_out_poly = yadj_out - np.squeeze(yhat_out_poly)\n",
    "sse = np.mean((error_out_poly)**2)\n",
    "rmsq_poly = np.sqrt(sse)\n",
    "rmsq_poly\n",
    "\n"
   ]
  },
  {
   "cell_type": "code",
   "execution_count": 241,
   "metadata": {},
   "outputs": [],
   "source": [
    "rx,cx = xmatrix1.shape\n",
    "HOR = rx - WL\n",
    "Error_out_nn_rw = np.zeros((HOR,1))\n",
    "yhat_out_nn_rw = np.zeros((HOR,1))\n",
    "for i in range(1,TERM):\n",
    "    WLL = WL+(i-1)\n",
    "    WLLp = WLL +1\n",
    "    yy = yadj_rw[i:WLL]\n",
    "    xx = xmatrix1_rw[i:WLL,:]\n",
    "    xjunk = xmatrix1_rw[WLLp,:]\n",
    "    regr = MLPRegressor(random_state=1, max_iter=100000, hidden_layer_sizes =(20,10,6,5,4,3,2), alpha=.5, solver='adam', \n",
    "                    activation='logistic',warm_start=True).fit(xx, yy)\n",
    "    xnew = xjunk.reshape(1,cx)\n",
    "    yhat_out_nn_rw[i,:] = regr.predict(xnew)\n",
    "    Error_out_nn_rw[i] = yadj_rw[WLLp] - yhat_out_nn_rw[i]"
   ]
  },
  {
   "cell_type": "code",
   "execution_count": 244,
   "metadata": {},
   "outputs": [
    {
     "name": "stdout",
     "output_type": "stream",
     "text": [
      "0.5865225637612167 0.5924946668347997\n"
     ]
    }
   ],
   "source": [
    "sse = np.mean((Error_out_nn_rw)**2)\n",
    "rmsq_rw_nn = np.sqrt(sse)\n",
    "print(rmsq_rw_nn, rmsq_ols_rw)"
   ]
  },
  {
   "cell_type": "code",
   "execution_count": 245,
   "metadata": {},
   "outputs": [
    {
     "name": "stdout",
     "output_type": "stream",
     "text": [
      "(801,) 801\n"
     ]
    }
   ],
   "source": [
    "weights = regr.coefs_\n",
    "biases = regr.intercepts_\n",
    "\n",
    "weights_array = np.concatenate([w.flatten() for w in weights])\n",
    "biases_array = np.concatenate([b.flatten() for b in biases])\n",
    "\n",
    "parameters = np.concatenate([weights_array, biases_array])\n",
    "\n",
    "non_zero_weights_biases = np.count_nonzero(parameters)\n",
    "print(parameters.shape, non_zero_weights_biases)\n",
    "\n"
   ]
  },
  {
   "cell_type": "code",
   "execution_count": 247,
   "metadata": {},
   "outputs": [
    {
     "name": "stdout",
     "output_type": "stream",
     "text": [
      "(345,) (179, 1) 179 (279,)\n"
     ]
    },
    {
     "data": {
      "text/plain": [
       "100"
      ]
     },
     "execution_count": 247,
     "metadata": {},
     "output_type": "execute_result"
    }
   ],
   "source": [
    "df.index = pd.to_datetime(df.index)\n",
    "date_index = df.index\n",
    "ry = yadj_rw.shape\n",
    "ry\n",
    "print(date_index.shape, Error_out_nn_rw.shape, HOR, ry)\n"
   ]
  },
  {
   "cell_type": "code",
   "execution_count": 263,
   "metadata": {},
   "outputs": [
    {
     "name": "stdout",
     "output_type": "stream",
     "text": [
      "(179,) (179, 1)\n"
     ]
    },
    {
     "data": {
      "image/png": "[encoded data removed]",
      "text/plain": [
       "<Figure size 432x288 with 1 Axes>"
      ]
     },
     "metadata": {
      "needs_background": "light"
     },
     "output_type": "display_data"
    }
   ],
   "source": [
    "date_index1 = date_index[105:]\n",
    "rd = date_index1.shape\n",
    "re = Error_out_nn_rw.shape\n",
    "\n",
    "\n",
    "start = tuple(rd - re for rd, re in zip(rd, re))\n",
    "start1 = int(start[0])\n",
    "\n",
    "date_index2 = date_index1[start1:]\n",
    "rrd = date_index2.shape\n",
    "print(rrd, Error_out_nn_rw.shape)\n",
    "plt.plot(date_index2, Error_out_rw, label='Linear')\n",
    "plt.plot(date_index2, Error_out_nn_rw, label='Neural Net')\n",
    "plt.xlabel('Date')\n",
    "plt.ylabel('Error')\n",
    "plt.title('Rolling Window Errors for Car Production')\n",
    "plt.legend()\n",
    "plt.show()"
   ]
  },
  {
   "cell_type": "code",
   "execution_count": 228,
   "metadata": {},
   "outputs": [
    {
     "data": {
      "text/plain": [
       "<AxesSubplot:title={'center':'Automobile Prices'}, xlabel='observation_date'>"
      ]
     },
     "execution_count": 228,
     "metadata": {},
     "output_type": "execute_result"
    }
   ],
   "source": [
    "import tensorflow as tf\n",
    "\n",
    "def create_mlp_model(input_dim, l1_reg):\n",
    "    model = tf.keras.models.Sequential()\n",
    "    model.add(tf.keras.layers.Dense(3*rx, input_dim=input_dim, activation='tanh',\n",
    "                                    kernel_regularizer=tf.keras.regularizers.l1(l1_reg)))\n",
    "    model.add(tf.keras.layers.Dense(2*rx, activation='tanh',\n",
    "                                    kernel_regularizer=tf.keras.regularizers.l1(l1_reg)))\n",
    "    model.add(tf.keras.layers.Dense(rx, activation='tanh',\n",
    "                                    kernel_regularizer=tf.keras.regularizers.l1(l1_reg)))\n",
    "    model.add(tf.keras.layers.Dense(1))\n",
    "    return model\n",
    "\n",
    "input_dim = X.shape[1]\n",
    "mlp = create_mlp_model(input_dim, l1_reg=0.2)\n",
    "mlp.compile(optimizer='Adam', loss='mean_squared_error')\n",
    "\n",
    "history = mlp.fit(X, Y, epochs=1000, batch_size=32, validation_data=(Xout, Yout))"
   ]
  },
  {
   "cell_type": "code",
   "execution_count": null,
   "metadata": {},
   "outputs": [],
   "source": [
    "Yhat_out= mlp.predict(Xout)\n",
    "\n",
    "Yhat_out = Yhat_out.ravel()\n",
    "Yout = np.array(Yout)\n",
    "\n",
    "\n",
    "ERROR = Yout - Yhat_out\n"
   ]
  },
  {
   "cell_type": "code",
   "execution_count": null,
   "metadata": {},
   "outputs": [],
   "source": []
  },
  {
   "cell_type": "code",
   "execution_count": null,
   "metadata": {},
   "outputs": [],
   "source": [
    "[Bols b_lasso]"
   ]
  },
  {
   "cell_type": "code",
   "execution_count": null,
   "metadata": {},
   "outputs": [],
   "source": [
    "yhat_lasso = xout * b_lasso;\n",
    "ehat_lasso = yout - yhat_lasso;\n",
    "rmse_lasso = (ehat_lasso'*ehat_lasso/length(yhat_lasso))^.5;\n",
    "rmse_lasso\n"
   ]
  },
  {
   "cell_type": "code",
   "execution_count": null,
   "metadata": {},
   "outputs": [],
   "source": [
    "help NNFFfun\n"
   ]
  },
  {
   "cell_type": "code",
   "execution_count": null,
   "metadata": {},
   "outputs": [],
   "source": [
    "size(X)\n"
   ]
  },
  {
   "cell_type": "code",
   "execution_count": null,
   "metadata": {},
   "outputs": [],
   "source": [
    "ceil(.85*length(X))"
   ]
  },
  {
   "cell_type": "code",
   "execution_count": null,
   "metadata": {},
   "outputs": [],
   "source": [
    "Xout = X(193:end,:);\n",
    "yhat_ols = Xout * B1;\n",
    "error_ols = Y(193:end,:)-yhat_ols;\n",
    "yhat_lasso = Xout *b_lasso;\n",
    "error_lasso = Y(193:end,:)-yhat_ols;\n",
    "rmse_ols = (error_ols'*error_ols/length(Xout))^.5;\n",
    "rmse_lasso = (error_lasso'*error_lasso/length(Xout))^.5;"
   ]
  },
  {
   "cell_type": "code",
   "execution_count": null,
   "metadata": {},
   "outputs": [],
   "source": [
    "[rmse_ols rmse_lasso]"
   ]
  },
  {
   "cell_type": "code",
   "execution_count": null,
   "metadata": {},
   "outputs": [],
   "source": []
  }
 ],
 "metadata": {
  "kernelspec": {
   "display_name": "Python 3 (ipykernel)",
   "language": "python",
   "name": "python3"
  },
  "language_info": {
   "codemirror_mode": {
    "name": "ipython",
    "version": 3
   },
   "file_extension": ".py",
   "mimetype": "text/x-python",
   "name": "python",
   "nbconvert_exporter": "python",
   "pygments_lexer": "ipython3",
   "version": "3.9.8"
  }
 },
 "nbformat": 4,
 "nbformat_minor": 4
}
