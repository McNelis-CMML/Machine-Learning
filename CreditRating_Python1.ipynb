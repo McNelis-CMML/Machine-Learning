{
 "cells": [
  {
   "cell_type": "markdown",
   "id": "169e2066",
   "metadata": {},
   "source": [
    "In this last exercise we will look at classification when there are more than two categories.\n",
    "Specifically we will examine classificaiton of credit ratings, from AAA to 'AA' 'A' 'BBB' 'BB' 'B' and 'CCC'.\n",
    "We will try to predict the ratings from co-variates on specific firms:\n",
    "\n",
    "{'WC_TA'}     Working Capital to Total Assets\n",
    "\n",
    "{'RE_TA'}     Retained Earning to Total Assets\n",
    "\n",
    "{'EBIT_TA'}   Earnings before Interets and Taxes to Total Assets\n",
    "\n",
    "{'MVE_BVTD'}  Market Value of Equity to Book Value of Total Debt  \n",
    "\n",
    "{'S_TA'}      Sales to Total Assets\n",
    "\n",
    "{'Industry'}  Industry Classificaiton (1-12)\n",
    "\n",
    "\n",
    "The Industry classification is based on the Fama - French use of the SIC codes.They assign each NYSE, AMEX, and NASDAQ stock to an industry portfolio at the end of June of year t based on its four-digit SIC code at that time. (We use Compustat SIC codes for the fiscal year ending in calendar year t-1. Whenever Compustat SIC codes are not available, we use CRSP SIC codes for June of year t.) We then compute returns from July of t to June of t+1.  As you can see, the higher the level of classificaiton the greater the degree of dependence on human capital.\n",
    "\n",
    "The following definitions are used:\n",
    "\n",
    "\n",
    "1 NoDur  Consumer Nondurables -- Food, Tobacco, Textiles, Apparel, Leather, Toys\n",
    "          0100-0999\n",
    "          2000-2399\n",
    "          2700-2749\n",
    "          2770-2799\n",
    "          3100-3199\n",
    "          3940-3989\n",
    "\n",
    " 2 Durbl  Consumer Durables -- Cars, TVs, Furniture, Household Appliances\n",
    "          2500-2519\n",
    "          2590-2599\n",
    "          3630-3659\n",
    "          3710-3711\n",
    "          3714-3714\n",
    "          3716-3716\n",
    "          3750-3751\n",
    "          3792-3792\n",
    "          3900-3939\n",
    "          3990-3999\n",
    "\n",
    " 3 Manuf  Manufacturing -- Machinery, Trucks, Planes, Off Furn, Paper, Com Printing\n",
    "          2520-2589\n",
    "          2600-2699\n",
    "          2750-2769\n",
    "          3000-3099\n",
    "          3200-3569\n",
    "          3580-3629\n",
    "          3700-3709\n",
    "          3712-3713\n",
    "          3715-3715\n",
    "          3717-3749\n",
    "          3752-3791\n",
    "          3793-3799\n",
    "          3830-3839\n",
    "          3860-3899\n",
    "\n",
    " 4 Enrgy  Oil, Gas, and Coal Extraction and Products\n",
    "          1200-1399\n",
    "          2900-2999\n",
    "\n",
    " 5 Chems  Chemicals and Allied Products\n",
    "          2800-2829\n",
    "          2840-2899\n",
    "\n",
    " 6 BusEq  Business Equipment -- Computers, Software, and Electronic Equipment\n",
    "          3570-3579\n",
    "          3660-3692\n",
    "          3694-3699\n",
    "          3810-3829\n",
    "          7370-7379\n",
    "\n",
    " 7 Telcm  Telephone and Television Transmission\n",
    "          4800-4899\n",
    "\n",
    " 8 Utils  Utilities\n",
    "          4900-4949\n",
    "\n",
    " 9 Shops  Wholesale, Retail, and Some Services (Laundries, Repair Shops)\n",
    "          5000-5999\n",
    "          7200-7299\n",
    "          7600-7699\n",
    "\n",
    "10 Hlth   Healthcare, Medical Equipment, and Drugs\n",
    "          2830-2839\n",
    "          3693-3693\n",
    "          3840-3859\n",
    "          8000-8099\n",
    "\n",
    "11 Money  Finance\n",
    "          6000-6999\n",
    "\n",
    "12 Other  Other -- Mines, Constr, BldMt, Trans, Hotels, Bus Serv, Entertainment\n"
   ]
  },
  {
   "cell_type": "markdown",
   "id": "8dbdd678",
   "metadata": {},
   "source": [
    "$\\textbf{Data Sets}$\n",
    "\n",
    "We will make use of three data sets, \n",
    "CreditRating_ExPost.dat,  for training\n",
    "CreditRating_NewCompanies.dat, for testing out-of-sample                          \n",
    "CreditRating_Historical.dat,  for overall evaluation"
   ]
  },
  {
   "cell_type": "markdown",
   "id": "12706273",
   "metadata": {},
   "source": [
    "$\\textbf{Support Vector Machines}$\n",
    "\n",
    "We will first try the Support Vector Machine.  It is basically an extension of logit and probit regression.\n",
    "For a given set of classifications $x_i$, i=1,...K,  and a set of classificaitons $y_j$, j= 1,...J, we select coefficients to minimize:\n",
    "\n",
    "$f(\\textbf{w},b)$ = $\\lambda \\ \\|\\textbf{w}\\|^2 + [\\frac{1}{n} \\Sigma_{i=1}^{n} max(0, 1-y(\\textbf{w}'x-b))]$\n",
    "where $\\|w \\|$ is the Euclidean norm of of the K-element parameter vector w:\n",
    "\n",
    "$\\|w \\|$ = $\\sqrt{\\Sigma_k^K w_k^2}$\n",
    "\n",
    "\n",
    "\n",
    "\n",
    "The parameter $\\lambda$ is called the $\\textit{soft margin parameter}$.  \n",
    "\n",
    "One way to work with this is to use a grid, $\\lambda \\in {2^{-5},2^{-3}, ....2^{15}}$ with cross validation.\n"
   ]
  },
  {
   "cell_type": "code",
   "execution_count": 35,
   "id": "c3eb6116",
   "metadata": {},
   "outputs": [
    {
     "name": "stdout",
     "output_type": "stream",
     "text": [
      "      ID  WC_TA  RE_TA  EBIT_TA  MVE_BVTD   S_TA  Industry Rating\n",
      "0  62394  0.013  0.104    0.036     0.447  0.142         3     BB\n",
      "1  48608  0.232  0.335    0.062     1.969  0.281         8      A\n",
      "2  42444  0.311  0.367    0.074     1.935  0.366         1      A\n",
      "3  48631  0.194  0.263    0.062     1.017  0.228         4    BBB\n",
      "4  43768  0.121  0.413    0.057     3.647  0.466        12    AAA\n",
      "(3932, 8)\n"
     ]
    }
   ],
   "source": [
    "# Uncomment the following line to install shap\n",
    "#!pip install shap\n",
    "\n",
    "\n",
    "#!pip install pandas scikit-learn matplotlib \n",
    "import pandas as pd\n",
    "from sklearn.ensemble import RandomForestClassifier\n",
    "#import shap\n",
    "import matplotlib.pyplot as plt\n",
    "#import numba\n",
    "\n",
    "# Read the data into a DataFrame\n",
    "column_types = {\n",
    "    'Column1': int,  # Integer\n",
    "    'Column2': float,  # Float\n",
    "    'Column3': float,  # Float\n",
    "    'Column4': float,  # Float\n",
    "    'Column5': float,  # Float\n",
    "    'Column6': float,  # Float\n",
    "    'Column7': float,  # Float\n",
    "    'Column8': str  # String\n",
    "}\n",
    "\n",
    "# Read the Excel file with specified data types\n",
    "#tbl = pd.read_excel('CreditRatingHist.xlsx', dtype=column_types)\n",
    "tbl = pd.read_excel('CreditRatingHist.xlsx', header=0)\n",
    "\n",
    "# Print the first few rows to check if it's reading correctly\n",
    "print(tbl.head())\n",
    "\n",
    "#tbl = pd.read_excel('CreditRatingHist.xlsx')\n",
    "\n",
    "# Check the size of the DataFrame\n",
    "print(tbl.shape)\n",
    "\n",
    "# Create a RandomForestClassifier (or any suitable classifier)\n"
   ]
  },
  {
   "cell_type": "code",
   "execution_count": 36,
   "id": "0f60ba16",
   "metadata": {},
   "outputs": [
    {
     "name": "stdout",
     "output_type": "stream",
     "text": [
      "Index(['WC_TA', 'RE_TA', 'EBIT_TA', 'MVE_BVTD', 'S_TA', 'Industry'], dtype='object')\n",
      "(3932, 6)\n"
     ]
    }
   ],
   "source": [
    "\n",
    "from sklearn.ensemble import RandomForestClassifier\n",
    "import pandas as pd\n",
    "import matplotlib.pyplot as plt\n",
    "\n",
    "# Create a RandomForestClassifier\n",
    "classifier = RandomForestClassifier(random_state=0)\n",
    "\n",
    "# Specify predictor and target variables\n",
    "X = tbl.iloc[:,1:-1]\n",
    "print(X.columns)\n",
    "y = tbl.iloc[:,7]\n",
    "from sklearn.preprocessing import LabelEncoder\n",
    "label_encoder = LabelEncoder()\n",
    "y = label_encoder.fit_transform(y)\n",
    "y = tbl['Rating']\n",
    "print(X.shape)\n",
    "\n",
    "\n"
   ]
  },
  {
   "cell_type": "code",
   "execution_count": 37,
   "id": "292a3629",
   "metadata": {},
   "outputs": [
    {
     "data": {
      "image/png": "[encoded data removed]",
      "text/plain": [
       "<Figure size 720x432 with 1 Axes>"
      ]
     },
     "metadata": {
      "needs_background": "light"
     },
     "output_type": "display_data"
    }
   ],
   "source": [
    "# Fit the classifier\n",
    "classifier.fit(X, y)\n",
    "\n",
    "# Get feature importances from the trained classifier\n",
    "feature_importances = classifier.feature_importances_\n",
    "\n",
    "# Get the names of the features\n",
    "feature_names = X.columns\n",
    "\n",
    "# Create a DataFrame to store feature importances\n",
    "feature_importance_df = pd.DataFrame({'Feature': feature_names, 'Importance': feature_importances})\n",
    "\n",
    "# Sort the features by importance\n",
    "feature_importance_df = feature_importance_df.sort_values(by='Importance', ascending=False)\n",
    "\n",
    "# Plot the feature importances\n",
    "plt.figure(figsize=(10, 6))\n",
    "plt.barh(feature_importance_df['Feature'], feature_importance_df['Importance'])\n",
    "plt.xlabel('Feature Importance')\n",
    "plt.ylabel('Feature')\n",
    "plt.title('Random Forest Feature Importance')\n",
    "plt.gca().invert_yaxis()  # Invert the y-axis to display the most important features at the top\n",
    "plt.show()\n"
   ]
  },
  {
   "cell_type": "markdown",
   "id": "89f54a32",
   "metadata": {},
   "source": [
    "$\\textbf{Multinomial Logit Regression}$"
   ]
  },
  {
   "cell_type": "code",
   "execution_count": 38,
   "id": "b3fd6dd4",
   "metadata": {},
   "outputs": [
    {
     "name": "stderr",
     "output_type": "stream",
     "text": [
      "C:\\Users\\mcnel\\anaconda4\\lib\\site-packages\\statsmodels\\discrete\\discrete_model.py:2331: RuntimeWarning: divide by zero encountered in log\n",
      "  logprob = np.log(self.cdf(np.dot(self.exog,params)))\n",
      "C:\\Users\\mcnel\\anaconda4\\lib\\site-packages\\statsmodels\\discrete\\discrete_model.py:2332: RuntimeWarning: invalid value encountered in multiply\n",
      "  return np.sum(d * logprob)\n"
     ]
    },
    {
     "name": "stdout",
     "output_type": "stream",
     "text": [
      "Optimization terminated successfully.\n",
      "         Current function value: nan\n",
      "         Iterations 16\n",
      "                          MNLogit Regression Results                          \n",
      "==============================================================================\n",
      "Dep. Variable:                 Rating   No. Observations:                 3932\n",
      "Model:                        MNLogit   Df Residuals:                     3896\n",
      "Method:                           MLE   Df Model:                           30\n",
      "Date:                Mon, 02 Oct 2023   Pseudo R-squ.:                     nan\n",
      "Time:                        13:30:02   Log-Likelihood:                    nan\n",
      "converged:                       True   LL-Null:                       -7070.1\n",
      "Covariance Type:            nonrobust   LLR p-value:                       nan\n",
      "==============================================================================\n",
      " Rating=AA       coef    std err          z      P>|z|      [0.025      0.975]\n",
      "------------------------------------------------------------------------------\n",
      "WC_TA        -35.0828      6.509     -5.390      0.000     -47.840     -22.325\n",
      "RE_TA         -2.8205     10.348     -0.273      0.785     -23.102      17.460\n",
      "EBIT_TA       55.7311      9.516      5.857      0.000      37.081      74.382\n",
      "MVE_BVTD    -623.9187     53.636    -11.632      0.000    -729.044    -518.793\n",
      "S_TA          27.9963      9.356      2.992      0.003       9.660      46.333\n",
      "Industry       0.0753      0.439      0.172      0.864      -0.785       0.936\n",
      "------------------------------------------------------------------------------\n",
      "  Rating=A       coef    std err          z      P>|z|      [0.025      0.975]\n",
      "------------------------------------------------------------------------------\n",
      "WC_TA        -68.0484      8.522     -7.985      0.000     -84.750     -51.346\n",
      "RE_TA         -0.8521     13.471     -0.063      0.950     -27.254      25.550\n",
      "EBIT_TA      101.5757     12.296      8.261      0.000      77.476     125.676\n",
      "MVE_BVTD   -1359.7966     75.269    -18.066      0.000   -1507.322   -1212.272\n",
      "S_TA          58.8641     12.615      4.666      0.000      34.139      83.589\n",
      "Industry       0.1660      0.548      0.303      0.762      -0.908       1.240\n",
      "------------------------------------------------------------------------------\n",
      "Rating=BBB       coef    std err          z      P>|z|      [0.025      0.975]\n",
      "------------------------------------------------------------------------------\n",
      "WC_TA        -99.3129      9.441    -10.519      0.000    -117.818     -80.808\n",
      "RE_TA        -11.6221     15.146     -0.767      0.443     -41.308      18.064\n",
      "EBIT_TA      151.6661     13.873     10.932      0.000     124.475     178.857\n",
      "MVE_BVTD   -2098.6052     86.836    -24.167      0.000   -2268.801   -1928.409\n",
      "S_TA          88.5810     14.665      6.040      0.000      59.839     117.323\n",
      "Industry      -0.3950      0.602     -0.656      0.512      -1.575       0.785\n",
      "------------------------------------------------------------------------------\n",
      " Rating=BB       coef    std err          z      P>|z|      [0.025      0.975]\n",
      "------------------------------------------------------------------------------\n",
      "WC_TA       -130.1967     10.006    -13.011      0.000    -149.809    -110.584\n",
      "RE_TA        -22.1239     16.196     -1.366      0.172     -53.867       9.619\n",
      "EBIT_TA      195.2529     14.792     13.200      0.000     166.262     224.244\n",
      "MVE_BVTD   -2841.3336     98.886    -28.733      0.000   -3035.147   -2647.520\n",
      "S_TA         114.5217     16.908      6.773      0.000      81.383     147.661\n",
      "Industry      -0.2893      0.631     -0.458      0.647      -1.527       0.948\n",
      "------------------------------------------------------------------------------\n",
      "  Rating=B       coef    std err          z      P>|z|      [0.025      0.975]\n",
      "------------------------------------------------------------------------------\n",
      "WC_TA       -147.0787     11.039    -13.323      0.000    -168.715    -125.442\n",
      "RE_TA        -50.4730     16.702     -3.022      0.003     -83.208     -17.738\n",
      "EBIT_TA      234.9376     15.569     15.090      0.000     204.423     265.452\n",
      "MVE_BVTD   -3532.9721    127.890    -27.625      0.000   -3783.631   -3282.313\n",
      "S_TA         182.2973     20.699      8.807      0.000     141.727     222.867\n",
      "Industry      -0.3967      0.672     -0.590      0.555      -1.714       0.920\n",
      "------------------------------------------------------------------------------\n",
      "Rating=CCC       coef    std err          z      P>|z|      [0.025      0.975]\n",
      "------------------------------------------------------------------------------\n",
      "WC_TA       -136.6751     13.090    -10.441      0.000    -162.331    -111.020\n",
      "RE_TA        -88.7788     17.263     -5.143      0.000    -122.614     -54.943\n",
      "EBIT_TA      252.9830     16.820     15.040      0.000     220.016     285.950\n",
      "MVE_BVTD   -3793.4794    231.003    -16.422      0.000   -4246.237   -3340.721\n",
      "S_TA         208.6195     31.311      6.663      0.000     147.250     269.989\n",
      "Industry       0.3318      0.811      0.409      0.683      -1.258       1.921\n",
      "==============================================================================\n"
     ]
    }
   ],
   "source": [
    "import pandas as pd\n",
    "import statsmodels.api as sm\n",
    "from statsmodels.tools import add_constant\n",
    "from pandas.api.types import CategoricalDtype\n",
    "\n",
    "import pandas as pd\n",
    "import statsmodels.api as sm\n",
    "\n",
    "# Assuming you've already read the data correctly into 'tbl'\n",
    "\n",
    "# Define the category order for the ordinal response variable\n",
    "category_order = ['AAA', 'AA', 'A', 'BBB', 'BB', 'B', 'CCC']\n",
    "tbl['Rating'] = pd.Categorical(tbl['Rating'], categories=category_order, ordered=True)\n",
    "\n",
    "# Define your predictor variables (X) and response variable (Y)\n",
    "X = tbl[['WC_TA', 'RE_TA', 'EBIT_TA', 'MVE_BVTD', 'S_TA', 'Industry']]\n",
    "import numpy as np\n",
    "\n",
    "# Assuming X is your matrix\n",
    "# Calculate the minimum and maximum values for each column (feature)\n",
    "min_vals = X.min(axis=0)\n",
    "max_vals = X.max(axis=0)\n",
    "\n",
    "# Perform Min-Max scaling\n",
    "X_normalized = (X - min_vals) / (max_vals - min_vals)\n",
    "#X = sm.add_constant(X)\n",
    "Y = tbl['Rating']\n",
    "\n",
    "\n",
    "# Fit the multinomial logistic regression model\n",
    "model = sm.MNLogit(Y, X_normalized)\n",
    "results = model.fit(maxiter=1000)\n",
    "\n",
    "# Print the summary of the model\n",
    "print(results.summary())\n"
   ]
  },
  {
   "cell_type": "markdown",
   "id": "00c8b73d",
   "metadata": {},
   "source": [
    "$\\textit{Interpretation}$\n",
    "\n",
    "In a multinomial logistic regression, the coefficients represent the log-odds of moving from one category to another. In your case, since you are looking at the transition from AAA to AA, let's focus on the coefficients for the 'WC_TA' predictor variable.\n",
    "\n",
    "For the 'WC_TA' variable:\n",
    "\n",
    "Coefficient (coef) = -35.0828\n",
    "p-value (P>|z|) < 0.001 (significant)\n",
    "\n",
    "The coefficient of -35.0828 means that for a one-unit increase in 'WC_TA', the log-odds of moving from AAA to AA decrease by 35.0828 units. Since the p-value is less than 0.001 and significant, this suggests that the 'WC_TA' variable has a statistically significant effect on the transition from AAA to AA.\n",
    "\n",
    "In more intuitive terms, an increase in 'WC_TA' would make it less likely for a company to transition from AAA to AA. This implies that as 'WC_TA' increases, the company is less likely to move from the higher rating (AAA) to the lower rating (AA).\n",
    "\n",
    "Please note that the interpretation of the coefficients can vary depending on the coding scheme used for your categorical response variable. In your case, it seems like you are looking at the transition between two specific categories, so the interpretation is specific to that transition.\n",
    "\n",
    "The same is true for the second equation for A. The coefficient WC_TA = -68.0484 shows that an increase in working capital reduces the odds of transition from AAA to A by even more.  "
   ]
  },
  {
   "cell_type": "code",
   "execution_count": 39,
   "id": "d8a42713",
   "metadata": {},
   "outputs": [
    {
     "name": "stdout",
     "output_type": "stream",
     "text": [
      "[[398  58   0   0   1 118   0]\n",
      " [ 63 281  41   0   0   0   0]\n",
      " [  1  44 535   0   0   0   0]\n",
      " [  1   0   0 133 169   2  15]\n",
      " [  0   0   0  65 697 165   0]\n",
      " [ 70   0   0   2 184 759   0]\n",
      " [  0   0   2  36   7   0  85]]\n"
     ]
    }
   ],
   "source": [
    "from sklearn.metrics import confusion_matrix\n",
    "predicted_classes = results.predict(X_normalized).idxmax(axis=1)\n",
    "label_mapping = {0: 'AAA', 1: 'AA', 2: 'A', 3: 'BBB', 4: 'BB', 5: 'B', 6: 'CCC'}\n",
    "# Convert integer labels to string labels using the mapping\n",
    "\n",
    "\n",
    "# Convert integer labels to string labels using the mapping\n",
    "predicted_classes = predicted_classes.map(label_mapping)\n",
    "\n",
    "# Create a confusion matrix\n",
    "confusion_logistic = confusion_matrix(Y, predicted_classes)\n",
    "\n",
    "# Plot the confusion matrix with custom axis labels\n",
    "print(confusion_logistic)\n",
    "\n",
    "\n"
   ]
  },
  {
   "cell_type": "code",
   "execution_count": 41,
   "id": "246b43fd",
   "metadata": {},
   "outputs": [
    {
     "data": {
      "image/png": "[encoded data removed]",
      "text/plain": [
       "<Figure size 576x432 with 1 Axes>"
      ]
     },
     "metadata": {
      "needs_background": "light"
     },
     "output_type": "display_data"
    }
   ],
   "source": [
    "import matplotlib.pyplot as plt\n",
    "import seaborn as sns\n",
    "plt.figure(figsize=(8, 6))\n",
    "sns.heatmap(confusion_logistic, annot=True, fmt='d', cmap='Blues', cbar=False)\n",
    "\n",
    "# Set custom axis labels\n",
    "class_labels = list(label_mapping.values())\n",
    "plt.xticks(np.arange(len(class_labels)), class_labels)\n",
    "plt.yticks(np.arange(len(class_labels)), class_labels)\n",
    "\n",
    "plt.xlabel('Predicted Labels')\n",
    "plt.ylabel('Actual Labels')\n",
    "plt.title('Confusion Matrix from Multinomial Logistic Regression')\n",
    "plt.show()\n",
    "\n",
    "\n",
    "\n",
    "\n",
    "\n"
   ]
  },
  {
   "cell_type": "markdown",
   "id": "ffc5a1b0",
   "metadata": {},
   "source": [
    "We see in the regression results that the industry classifications are not significant.\n",
    "\n",
    "\n",
    "$\\textbf{Random Forests}$\n",
    "\n",
    "Now let's look at the Random Forests for different numbers of trees and leaves on the trees."
   ]
  },
  {
   "cell_type": "code",
   "execution_count": 42,
   "id": "a66dcf5a",
   "metadata": {},
   "outputs": [
    {
     "name": "stdout",
     "output_type": "stream",
     "text": [
      "0     ID  WC_TA  RE_TA EBIT_TA MVE_BVTD   S_TA Industry Rating\n",
      "1  62394  0.013  0.104   0.036    0.447  0.142        3     BB\n",
      "2  48608  0.232  0.335   0.062    1.969  0.281        8      A\n",
      "3  42444  0.311  0.367   0.074    1.935  0.366        1      A\n",
      "4  48631  0.194  0.263   0.062    1.017  0.228        4    BBB\n",
      "5  43768  0.121  0.413   0.057    3.647  0.466       12    AAA\n",
      "0     ID  WC_TA  RE_TA EBIT_TA MVE_BVTD   S_TA Industry Rating\n",
      "1  60644  0.049   0.22   0.041      2.4  0.489        6     AA\n",
      "2  33083  0.145   0.24   0.051    1.514   0.28        4    BBB\n",
      "3  63830   0.17  0.177   0.056    1.685  0.455        7    BBB\n",
      "4  84658  0.164  0.289   0.064    1.029  0.222        3    BBB\n",
      "5  41734  0.078  0.066   0.044    0.417  0.147        9     BB\n",
      "1311\n"
     ]
    }
   ],
   "source": [
    "import pandas as pd\n",
    "\n",
    "# Specify header=None to indicate that there is no header row\n",
    "tbl = pd.read_excel('CreditRatingHist.xlsx', header=None)\n",
    "\n",
    "# Extract the first row as column names\n",
    "column_names = tbl.iloc[0]\n",
    "\n",
    "# Remove the first row from the DataFrame\n",
    "tbl = tbl[1:]\n",
    "\n",
    "# Set the correct column names\n",
    "tbl.columns = column_names\n",
    "\n",
    "# Now you can work with the DataFrame containing the correct column names\n",
    "print(tbl.head())\n",
    "\n",
    "tblnew = pd.read_excel('CreditRatingNew1.xlsx', header=None)\n",
    "\n",
    "# Extract the first row as column names\n",
    "column_names = tblnew.iloc[0]\n",
    "\n",
    "# Remove the first row from the DataFrame\n",
    "tblnew = tblnew[1:]\n",
    "\n",
    "\n",
    "# Set the correct column names\n",
    "tblnew.columns = column_names\n",
    "\n",
    "# Now you can work with the DataFrame containing the correct column names\n",
    "print(tblnew.head())\n",
    "print(len(tblnew))\n",
    "\n",
    "\n",
    "\n",
    "\n",
    "\n",
    "\n",
    "\n"
   ]
  },
  {
   "cell_type": "code",
   "execution_count": null,
   "id": "9977c31a",
   "metadata": {},
   "outputs": [],
   "source": []
  },
  {
   "cell_type": "code",
   "execution_count": 43,
   "id": "50f95210",
   "metadata": {},
   "outputs": [
    {
     "name": "stdout",
     "output_type": "stream",
     "text": [
      "3932\n"
     ]
    }
   ],
   "source": [
    "import pandas as pd\n",
    "import matplotlib.pyplot as plt\n",
    "from sklearn.ensemble import RandomForestClassifier\n",
    "\n",
    "# Read historical data into a DataFrame\n",
    "\n",
    "\n",
    "# Specify predictor variables (X) and response variable (Y)\n",
    "X = tbl[['WC_TA', 'RE_TA', 'EBIT_TA', 'MVE_BVTD', 'S_TA', 'Industry']]\n",
    "Y = tbl[['Rating']]\n",
    "print(len(X))\n",
    "\n",
    "# Set the number of trees and minimum leaf size\n",
    "\n",
    "\n"
   ]
  },
  {
   "cell_type": "code",
   "execution_count": 44,
   "id": "940bd3fe",
   "metadata": {},
   "outputs": [
    {
     "data": {
      "image/png": "[encoded data removed]",
      "text/plain": [
       "<Figure size 432x288 with 1 Axes>"
      ]
     },
     "metadata": {
      "needs_background": "light"
     },
     "output_type": "display_data"
    }
   ],
   "source": [
    "n_trees = 100\n",
    "min_leaf_size = 10\n",
    "\n",
    "# Create a RandomForestClassifier\n",
    "classifier = RandomForestClassifier(\n",
    "    n_estimators=n_trees,\n",
    "    min_samples_leaf=min_leaf_size,\n",
    "    oob_score=True,  # Enable out-of-bag error estimation\n",
    "    random_state=0  # Set a random seed for reproducibility\n",
    ")\n",
    "\n",
    "# Fit the classifier\n",
    "Y = Y.values.ravel()\n",
    "classifier.fit(X, Y)\n",
    "\n",
    "# Get out-of-bag feature importances\n",
    "feature_importances = classifier.feature_importances_\n",
    "\n",
    "# Get feature names\n",
    "feature_names = X.columns\n",
    "\n",
    "# Plot feature importances with feature names as x-axis labels\n",
    "plt.bar(feature_names, feature_importances)\n",
    "plt.xlabel('Feature')\n",
    "plt.xticks(rotation=45)  # Rotate x-axis labels for better readability\n",
    "plt.ylabel('Out-of-bag feature importance')\n",
    "plt.title('Feature importance results')\n",
    "\n",
    "# Extract class names\n",
    "class_names = classifier.classes_\n",
    "\n",
    "# Read data for new companies into a DataFrame"
   ]
  },
  {
   "cell_type": "code",
   "execution_count": 45,
   "id": "9f3fc6c4",
   "metadata": {},
   "outputs": [
    {
     "name": "stdout",
     "output_type": "stream",
     "text": [
      "Dimensions of new_X: (1311, 6)\n",
      "Dimensions of new_Y: (1311, 1)\n"
     ]
    }
   ],
   "source": [
    "import pandas as pd\n",
    "from sklearn.ensemble import RandomForestClassifier\n",
    "\n",
    "# Read data for new companies into a DataFrame and specify column names\n",
    "#newDS = pd.read_csv('CreditRating_NewCompanies.dat', sep='\\t', header=None, names=['ID', 'WC_TA', 'RE_TA', 'EBIT_TA', 'MVE_BVTD', 'S_TA', 'Industry', 'Rating'])\n",
    "\n",
    "# Specify predictor variables for new companies (new_X)\n",
    "new_X = tblnew[['WC_TA', 'RE_TA', 'EBIT_TA', 'MVE_BVTD', 'S_TA', 'Industry']]\n",
    "\n",
    "# Specify the target variable (new_Y)\n",
    "new_Y = tblnew[['Rating']]\n",
    "\n",
    "# Handle missing values (if needed)\n",
    "# new_X.fillna(0, inplace=True)  # Uncomment if you want to fill missing values with zero\n",
    "\n",
    "# Convert the data to a suitable data type (e.g., 'float32')\n",
    "new_X = new_X.astype('float32')\n",
    "\n",
    "# Print the dimensions of new_X and new_Y for verification\n",
    "print(\"Dimensions of new_X:\", new_X.shape)\n",
    "print(\"Dimensions of new_Y:\", new_Y.shape)\n",
    "\n",
    "\n",
    "\n",
    "\n"
   ]
  },
  {
   "cell_type": "code",
   "execution_count": 46,
   "id": "ef0ac3dd",
   "metadata": {
    "scrolled": true
   },
   "outputs": [],
   "source": [
    "# Now you can make predictions with the cleaned and converted data\n",
    "pred_class = classifier.predict(new_X)\n",
    "classif_score = classifier.predict_proba(new_X)\n",
    "\n",
    "# Create a DataFrame with predictions\n",
    "predDS = pd.DataFrame({'ID': tblnew['ID'], 'PredRating': pred_class})\n",
    "\n",
    "# Extract class names from the classifier\n",
    "class_names = classifier.classes_\n",
    "\n",
    "# Add class probability columns with correct names\n",
    "for idx, class_name in enumerate(class_names):\n",
    "    predDS[class_name] = classif_score[:, idx]\n",
    "\n",
    "\n"
   ]
  },
  {
   "cell_type": "code",
   "execution_count": 47,
   "id": "c24b7cca",
   "metadata": {},
   "outputs": [],
   "source": [
    "# Assuming you have executed the code snippet you provided\n",
    "\n",
    "# Predict class labels for new_X\n",
    "pred_class = classifier.predict(new_X)\n",
    "\n",
    "# Predict class probabilities for new_X\n",
    "classif_score = classifier.predict_proba(new_X)\n",
    "\n",
    "# Create a DataFrame with predictions\n",
    "predDS = pd.DataFrame({'ID': tblnew['ID'], 'PredRating': pred_class})\n",
    "\n",
    "# Extract class names from the classifier\n",
    "class_names = classifier.classes_\n",
    "\n",
    "# Add class probability columns with correct names\n",
    "for idx, class_name in enumerate(class_names):\n",
    "    predDS[class_name] = classif_score[:, idx]\n",
    "\n",
    "# Now you can obtain the predicted categories (predicted_categories) from pred_class\n",
    "predicted_categories = pred_class\n"
   ]
  },
  {
   "cell_type": "code",
   "execution_count": 49,
   "id": "6ee7e698",
   "metadata": {},
   "outputs": [
    {
     "name": "stdout",
     "output_type": "stream",
     "text": [
      "Confusion Matrix:\n",
      "[[143  22   0   0   0  39   0]\n",
      " [ 26 103   9   0   0   0   0]\n",
      " [  0  15 201   0   0   0   0]\n",
      " [  0   0   0  36  55   0   2]\n",
      " [  0   0   0  14 219  52   0]\n",
      " [ 31   0   0   0  53 239   0]\n",
      " [  0   0   0  14   1   0  37]]\n"
     ]
    }
   ],
   "source": [
    "\n",
    "from sklearn.metrics import confusion_matrix\n",
    "\n",
    "# Convert all labels to lowercase for consistency\n",
    "actual_categories_lower = [label.lower() for label in actual_category_labels]\n",
    "predicted_categories_lower = [label.lower() for label in predicted_category_labels]\n",
    "\n",
    "# Generate the confusion matrix\n",
    "confusion_rf = confusion_matrix(actual_categories_lower, predicted_categories_lower)\n",
    "\n",
    "# Print the confusion matrix\n",
    "print(\"Confusion Matrix:\")\n",
    "print(confusion_rf)"
   ]
  },
  {
   "cell_type": "code",
   "execution_count": 50,
   "id": "0d85049d",
   "metadata": {},
   "outputs": [
    {
     "data": {
      "image/png": "[encoded data removed]",
      "text/plain": [
       "<Figure size 576x432 with 2 Axes>"
      ]
     },
     "metadata": {
      "needs_background": "light"
     },
     "output_type": "display_data"
    }
   ],
   "source": [
    "#!pip install matplotlib seaborn\n",
    "import matplotlib.pyplot as plt\n",
    "import seaborn as sns\n",
    "from sklearn.metrics import confusion_matrix\n",
    "\n",
    "# Assuming you have the confusion matrix computed and stored in the variable 'confusion'\n",
    "# 'confusion' should be a square matrix where each row and column corresponds to a category\n",
    "\n",
    "# Define category labels (assuming you have 7 categories)\n",
    "category_labels = ['AAA', 'AA', 'A', 'BBB', 'BB', 'B', 'C']\n",
    "# Create a heatmap\n",
    "plt.figure(figsize=(8, 6))\n",
    "sns.heatmap(confusion_rf, annot=True, fmt='d', cmap='Blues', xticklabels=category_labels, yticklabels=category_labels)\n",
    "plt.xlabel('Predicted')\n",
    "plt.ylabel('Actual')\n",
    "plt.title('Confusion Matrix from Random Forest')\n",
    "plt.show()\n",
    "\n",
    "\n"
   ]
  },
  {
   "cell_type": "code",
   "execution_count": 51,
   "id": "e05a8372",
   "metadata": {},
   "outputs": [
    {
     "name": "stdout",
     "output_type": "stream",
     "text": [
      "Accuracy for Random Forest: 0.8367346938775511\n",
      "Accuracy for Logistic Regression: 0.84875\n",
      "Logistic Regression has higher accuracy.\n"
     ]
    }
   ],
   "source": [
    "# Assuming you have confusion matrices: confusion_rf and confusion_logisit\n",
    "\n",
    "# Calculate accuracy for each confusion matrix\n",
    "def calculate_accuracy(confusion_matrix):\n",
    "    TP = confusion_matrix[1, 1]  # True Positives\n",
    "    TN = confusion_matrix[0, 0]  # True Negatives\n",
    "    FP = confusion_matrix[0, 1]  # False Positives\n",
    "    FN = confusion_matrix[1, 0]  # False Negatives\n",
    "    accuracy = (TP + TN) / (TP + TN + FP + FN)\n",
    "    return accuracy\n",
    "\n",
    "accuracy_rf = calculate_accuracy(confusion_rf)\n",
    "accuracy_logistic = calculate_accuracy(confusion_logistic)\n",
    "\n",
    "# Compare the accuracies\n",
    "print(\"Accuracy for Random Forest:\", accuracy_rf)\n",
    "print(\"Accuracy for Logistic Regression:\", accuracy_logistic)\n",
    "\n",
    "# Determine which model has higher accuracy\n",
    "if accuracy_rf > accuracy_logistic:\n",
    "    print(\"Random Forest has higher accuracy.\")\n",
    "elif accuracy_logistic > accuracy_rf:\n",
    "    print(\"Logistic Regression has higher accuracy.\")\n",
    "else:\n",
    "    print(\"Both models have the same accuracy.\")\n"
   ]
  },
  {
   "cell_type": "code",
   "execution_count": null,
   "id": "71da8b4b",
   "metadata": {},
   "outputs": [],
   "source": [
    "import pandas as pd\n",
    "from sklearn.model_selection import train_test_split\n",
    "from sklearn.preprocessing import LabelEncoder\n",
    "from sklearn.svm import SVC\n",
    "import xgboost as xgb\n",
    "from sklearn.metrics import accuracy_score, classification_report, confusion_matrix\n",
    "\n",
    "# Load your dataset (assuming it's stored in a DataFrame 'data')\n",
    "# Replace 'data.csv' with your dataset file path\n",
    "data = pd.read_csv('data.csv')\n",
    "\n",
    "\n",
    "# Encode the categorical target variable (Y)\n",
    "label_encoder = LabelEncoder()\n",
    "Y_encoded = label_encoder.fit_transform(Y)\n",
    "\n",
    "# Split the dataset into training and testing sets\n",
    "X_train, X_test, Y_train, Y_test = train_test_split(X, Y_encoded, test_size=0.2, random_state=42)\n",
    "\n",
    "# Support Vector Machine (SVM) Classifier\n",
    "svm_classifier = SVC(kernel='linear', C=1)\n",
    "svm_classifier.fit(X_train, Y_train)\n",
    "\n",
    "# Make predictions using the SVM classifier\n",
    "Y_pred_svm = svm_classifier.predict(X_test)\n",
    "\n",
    "# Evaluate the SVM classifier\n",
    "svm_accuracy = accuracy_score(Y_test, Y_pred_svm)\n",
    "print(f'SVM Accuracy: {svm_accuracy:.2f}')\n",
    "\n",
    "# Generate a confusion matrix for SVM\n",
    "svm_confusion = confusion_matrix(Y_test, Y_pred_svm)\n",
    "print('SVM Confusion Matrix:')\n",
    "print(svm_confusion)\n",
    "\n",
    "# Classification Report for SVM\n",
    "svm_report = classification_report(Y_test, Y_pred_svm)\n",
    "print('SVM Classification Report:')\n",
    "print(svm_report)\n",
    "\n",
    "# XGBoost Classifier\n",
    "xgb_classifier = xgb.XGBClassifier(objective='multi:softmax', num_class=len(label_encoder.classes_))\n",
    "xgb_classifier.fit(X_train, Y_train)\n",
    "\n",
    "# Make predictions using the XGBoost classifier\n",
    "Y_pred_xgb = xgb_classifier.predict(X_test)\n",
    "\n",
    "# Evaluate the XGBoost classifier\n",
    "xgb_accuracy = accuracy_score(Y_test, Y_pred_xgb)\n",
    "print(f'XGBoost Accuracy: {xgb_accuracy:.2f}')\n",
    "\n",
    "# Generate a confusion matrix for XGBoost\n",
    "xgb_confusion = confusion_matrix(Y_test, Y_pred_xgb)\n",
    "print('XGBoost Confusion Matrix:')\n",
    "print(xgb_confusion)\n",
    "\n",
    "# Classification Report for XGBoost\n",
    "xgb_report = classification_report(Y_test, Y_pred_xgb)\n",
    "print('XGBoost Classification Report:')\n",
    "print(xgb_report)\n"
   ]
  }
 ],
 "metadata": {
  "kernelspec": {
   "display_name": "Python 3 (ipykernel)",
   "language": "python",
   "name": "python3"
  },
  "language_info": {
   "codemirror_mode": {
    "name": "ipython",
    "version": 3
   },
   "file_extension": ".py",
   "mimetype": "text/x-python",
   "name": "python",
   "nbconvert_exporter": "python",
   "pygments_lexer": "ipython3",
   "version": "3.9.7"
  }
 },
 "nbformat": 4,
 "nbformat_minor": 5
}
