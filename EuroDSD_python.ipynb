{
 "cells": [
  {
   "cell_type": "code",
   "execution_count": 1,
   "metadata": {
    "colab": {
     "base_uri": "https://localhost:8080/"
    },
    "id": "qvK_aDHEUXoA",
    "outputId": "0a281f5a-415e-429c-82cb-721395e652e2"
   },
   "outputs": [],
   "source": [
    "# !pip install virtualenv---best to install on the command c\n",
    "#!virtualenv myenv\n",
    "#!source myenv/bin/activate\n",
    "#!pip install pandas_datareader"
   ]
  },
  {
   "cell_type": "code",
   "execution_count": 2,
   "metadata": {
    "id": "2QTZrEdiVLI6"
   },
   "outputs": [],
   "source": [
    "import numpy as np\n",
    "import pandas as pd\n",
    "import pandas_datareader.data as web"
   ]
  },
  {
   "cell_type": "code",
   "execution_count": 3,
   "metadata": {
    "id": "y_PqcSMcU-1F"
   },
   "outputs": [
    {
     "data": {
      "text/html": [
       "<div>\n",
       "<style scoped>\n",
       "    .dataframe tbody tr th:only-of-type {\n",
       "        vertical-align: middle;\n",
       "    }\n",
       "\n",
       "    .dataframe tbody tr th {\n",
       "        vertical-align: top;\n",
       "    }\n",
       "\n",
       "    .dataframe thead th {\n",
       "        text-align: right;\n",
       "    }\n",
       "</style>\n",
       "<table border=\"1\" class=\"dataframe\">\n",
       "  <thead>\n",
       "    <tr style=\"text-align: right;\">\n",
       "      <th></th>\n",
       "      <th>DEXUSEU</th>\n",
       "    </tr>\n",
       "    <tr>\n",
       "      <th>DATE</th>\n",
       "      <th></th>\n",
       "    </tr>\n",
       "  </thead>\n",
       "  <tbody>\n",
       "    <tr>\n",
       "      <th>2001-01-01</th>\n",
       "      <td>NaN</td>\n",
       "    </tr>\n",
       "    <tr>\n",
       "      <th>2001-01-02</th>\n",
       "      <td>0.9465</td>\n",
       "    </tr>\n",
       "    <tr>\n",
       "      <th>2001-01-03</th>\n",
       "      <td>0.9473</td>\n",
       "    </tr>\n",
       "    <tr>\n",
       "      <th>2001-01-04</th>\n",
       "      <td>0.9448</td>\n",
       "    </tr>\n",
       "    <tr>\n",
       "      <th>2001-01-05</th>\n",
       "      <td>0.9535</td>\n",
       "    </tr>\n",
       "  </tbody>\n",
       "</table>\n",
       "</div>"
      ],
      "text/plain": [
       "            DEXUSEU\n",
       "DATE               \n",
       "2001-01-01      NaN\n",
       "2001-01-02   0.9465\n",
       "2001-01-03   0.9473\n",
       "2001-01-04   0.9448\n",
       "2001-01-05   0.9535"
      ]
     },
     "execution_count": 3,
     "metadata": {},
     "output_type": "execute_result"
    }
   ],
   "source": [
    "start = '2001-01-01'\n",
    "end = '2023-01-31'\n",
    "\n",
    "\n",
    "TAB1 = web.DataReader('DEXUSEU', 'fred', start, end)\n",
    "TAB1.head()\n",
    "\n"
   ]
  },
  {
   "cell_type": "code",
   "execution_count": 4,
   "metadata": {
    "colab": {
     "base_uri": "https://localhost:8080/",
     "height": 423
    },
    "id": "p3eG_DBlzgYz",
    "outputId": "4838ccfe-f8d2-4142-f8f7-cae620bcd61e"
   },
   "outputs": [
    {
     "data": {
      "text/html": [
       "<div>\n",
       "<style scoped>\n",
       "    .dataframe tbody tr th:only-of-type {\n",
       "        vertical-align: middle;\n",
       "    }\n",
       "\n",
       "    .dataframe tbody tr th {\n",
       "        vertical-align: top;\n",
       "    }\n",
       "\n",
       "    .dataframe thead th {\n",
       "        text-align: right;\n",
       "    }\n",
       "</style>\n",
       "<table border=\"1\" class=\"dataframe\">\n",
       "  <thead>\n",
       "    <tr style=\"text-align: right;\">\n",
       "      <th></th>\n",
       "      <th>DEXUSEU</th>\n",
       "    </tr>\n",
       "    <tr>\n",
       "      <th>DATE</th>\n",
       "      <th></th>\n",
       "    </tr>\n",
       "  </thead>\n",
       "  <tbody>\n",
       "    <tr>\n",
       "      <th>2001-01-01</th>\n",
       "      <td>NaN</td>\n",
       "    </tr>\n",
       "    <tr>\n",
       "      <th>2001-01-02</th>\n",
       "      <td>0.9465</td>\n",
       "    </tr>\n",
       "    <tr>\n",
       "      <th>2001-01-03</th>\n",
       "      <td>0.9473</td>\n",
       "    </tr>\n",
       "    <tr>\n",
       "      <th>2001-01-04</th>\n",
       "      <td>0.9448</td>\n",
       "    </tr>\n",
       "    <tr>\n",
       "      <th>2001-01-05</th>\n",
       "      <td>0.9535</td>\n",
       "    </tr>\n",
       "    <tr>\n",
       "      <th>...</th>\n",
       "      <td>...</td>\n",
       "    </tr>\n",
       "    <tr>\n",
       "      <th>2023-01-23</th>\n",
       "      <td>1.0865</td>\n",
       "    </tr>\n",
       "    <tr>\n",
       "      <th>2023-01-24</th>\n",
       "      <td>1.0873</td>\n",
       "    </tr>\n",
       "    <tr>\n",
       "      <th>2023-01-25</th>\n",
       "      <td>1.0901</td>\n",
       "    </tr>\n",
       "    <tr>\n",
       "      <th>2023-01-26</th>\n",
       "      <td>1.0866</td>\n",
       "    </tr>\n",
       "    <tr>\n",
       "      <th>2023-01-27</th>\n",
       "      <td>1.0857</td>\n",
       "    </tr>\n",
       "  </tbody>\n",
       "</table>\n",
       "<p>5760 rows × 1 columns</p>\n",
       "</div>"
      ],
      "text/plain": [
       "            DEXUSEU\n",
       "DATE               \n",
       "2001-01-01      NaN\n",
       "2001-01-02   0.9465\n",
       "2001-01-03   0.9473\n",
       "2001-01-04   0.9448\n",
       "2001-01-05   0.9535\n",
       "...             ...\n",
       "2023-01-23   1.0865\n",
       "2023-01-24   1.0873\n",
       "2023-01-25   1.0901\n",
       "2023-01-26   1.0866\n",
       "2023-01-27   1.0857\n",
       "\n",
       "[5760 rows x 1 columns]"
      ]
     },
     "execution_count": 4,
     "metadata": {},
     "output_type": "execute_result"
    }
   ],
   "source": [
    "TAB1.interpolate()"
   ]
  },
  {
   "cell_type": "code",
   "execution_count": 5,
   "metadata": {
    "id": "gqPziSmlzSb9"
   },
   "outputs": [],
   "source": [
    "date1 = TAB1.index\n",
    "EURUS = TAB1.iloc[:,0]"
   ]
  },
  {
   "cell_type": "code",
   "execution_count": null,
   "metadata": {
    "id": "xKaEnfNwUs_G"
   },
   "outputs": [],
   "source": [
    "\n",
    "\n",
    "\n"
   ]
  },
  {
   "cell_type": "code",
   "execution_count": 6,
   "metadata": {
    "colab": {
     "base_uri": "https://localhost:8080/",
     "height": 282
    },
    "id": "9GMB3yVmzQ2s",
    "outputId": "8a390ea7-5241-40a6-f3fa-57c775ccfedd"
   },
   "outputs": [
    {
     "data": {
      "text/plain": [
       "[<matplotlib.lines.Line2D at 0x20e1f642eb0>]"
      ]
     },
     "execution_count": 6,
     "metadata": {},
     "output_type": "execute_result"
    },
    {
     "data": {
      "image/png": "[encoded data removed]",
      "text/plain": [
       "<Figure size 432x288 with 1 Axes>"
      ]
     },
     "metadata": {
      "needs_background": "light"
     },
     "output_type": "display_data"
    }
   ],
   "source": [
    "import matplotlib.pyplot as plt\n",
    "\n",
    "plt.plot(date1, EURUS)"
   ]
  },
  {
   "cell_type": "code",
   "execution_count": 7,
   "metadata": {
    "id": "FdL_Z_4mzyw3"
   },
   "outputs": [],
   "source": [
    "date2 = date1[1:]\n",
    "EURUSdiff = np.diff(np.log(EURUS))"
   ]
  },
  {
   "cell_type": "code",
   "execution_count": 8,
   "metadata": {
    "colab": {
     "base_uri": "https://localhost:8080/",
     "height": 282
    },
    "id": "fh9ALIEk0DCK",
    "outputId": "3dc027fb-e1eb-4ed4-f5e1-7cf8839f7401"
   },
   "outputs": [
    {
     "data": {
      "text/plain": [
       "[<matplotlib.lines.Line2D at 0x20e21c0ae80>]"
      ]
     },
     "execution_count": 8,
     "metadata": {},
     "output_type": "execute_result"
    },
    {
     "data": {
      "image/png": "[encoded data removed]",
      "text/plain": [
       "<Figure size 432x288 with 1 Axes>"
      ]
     },
     "metadata": {
      "needs_background": "light"
     },
     "output_type": "display_data"
    }
   ],
   "source": [
    "plt.plot(date2, EURUSdiff)"
   ]
  },
  {
   "cell_type": "markdown",
   "metadata": {},
   "source": [
    "A $\\underline{kernel}$  is a $\\underline{non-negative}$  real-valued integrable weighting function K for a random variable u.\n",
    "\n",
    "For most applications, it is desirable to define the function to satisfy two additional requirements, namely, \n",
    "\n",
    "$\\int_{-inf}^{inf}K(u)du = 1$\n",
    "\n",
    "K(-u) = K(u), $\\forall{u}$\n",
    "\n",
    "The two most commonly kernel functions for a random variable u are the Gaussian and the Epinechnikov kernels:\n",
    "\n",
    "$k_g(u)$ = $\\frac{1}{\\sqrt{2 \\pi}} \\exp^{-.5u^2}$\n",
    "\n",
    "$k_e(u)$ = $\\frac{3}{4}u^2$, $\\forall{u},\\ |{u}|\\leq 1$"
   ]
  },
  {
   "cell_type": "code",
   "execution_count": 9,
   "metadata": {
    "colab": {
     "base_uri": "https://localhost:8080/",
     "height": 1000
    },
    "id": "CwzlKsZM0HEK",
    "outputId": "aa024a5f-de98-43ae-b29f-d816eef7ffdf"
   },
   "outputs": [
    {
     "data": {
      "text/plain": [
       "(array([  1.,   0.,   0.,   0.,   0.,   0.,   0.,   0.,   2.,   0.,   0.,\n",
       "          0.,   0.,   0.,   0.,   0.,   0.,   0.,   0.,   1.,   0.,   2.,\n",
       "          0.,   2.,   1.,   3.,   0.,   2.,   1.,   3.,   3.,   2.,   5.,\n",
       "          2.,   1.,   6.,   6.,   5.,   7.,   6.,  11.,   7.,   8.,  10.,\n",
       "         11.,   8.,  18.,  18.,  21.,  24.,  19.,  19.,  18.,  21.,  26.,\n",
       "         27.,  30.,  42.,  35.,  42.,  43.,  53.,  80.,  65.,  69.,  63.,\n",
       "        110.,  96.,  86.,  93., 109., 130., 153., 153., 153., 159., 181.,\n",
       "        209., 196., 184., 172., 183., 154., 161., 125., 150., 143., 117.,\n",
       "        108., 108.,  86.,  84.,  77.,  74.,  62.,  56.,  69.,  53.,  42.,\n",
       "         45.,  37.,  36.,  32.,  30.,  21.,  22.,  29.,  28.,  16.,  12.,\n",
       "         12.,  12.,   7.,   9.,   9.,  12.,   3.,   6.,   3.,   4.,   4.,\n",
       "          4.,   3.,   2.,   4.,   2.,   1.,   1.,   1.,   1.,   3.,   2.,\n",
       "          1.,   0.,   1.,   2.,   0.,   2.,   0.,   1.,   1.,   1.,   0.,\n",
       "          0.,   0.,   0.,   0.,   0.,   0.,   0.,   0.,   0.,   1.,   0.,\n",
       "          0.,   0.,   1.,   0.,   0.,   1.,   0.,   0.,   0.,   0.,   0.,\n",
       "          0.,   0.,   0.,   0.,   0.,   0.,   0.,   0.,   0.,   0.,   0.,\n",
       "          0.,   0.,   0.,   0.,   1.,   0.,   0.,   0.,   0.,   0.,   0.,\n",
       "          0.,   0.,   0.,   0.,   0.,   0.,   0.,   0.,   0.,   0.,   0.,\n",
       "          0.,   1.]),\n",
       " array([-3.00310077e-02, -2.96498131e-02, -2.92686184e-02, -2.88874238e-02,\n",
       "        -2.85062291e-02, -2.81250345e-02, -2.77438398e-02, -2.73626452e-02,\n",
       "        -2.69814505e-02, -2.66002559e-02, -2.62190612e-02, -2.58378666e-02,\n",
       "        -2.54566719e-02, -2.50754773e-02, -2.46942826e-02, -2.43130880e-02,\n",
       "        -2.39318933e-02, -2.35506987e-02, -2.31695040e-02, -2.27883094e-02,\n",
       "        -2.24071147e-02, -2.20259201e-02, -2.16447254e-02, -2.12635308e-02,\n",
       "        -2.08823361e-02, -2.05011415e-02, -2.01199468e-02, -1.97387522e-02,\n",
       "        -1.93575576e-02, -1.89763629e-02, -1.85951683e-02, -1.82139736e-02,\n",
       "        -1.78327790e-02, -1.74515843e-02, -1.70703897e-02, -1.66891950e-02,\n",
       "        -1.63080004e-02, -1.59268057e-02, -1.55456111e-02, -1.51644164e-02,\n",
       "        -1.47832218e-02, -1.44020271e-02, -1.40208325e-02, -1.36396378e-02,\n",
       "        -1.32584432e-02, -1.28772485e-02, -1.24960539e-02, -1.21148592e-02,\n",
       "        -1.17336646e-02, -1.13524699e-02, -1.09712753e-02, -1.05900806e-02,\n",
       "        -1.02088860e-02, -9.82769134e-03, -9.44649669e-03, -9.06530204e-03,\n",
       "        -8.68410739e-03, -8.30291274e-03, -7.92171809e-03, -7.54052345e-03,\n",
       "        -7.15932880e-03, -6.77813415e-03, -6.39693950e-03, -6.01574485e-03,\n",
       "        -5.63455020e-03, -5.25335555e-03, -4.87216091e-03, -4.49096626e-03,\n",
       "        -4.10977161e-03, -3.72857696e-03, -3.34738231e-03, -2.96618766e-03,\n",
       "        -2.58499301e-03, -2.20379837e-03, -1.82260372e-03, -1.44140907e-03,\n",
       "        -1.06021442e-03, -6.79019771e-04, -2.97825123e-04,  8.33695258e-05,\n",
       "         4.64564174e-04,  8.45758823e-04,  1.22695347e-03,  1.60814812e-03,\n",
       "         1.98934277e-03,  2.37053742e-03,  2.75173207e-03,  3.13292671e-03,\n",
       "         3.51412136e-03,  3.89531601e-03,  4.27651066e-03,  4.65770531e-03,\n",
       "         5.03889996e-03,  5.42009461e-03,  5.80128925e-03,  6.18248390e-03,\n",
       "         6.56367855e-03,  6.94487320e-03,  7.32606785e-03,  7.70726250e-03,\n",
       "         8.08845715e-03,  8.46965179e-03,  8.85084644e-03,  9.23204109e-03,\n",
       "         9.61323574e-03,  9.99443039e-03,  1.03756250e-02,  1.07568197e-02,\n",
       "         1.11380143e-02,  1.15192090e-02,  1.19004036e-02,  1.22815983e-02,\n",
       "         1.26627929e-02,  1.30439876e-02,  1.34251822e-02,  1.38063769e-02,\n",
       "         1.41875715e-02,  1.45687662e-02,  1.49499608e-02,  1.53311555e-02,\n",
       "         1.57123501e-02,  1.60935448e-02,  1.64747394e-02,  1.68559341e-02,\n",
       "         1.72371287e-02,  1.76183234e-02,  1.79995180e-02,  1.83807127e-02,\n",
       "         1.87619073e-02,  1.91431020e-02,  1.95242966e-02,  1.99054913e-02,\n",
       "         2.02866859e-02,  2.06678805e-02,  2.10490752e-02,  2.14302698e-02,\n",
       "         2.18114645e-02,  2.21926591e-02,  2.25738538e-02,  2.29550484e-02,\n",
       "         2.33362431e-02,  2.37174377e-02,  2.40986324e-02,  2.44798270e-02,\n",
       "         2.48610217e-02,  2.52422163e-02,  2.56234110e-02,  2.60046056e-02,\n",
       "         2.63858003e-02,  2.67669949e-02,  2.71481896e-02,  2.75293842e-02,\n",
       "         2.79105789e-02,  2.82917735e-02,  2.86729682e-02,  2.90541628e-02,\n",
       "         2.94353575e-02,  2.98165521e-02,  3.01977468e-02,  3.05789414e-02,\n",
       "         3.09601361e-02,  3.13413307e-02,  3.17225254e-02,  3.21037200e-02,\n",
       "         3.24849147e-02,  3.28661093e-02,  3.32473040e-02,  3.36284986e-02,\n",
       "         3.40096932e-02,  3.43908879e-02,  3.47720825e-02,  3.51532772e-02,\n",
       "         3.55344718e-02,  3.59156665e-02,  3.62968611e-02,  3.66780558e-02,\n",
       "         3.70592504e-02,  3.74404451e-02,  3.78216397e-02,  3.82028344e-02,\n",
       "         3.85840290e-02,  3.89652237e-02,  3.93464183e-02,  3.97276130e-02,\n",
       "         4.01088076e-02,  4.04900023e-02,  4.08711969e-02,  4.12523916e-02,\n",
       "         4.16335862e-02,  4.20147809e-02,  4.23959755e-02,  4.27771702e-02,\n",
       "         4.31583648e-02,  4.35395595e-02,  4.39207541e-02,  4.43019488e-02,\n",
       "         4.46831434e-02,  4.50643381e-02,  4.54455327e-02,  4.58267274e-02,\n",
       "         4.62079220e-02]),\n",
       " <BarContainer object of 200 artists>)"
      ]
     },
     "execution_count": 9,
     "metadata": {},
     "output_type": "execute_result"
    },
    {
     "data": {
      "image/png": "[encoded data removed]",
      "text/plain": [
       "<Figure size 432x288 with 1 Axes>"
      ]
     },
     "metadata": {
      "needs_background": "light"
     },
     "output_type": "display_data"
    }
   ],
   "source": [
    "plt.hist(EURUSdiff, 200)\n"
   ]
  },
  {
   "cell_type": "code",
   "execution_count": 10,
   "metadata": {},
   "outputs": [
    {
     "data": {
      "text/html": [
       "<div>\n",
       "<style scoped>\n",
       "    .dataframe tbody tr th:only-of-type {\n",
       "        vertical-align: middle;\n",
       "    }\n",
       "\n",
       "    .dataframe tbody tr th {\n",
       "        vertical-align: top;\n",
       "    }\n",
       "\n",
       "    .dataframe thead th {\n",
       "        text-align: right;\n",
       "    }\n",
       "</style>\n",
       "<table border=\"1\" class=\"dataframe\">\n",
       "  <thead>\n",
       "    <tr style=\"text-align: right;\">\n",
       "      <th></th>\n",
       "      <th>0</th>\n",
       "    </tr>\n",
       "  </thead>\n",
       "  <tbody>\n",
       "    <tr>\n",
       "      <th>1</th>\n",
       "      <td>0.000845</td>\n",
       "    </tr>\n",
       "    <tr>\n",
       "      <th>2</th>\n",
       "      <td>-0.002643</td>\n",
       "    </tr>\n",
       "    <tr>\n",
       "      <th>3</th>\n",
       "      <td>0.009166</td>\n",
       "    </tr>\n",
       "    <tr>\n",
       "      <th>4</th>\n",
       "      <td>-0.005152</td>\n",
       "    </tr>\n",
       "    <tr>\n",
       "      <th>5</th>\n",
       "      <td>-0.009427</td>\n",
       "    </tr>\n",
       "    <tr>\n",
       "      <th>...</th>\n",
       "      <td>...</td>\n",
       "    </tr>\n",
       "    <tr>\n",
       "      <th>5754</th>\n",
       "      <td>0.003134</td>\n",
       "    </tr>\n",
       "    <tr>\n",
       "      <th>5755</th>\n",
       "      <td>0.000736</td>\n",
       "    </tr>\n",
       "    <tr>\n",
       "      <th>5756</th>\n",
       "      <td>0.002572</td>\n",
       "    </tr>\n",
       "    <tr>\n",
       "      <th>5757</th>\n",
       "      <td>-0.003216</td>\n",
       "    </tr>\n",
       "    <tr>\n",
       "      <th>5758</th>\n",
       "      <td>-0.000829</td>\n",
       "    </tr>\n",
       "  </tbody>\n",
       "</table>\n",
       "<p>5312 rows × 1 columns</p>\n",
       "</div>"
      ],
      "text/plain": [
       "             0\n",
       "1     0.000845\n",
       "2    -0.002643\n",
       "3     0.009166\n",
       "4    -0.005152\n",
       "5    -0.009427\n",
       "...        ...\n",
       "5754  0.003134\n",
       "5755  0.000736\n",
       "5756  0.002572\n",
       "5757 -0.003216\n",
       "5758 -0.000829\n",
       "\n",
       "[5312 rows x 1 columns]"
      ]
     },
     "execution_count": 10,
     "metadata": {},
     "output_type": "execute_result"
    }
   ],
   "source": [
    "import pandas as pd\n",
    "EURUSdiff = pd.DataFrame(EURUSdiff)\n",
    "\n",
    "\n",
    "EURUSdiff.replace([np.inf, -np.inf], np.nan)\n",
    "# Drop rows with NaN\n",
    "EURUSdiff.dropna\n",
    "\n",
    "EURUSdiff.dropna()\n"
   ]
  },
  {
   "cell_type": "code",
   "execution_count": 11,
   "metadata": {},
   "outputs": [
    {
     "name": "stdout",
     "output_type": "stream",
     "text": [
      "0    True\n",
      "dtype: bool\n",
      "0    False\n",
      "dtype: bool\n"
     ]
    }
   ],
   "source": [
    "print(np.isnan(EURUSdiff).any())\n",
    "print(np.isinf(EURUSdiff).any())\n",
    "EURUSdiff = EURUSdiff[~np.isnan(EURUSdiff)]\n",
    "EURUSdiff = EURUSdiff[~np.isinf(EURUSdiff)]"
   ]
  },
  {
   "cell_type": "code",
   "execution_count": 12,
   "metadata": {
    "colab": {
     "base_uri": "https://localhost:8080/",
     "height": 282
    },
    "id": "vB9PBaAp0WiC",
    "outputId": "6496f6eb-0fd5-4705-8bf8-b050ef75514f"
   },
   "outputs": [
    {
     "data": {
      "text/plain": [
       "[<matplotlib.lines.Line2D at 0x20e53e12e80>]"
      ]
     },
     "execution_count": 12,
     "metadata": {},
     "output_type": "execute_result"
    },
    {
     "data": {
      "image/png": "[encoded data removed]",
      "text/plain": [
       "<Figure size 432x288 with 1 Axes>"
      ]
     },
     "metadata": {
      "needs_background": "light"
     },
     "output_type": "display_data"
    }
   ],
   "source": [
    "from scipy import stats\n",
    "EURUSdiff = np.array(EURUSdiff)\n",
    "EURUSdiff = EURUSdiff[~np.isnan(EURUSdiff)]\n",
    "EURUSdiff = EURUSdiff[~np.isinf(EURUSdiff)]\n",
    "\n",
    "kde = stats.gaussian_kde(EURUSdiff)\n",
    "Xe = np.linspace(np.min(EURUSdiff), np.max(EURUSdiff), 100)\n",
    "Fe = kde(Xe)\n",
    "Fe = Fe/np.sum(Fe)\n",
    "\n",
    "plt.plot(Xe, Fe)\n"
   ]
  },
  {
   "cell_type": "markdown",
   "metadata": {},
   "source": [
    "Let's see how well an SVJD (Stochastic Volatility Jump Diffusion) Process can fit this kernel:\n",
    "\n",
    "$\\textbf{Stochastic Volatility Jump Diffusion Model}$\n",
    "This model has the following continuous time representation:\n",
    "\n",
    "$((dS)/S) = (\\mu-\\lambda k)⋅dt+√V⋅dZ+k⋅dq $\n",
    "\n",
    "$ dV  = (\\alpha-\\beta V)⋅dt+\\sigma_{v}√V⋅dZ_{v}$ \n",
    "\n",
    "$ Corr(dZ,dZ_{v})  = \\rho $\n",
    "\n",
    "$ prob(dq  = 1)=\\lambda dt $\n",
    "\n",
    "$ ln(1+\\bar{k}) \\sim \\phi(ln[1+\\bar{k}]-.5 \\delta, \\delta^{2}) $\n",
    "\n",
    "where dS/S is the rate of return on an asset, $\\mu$ is the expected rate of appreciation, $\\lambda$ the annual frequency of jumps, k the random percentage jump conditional on the jump occurring.  \n",
    "The variable ln(1+k) is distributed normally with mean ln[1+k]-.5 $\\kappa$  and variance $\\kappa^{2}$.  The symbol $\\phi$  represents the normal distribution. The advantage of the continuous-time representation is that the time interval can become arbitrarily smaller, and approximate \"real time\" changes.  \n",
    "\n",
    "The instantaneous conditional variance V follows a mean-reverting square root process.  The parameter $\\alpha$  is the mean of the conditional variance, while $\\beta$ is the mean-reversion coefficient.  The coefficient $\\sigma_{v}$ is the variance of the volatility process, while the noise terms dZ and $dZ_{v}$ are the standard continuous-time \"white noise\" Weiner processes, with correlation coefficient $\\rho$.\n",
    "\n",
    "This process has two major advantages.  First, it allows systematic volatility risk, and secondly, it generates an \"analytically tractable method\" for pricing options without sacrificing accuracy or unnecessary restrictions.\n",
    "\n",
    "Previously we specified the following set of parameters to simulate an SVJD process:\n",
    "\n",
    "\n",
    "𝑃𝑎𝑟𝑎𝑚𝑒𝑡𝑒𝑟𝑠 𝑓𝑜𝑟 𝑆𝑉𝐽𝐷 𝑃𝑟𝑜𝑐𝑒𝑠𝑠⎯⎯⎯⎯⎯⎯⎯⎯⎯⎯⎯⎯⎯⎯⎯⎯⎯⎯⎯⎯⎯⎯⎯⎯⎯⎯⎯⎯⎯⎯⎯⎯⎯⎯⎯⎯⎯⎯⎯⎯⎯⎯⎯⎯⎯⎯⎯⎯ \n",
    "\n",
    "Mean Return  𝜇  .21\n",
    "\n",
    "Mean volatility  𝛼  .0003\n",
    "\n",
    "Mean reversion of volatility  𝛽  .7024\n",
    "\n",
    "Time interval (daily) dt 1/250\n",
    "\n",
    "Expected jump k .3\n",
    "\n",
    "Standard deviation of percentage jump  $\\delta$  .0281\n",
    "\n",
    "Annual frequency of jumps  𝜆  2\n",
    "\n",
    "Correlation of Weiner processes  𝜌  .6\n",
    "\n",
    "Now let's try to estimate them, by simulation, to generate a Kernel desnity which comes close to matching the actual Epinichikov kernel.\n",
    "\n",
    "In this model, $S_{t+1}$ is equal to $S_{t}+[S_{t}⋅(\\mu-\\lambda k)] ⋅dt$, and for a small value of dt,  it will be unit-root nonstationary.  \n",
    "\n",
    "After first-differencing, the model will be driven by the components of dV and k⋅dq, which are random terms. \n",
    "\n",
    "Spedifically we want to feed into an SVJD model the following parameters:\n",
    "\n",
    "$\\Omega = [ \\lambda \\ \\bar{k} \\  \\delta \\  \\alpha \\ \\beta  \\ \\sigma_v \\  \\rho \\  \\mu]$\n",
    "\n",
    "For daily data, we set the time change at 1/250.  We will simulate the model for lenght 10000 to see if it can match the empirical kernel\n",
    "\n",
    "So we are going to estimate a model for eight parameters, to minimize the distance between the two kernel desnities, one for the actual data and one for the simulated data.  This is called ${estimation \\ by \\ simulation}$  We are looking for the parameter vector $\\hat{\\Omega}$"
   ]
  },
  {
   "cell_type": "code",
   "execution_count": 13,
   "metadata": {
    "id": "xc3G6pU91HPW"
   },
   "outputs": [],
   "source": [
    "hh = 250;\n",
    "h = 1/hh;\n",
    "rr = 1000;\n",
    "data = Xe.T\n",
    "data1 = Fe.T\n",
    "seed = 0\n",
    "np.random.seed(seed)\n",
    "\n",
    "y = EURUSdiff\n",
    "z = np.random.normal(size=(rr, 1))\n",
    "zk = np.random.normal(size=(rr, 1))\n",
    "junkz = z\n",
    "junkzk = zk\n",
    "betab =[.003, .7024, .0281, .3, 2, .21, .01, .6]\n",
    "\n"
   ]
  },
  {
   "cell_type": "code",
   "execution_count": 14,
   "metadata": {
    "id": "0QT1gs5Y1W_w"
   },
   "outputs": [],
   "source": [
    "import math\n",
    "\n",
    "import numpy as np\n",
    "import pandas as pd\n",
    "import scipy\n",
    "from scipy import stats\n",
    "def autocorr(x):\n",
    "    x = np.array(x)\n",
    "    x = x.reshape((-1,))\n",
    "    result = np.correlate(x, x, mode='full')\n",
    "    return result[result.size // 2:]\n",
    "\n",
    "\n",
    "def svjdproc1(betab, fixed_arg1 = \"hh\", fixed_arg2 = \"rr\", fixed_arg3 = \"data\", fixed_arg4 = \"data1\", \n",
    "              fixed_arg5 = \"y\", fixed_arg6 = junkz, fixedarg7=junkzk):\n",
    "   # global fixed_params1, fixed_params2, fixed_params3, fixed_params4, fixed_params5\n",
    "   \n",
    "    h = 1 / hh\n",
    "    z = junkz\n",
    "    zk = junkzk\n",
    "    v = np.zeros((rr, 1))\n",
    "    kx = np.zeros((rr, 1))\n",
    "    v[0, 0] = .0001\n",
    "    kx[0, 0] = 0\n",
    "    alpha = np.abs(betab[0])\n",
    "    beta = min(.95, abs(betab[1]))\n",
    "    yhat = np.zeros((rr, 1))\n",
    "\n",
    "    delta = abs(betab[2])\n",
    "    kbar = abs(betab[3])\n",
    "    _lambda = math.ceil(np.abs(betab[4]))\n",
    "    if _lambda > 4:\n",
    "        _lambda = 4\n",
    "    else:\n",
    "        _lambda = _lambda\n",
    "    poiss = np.random.poisson(_lambda * h, size=(rr, 1));\n",
    "    mu = np.abs(betab[5])\n",
    "    sigmav = np.abs(betab[6])\n",
    "    rho = betab[7]\n",
    "\n",
    "    for i in range(1, rr):\n",
    "        kx[i, 0] = zk[i, 0] * delta + np.log(1 + kbar) - .5 * delta ** 2\n",
    "        yhat[i, 0] = (mu - _lambda * kbar) * h + np.sqrt(v[i - 1, :]) * z[i, 0] + kx[i, 0] * poiss[i, 0]\n",
    "        if np.isnan(yhat[i, 0]) or np.isinf(yhat[i, 0]):\n",
    "            yhat[i, 0] = 1000\n",
    "        else:\n",
    "            yhat[i, 0] = yhat[i, 0]\n",
    "        v[i, 0] = max(.0001, v[i - 1, 0]\n",
    "                      + (alpha - beta * v[i - 1, 0]) * h\n",
    "                      + sigmav * np.sqrt(v[i - 1, 0]) * rho * z[i, 0])\n",
    "    kde = stats.gaussian_kde(yhat.T)\n",
    "    yhats = np.linspace(np.min(yhat), np.max(yhat), 100)\n",
    "    f1hat = kde(yhats)\n",
    "    f1hat = f1hat / np.sum(f1hat)\n",
    "    jump = kx * poiss\n",
    "    junk1 = 1 + np.mean(jump)\n",
    "    junk2 = np.cov(kx.T, jump.T)\n",
    "    junk3 = junk2[0, 1]\n",
    "    lambdastar = _lambda * junk1\n",
    "    kbarstar = kbar + junk3 / junk1\n",
    "    theta = [lambdastar, kbarstar, delta, alpha, beta, sigmav, rho, mu]\n",
    "    ys = data\n",
    "    f1 = data1\n",
    "    error0 = np.mean(ys) - np.mean(yhats);\n",
    "    error1 = ys - yhats\n",
    "    error2 = f1 - f1hat\n",
    "    error3 = np.var(ys) - np.var(yhats)\n",
    "    error4 = scipy.stats.skew(ys) - scipy.stats.skew(yhats);\n",
    "    error5 = scipy.stats.kurtosis(ys) - scipy.stats.kurtosis(yhats);\n",
    "    junk1 = autocorr(y)\n",
    "    rho1_y = junk1\n",
    "    junk2 = autocorr(y ** 2);\n",
    "    rho2_y = junk2\n",
    "    junk3 = autocorr(yhat[:])\n",
    "    rho1_yhat = junk3[1]\n",
    "    junk4 = autocorr(yhat[:] ** 2)\n",
    "    rho2_yhat = junk4[1]\n",
    "    error6 = rho1_y - rho1_yhat\n",
    "    error7 = rho2_y - rho2_yhat\n",
    "\n",
    "    ERROR = error0 ** 2 + np.sum(error1 * error1) + np.sum(error2 * error2) + error3 ** 2 + error4 ** 2 + error5 ** 2\n",
    "    + error6 ** 2 + error7 ** 2\n",
    "\n",
    "    return ERROR"
   ]
  },
  {
   "cell_type": "code",
   "execution_count": 15,
   "metadata": {},
   "outputs": [],
   "source": [
    "  \n",
    "    \n",
    "def svjdproc2(betab, fixed_arg1 = \"hh\", fixed_arg2 = \"rr\", fixed_arg3 = \"data\", fixed_arg4 = \"data1\", fixed_arg5 = \"y\", fixed_arg6 = junkz, fixedarg7=junkzk):\n",
    "    # global fixed_params1, fixed_params2, fixed_params3, fixed_params4, fixed_params5\n",
    "   \n",
    "    h = 1 / hh\n",
    "    seed = 0\n",
    "    np.random.seed(seed)\n",
    "    z = junkz\n",
    "    zk = junkzk\n",
    "    v = np.zeros((rr, 1))\n",
    "    kx = np.zeros((rr, 1))\n",
    "    v[0, 0] = .0001\n",
    "    kx[0, 0] = 0\n",
    "    alpha = np.abs(betab[0])\n",
    "    beta = min(.95, abs(betab[1]))\n",
    "    yhat = np.zeros((rr, 1))\n",
    "\n",
    "    delta = abs(betab[2])\n",
    "    kbar = abs(betab[3])\n",
    "    _lambda = math.ceil(np.abs(betab[4]))\n",
    "    if _lambda > 4:\n",
    "        _lambda = 4\n",
    "    else:\n",
    "        _lambda = _lambda\n",
    "    poiss = np.random.poisson(_lambda * h, size=(rr, 1));\n",
    "    mu = np.abs(betab[5])\n",
    "    sigmav = np.abs(betab[6])\n",
    "    rho = betab[7]\n",
    "\n",
    "    for i in range(1, rr):\n",
    "        kx[i, 0] = zk[i, 0] * delta + np.log(1 + kbar) - .5 * delta ** 2\n",
    "        yhat[i, 0] = (mu - _lambda * kbar) * h + np.sqrt(v[i - 1, :]) * z[i, 0] + kx[i, 0] * poiss[i, 0]\n",
    "        if np.isnan(yhat[i, 0]) or np.isinf(yhat[i, 0]):\n",
    "            yhat[i, 0] = 1000\n",
    "        else:\n",
    "            yhat[i, 0] = yhat[i, 0]\n",
    "        v[i, 0] = max(.0001, v[i - 1, 0]\n",
    "                      + (alpha - beta * v[i - 1, 0]) * h\n",
    "                      + sigmav * np.sqrt(v[i - 1, 0]) * rho * z[i, 0])\n",
    "    kde = stats.gaussian_kde(yhat.T)\n",
    "    yhats = np.linspace(np.min(yhat), np.max(yhat), 100)\n",
    "    f1hat = kde(yhats)\n",
    "    f1hat = f1hat / np.sum(f1hat)\n",
    "    jump = kx * poiss\n",
    "    junk1 = 1 + np.mean(jump)\n",
    "    junk2 = np.cov(kx.T, jump.T)\n",
    "    junk3 = junk2[0, 1]\n",
    "    lambdastar = _lambda * junk1\n",
    "    kbarstar = kbar + junk3 / junk1\n",
    "    theta = [lambdastar, kbarstar, delta, alpha, beta, sigmav, rho, mu]\n",
    "    ys = data\n",
    "    f1 = data1\n",
    "    error0 = np.mean(ys) - np.mean(yhats);\n",
    "    error1 = ys - yhats\n",
    "    error2 = f1 - f1hat\n",
    "    error3 = np.var(ys) - np.var(yhats)\n",
    "    error4 = scipy.stats.skew(ys) - scipy.stats.skew(yhats);\n",
    "    error5 = scipy.stats.kurtosis(ys) - scipy.stats.kurtosis(yhats);\n",
    "    junk = autocorr(y)\n",
    "    rho1_y = junk\n",
    "    junk2 = autocorr(y ** 2);\n",
    "    rho2_y = junk2\n",
    "    junk3 = autocorr(yhat[:])\n",
    "    rho1_yhat = junk3[1]\n",
    "    junk4 = autocorr(yhat[:] ** 2)\n",
    "    rho2_yhat = junk4[1]\n",
    "    error6 = rho1_y - rho1_yhat\n",
    "    error7 = rho2_y - rho2_yhat\n",
    "\n",
    "    ERROR = error0 ** 2 + np.sum(error1 * error1) + np.sum(error2 * error2) + error3 ** 2 + error4 ** 2 + error5 ** 2\n",
    "    + error6 ** 2 + error7 ** 2\n",
    "\n",
    "    return ERROR, theta, ys, f1, yhats, f1hat \n",
    "    "
   ]
  },
  {
   "cell_type": "code",
   "execution_count": 16,
   "metadata": {
    "id": "GETYHeOu8Pl3"
   },
   "outputs": [
    {
     "data": {
      "text/plain": [
       "2.143374832145507"
      ]
     },
     "execution_count": 16,
     "metadata": {},
     "output_type": "execute_result"
    }
   ],
   "source": [
    "ERROR = svjdproc1(betab)\n",
    "ERROR\n"
   ]
  },
  {
   "cell_type": "markdown",
   "metadata": {},
   "source": [
    "$\\textbf{Local Gradient-Based Search:  The Quasi-Newton Method and Backpropagation}$\n",
    "\n",
    "To minimize any non-linear function, we usually begin by ”initializing”  the parameter vector $\\Omega$ at any initial value, $\\Omega_{0}$,perhaps at randomly chosen values. We then ”iterate” on the coefficient set $\\Omega$ until an error metric $ \\Psi$ is minimized, by making use of first and second-order derivatives of the ”error metric” $\\Psi$  with respect to the parameters.  This type of search, called a ”gradient-based search”, is for the optimum ”in the neighborhood” of the initial parameter vector, $\\Omega_{0}$  For this reason, this type of search is a ”local” search.\n",
    "\n",
    "The usual way in which one goes about doing this iteration is through the quasi-Newton algorithm. Starting with the initial set of sum of squared errors, $\\Psi(\\Omega_{0})$, based on the initial coefficient vector $\\Omega_{0}$, a second-order Taylor expansion is used to find $\\Psi(\\Omega_{1}):\\Psi(\\Omega_{1})=\\Psi(\\Omega_{0})+\\nabla_{0}(\\Omega_{1}-\\Omega_{0})+.5(\\Omega_{1}-\\Omega_{0})^{\\prime}H_{0}(\\Omega_{1}-\\Omega_{0})$\n",
    "\n",
    "where $\\nabla_{0}$ is the gradient of the error function with respect to the parameter set $\\Omega_{0}$ and $H_{0\\text{ }}$ is the Hessian of the error function.\n",
    "\n",
    "Letting $\\Omega_{0}=[\\Omega_{0,1},...\\Omega_{0,k}]$, be the initial set of k parameters used in the network, the gradient vector $\\nabla_{0}$ is defined as follows:\n",
    "\n",
    "$\\nabla_{0}=\\left(\\begin{array}{c}\n",
    "\\frac{\\Psi(\\Omega_{0,1}+h_{1},...\\Omega_{0,k})-\\Psi(\\Omega_{0,1},...\\Omega_{0,k})}{h_{1}}\\\\\n",
    "\\frac{\\Psi(\\Omega_{0,1}...\\Omega_{0,i}+h_{i}...,\\Omega_{0,k})-\\Psi(\\Omega_{0,1},...\\Omega_{0,k})}{h_{i}}\\\\\n",
    ".\\\\\n",
    ".\\\\\n",
    "\\frac{\\Psi(\\Omega_{0,1},...\\Omega_{0,i}..\\Omega_{0,k}+h_{k})-\\Psi(\\Omega_{0,1},...\\Omega_{0,k})}{h_{k}}\n",
    "\\end{array}\\right)$\n",
    "\n",
    "The denominator $h_{i}$  is usually set at max($\\epsilon$,$\\epsilon$$\\Omega_{0,i})$,with $\\epsilon=10^{-6}$.\n",
    "\n",
    "The Hessian $H_{0}$ is the matrix of second-order partial derivatives of $\\Psi$ with respect to the elements of $\\Omega_{0}$, and are computed in a similar matter as the Jacobian or gradient vector.  The cross-partials or off-diagonal elements of the matrix $H_{0\\text{ }}$ are given by the formula:\n",
    "\n",
    "$\\frac{\\partial^{2}\\Psi}{\\partial\\Omega_{0,i}\\partial\\Omega_{0,j}}=\\frac{1}{h_{j}h_{i}}\\left[\\begin{array}{c}\n",
    "\\{\\Psi(\\Omega_{0,1},...,\\Omega_{0,i}+h_{i},\\Omega_{0,j}+h_{j},...\\Omega_{0,k})-\\Psi(\\Omega_{0,1}...\\Omega_{0,i,...}\\Omega_{0,_{j}}+h_{j}...\\Omega_{0,k})\\}\\\\\n",
    "-\\{\\Psi(\\Omega_{0,1},...,\\Omega_{0,i}+h_{i},\\Omega_{0,j},...\\Omega_{0,k})-\\Psi(\\Omega_{0,1},...\\Omega_{0,k})\\}\n",
    "\\end{array}\\right]$\n",
    "\n",
    "The direct second-order partials or diagonal elements are given by:\n",
    "\n",
    "$\\frac{\\partial^{2}\\Psi}{\\partial\\Omega_{0,i}^{2}}=\\frac{1}{h_{i}^{2}}\\left(\\begin{array}{c}\n",
    "\\Psi(\\Omega_{0,1},...,\\Omega_{0,i}+h_{i},...\\Omega_{0,k})-2\\Psi(\\Omega_{0,1},...\\Omega_{0,k})\\\\\n",
    "+\\Psi(\\Omega_{0,1},...,\\Omega_{0,i}-h_{i},...\\Omega_{0,k})\n",
    "\\end{array}\\right)$"
   ]
  },
  {
   "cell_type": "code",
   "execution_count": 17,
   "metadata": {
    "id": "fzHfoAsc9Dog"
   },
   "outputs": [],
   "source": [
    "from scipy.optimize import minimize \n",
    "result = minimize(svjdproc1,betab)"
   ]
  },
  {
   "cell_type": "code",
   "execution_count": 18,
   "metadata": {},
   "outputs": [
    {
     "data": {
      "text/plain": [
       "array([0.00301083, 0.70240573, 0.02810822, 0.30001624, 2.00001221,\n",
       "       0.21001386, 0.0100081 , 0.6000108 ])"
      ]
     },
     "execution_count": 18,
     "metadata": {},
     "output_type": "execute_result"
    }
   ],
   "source": [
    "betab = result.x\n",
    "betab\n"
   ]
  },
  {
   "cell_type": "code",
   "execution_count": 19,
   "metadata": {},
   "outputs": [
    {
     "data": {
      "text/plain": [
       "2.143374832145507"
      ]
     },
     "execution_count": 19,
     "metadata": {},
     "output_type": "execute_result"
    }
   ],
   "source": [
    "ERROR"
   ]
  },
  {
   "cell_type": "code",
   "execution_count": 20,
   "metadata": {},
   "outputs": [],
   "source": [
    "ERROR, theta, ys, f1, yhats, f1hat =svjdproc2(betab)\n"
   ]
  },
  {
   "cell_type": "markdown",
   "metadata": {},
   "source": [
    "$\\textbf{Simulated  Annealing}$\n",
    "\n",
    "\n",
    "1. Specify  Temperature   and  ”Cooling Schedule”  Parameter,   $\\bar{T}$ \n",
    "\n",
    "1a.Operation:   T(j)= $\\frac{\\bar{T}}{1+\\ln[j]}$\n",
    "\n",
    "2. Start Random Process at j=0, continue till j=(1,2,...$\\bar{T}$)\n",
    "\n",
    "3. Initialize Solution Vector and Error Metric: \n",
    "\n",
    "3a.$\\Omega_{0}, \\Psi_{0}$\n",
    "\n",
    "\n",
    "4.  Randomly Perturbate Solution Vector, Obtain Error Metric for each j: \n",
    "\n",
    "4a. $\\widehat{\\Omega}_{j}, \\widehat{\\Psi}_{j}$\n",
    "\n",
    "5.  Generate P(j) from Uniform Distribution \n",
    "\n",
    "5a  0 $\\leq$ P(j) $\\leq$ 1\n",
    "\n",
    "6.    Compute Metropolis Ratio M(j)  \n",
    "\n",
    "6a    M(j) $=exp{\\left[\\frac{-\\left(\\widehat{\\Psi}_{j}-\\Psi_{j-1}\\right)}{T(j)}\\right]}$\n",
    "\n",
    "7.     Accept New Vector $\\widehat{\\Omega}_{j}$  Unconditionally if\n",
    "\n",
    "7a.   $\\Omega_{j}= \\widehat{\\Omega}_{j}{\\Leftrightarrow}\\left(\\widehat{\\Psi}_{j}-\\Psi_{j-1}\\right) <0$ \n",
    "\n",
    "8.    Accept New Vector $\\Omega_{j}=\\widehat{\\Omega}_{j}$  Conditionally if:\n",
    "\n",
    "8a    P(j) $\\leq$ M(j)\n",
    "\n",
    "9.    Continue process till j= $\\bar{T}$ "
   ]
  },
  {
   "cell_type": "code",
   "execution_count": 21,
   "metadata": {},
   "outputs": [
    {
     "data": {
      "text/plain": [
       "[<matplotlib.lines.Line2D at 0x20e53eb3820>]"
      ]
     },
     "execution_count": 21,
     "metadata": {},
     "output_type": "execute_result"
    },
    {
     "data": {
      "image/png": "[encoded data removed]",
      "text/plain": [
       "<Figure size 432x288 with 1 Axes>"
      ]
     },
     "metadata": {
      "needs_background": "light"
     },
     "output_type": "display_data"
    }
   ],
   "source": [
    "plt.plot(yhats,f1hat)"
   ]
  },
  {
   "cell_type": "markdown",
   "metadata": {},
   "source": [
    "$\\textbf{Evolutionary Stochastic Search: The Genetic Algorithm}$\n",
    "\n",
    "\n",
    "\n",
    "Both the Newton-based optimization (including backpropagation) and Simulated Annealing (SA) start with one random initialization vector $\\Omega_{0}$.  It should be clear that the usefulness of both of these approaches to optimization crucially depend on how ”good” this initial parameter guess really is.  The genetic algorithm or GA helps us come up with a better ”guess” for using either of these search processes.  \n",
    "\n",
    "The GA reduces the likelihood of landing in a local minimum.  We no longer have to approximate the Hessians. \n",
    "The GA proceeds in the following steps.\n",
    "\n",
    "1. Population creation\n",
    "\n",
    "This method starts not with one random coefficient vector $\\Omega$, but with a population $N^{\\ast}$ (an even number) of random vectors.  \n",
    "\n",
    "Letting p be the size of each column vector, representing the total number of coefficients to be estimated in the neural network, we create a population $N^{\\ast}$ of p by 1 random vectors.  \n",
    "\n",
    "$\\left(\\begin{array}{c}\n",
    "\\begin{array}{c}\n",
    "\\Omega_{1}\\\\\n",
    "\\Omega_{2}\\\\\n",
    "\\Omega_{\\substack{3}\n",
    "}\n",
    "\\end{array}\\\\\n",
    ".\\\\\n",
    ".\\\\\n",
    "\\Omega_{p}\n",
    "\\end{array}\\right)_{1}\\left(\\begin{array}{c}\n",
    "\\begin{array}{c}\n",
    "\\Omega_{1}\\\\\n",
    "\\Omega_{2}\\\\\n",
    "\\Omega_{\\substack{3}\n",
    "}\n",
    "\\end{array}\\\\\n",
    ".\\\\\n",
    ".\\\\\n",
    "\\Omega_{p}\n",
    "\\end{array}\\right)_{2}\\left(\\begin{array}{c}\n",
    "\\begin{array}{c}\n",
    "\\Omega_{1}\\\\\n",
    "\\Omega_{2}\\\\\n",
    "\\Omega_{\\substack{3}\n",
    "}\n",
    "\\end{array}\\\\\n",
    ".\\\\\n",
    ".\\\\\n",
    "\\Omega_{p}\n",
    "\\end{array}\\right)_{i}...\\left(\\begin{array}{c}\n",
    "\\begin{array}{c}\n",
    "\\Omega_{1}\\\\\n",
    "\\Omega_{2}\\\\\n",
    "\\Omega_{\\substack{3}\n",
    "}\n",
    "\\end{array}\\\\\n",
    ".\\\\\n",
    ".\\\\\n",
    "\\Omega_{p}\n",
    "\\end{array}\\right)_{N\\ast}\n",
    "$\n",
    "\n",
    "2 Selection\n",
    "\n",
    "The next step is to select two pairs of coefficients from the population at random, with replacement.  Evaluate the ”fitness” of these four coefficient vectors, in two pair wise combinations, according to the sum of squared error function given above.  Coefficient vectors which come closer to minimizing the sum of squared errors receive ”better” fitness values.\n",
    "\n",
    "This is a simple fitness ”tournament” between the two pairs of vectors: the winner of each tournament is the vector with the best ”fitness”. These two winning vectors (i,j)are retained for ”breeding” purposes.  While not always used, it has proven to be  extremely useful for speeding up the convergence of the genetic search process.   \n",
    "$\\left(\\begin{array}{c}\n",
    "\\begin{array}{c}\n",
    "\\Omega_{1}\\\\\n",
    "\\Omega_{2}\\\\\n",
    "\\Omega_{\\substack{3}\n",
    "}\n",
    "\\end{array}\\\\\n",
    ".\\\\\n",
    ".\\\\\n",
    "\\Omega_{p}\n",
    "\\end{array}\\right)_{i}\\left(\\begin{array}{c}\n",
    "\\begin{array}{c}\n",
    "\\Omega_{1}\\\\\n",
    "\\Omega_{2}\\\\\n",
    "\\Omega_{\\substack{3}\n",
    "}\n",
    "\\end{array}\\\\\n",
    ".\\\\\n",
    ".\\\\\n",
    "\\Omega_{p}\n",
    "\\end{array}\\right)_{j}\n",
    "$\n",
    "\n",
    "3 Crossover\n",
    "\n",
    "The next step is crossover, in which the two parents ”breed” two children.  The algorithm allows ”crossover” to be performed on each pair of coefficient vectors i and j, with a fixed probability p>0.  If crossover is to be performed, the algorithm uses one of three difference crossover operations, with each method having an equal (1/3) probability of being chosen:\n",
    "\n",
    "1. Shuffle crossover.  For each pair of vectors, k random draws are made from a binomial distribution. If the $k^{th}$ draw is equal to 1, the coefficients $\\Omega_{i,p}$ and $\\Omega_{j,p}$ are swapped; otherwise, no change is made.\n",
    "\n",
    "2. Arithmetic crossover. For each pair of vectors, a random number is chosen, $\\omega\\in(0,1)$. This number is used to create two new parameter vectors which are linear combinations of the two parent factors, $\\omega\\Omega_{i,p}+(1-\\omega)\\Omega_{j,p},(1-\\omega\\Omega_{i,p}+\\omega)\\Omega_{j,p}$.\n",
    "\n",
    "3. Single-point crossover. For each pair of vectors, an integer I is randomly chosen from the set [1,k-1].  The two vectors are then cut at integer I and the coefficients to the right of this cut point, $\\Omega_{i,I+1},\\Omega_{j,I+1}$ are swapped. \n",
    "\n",
    "In binary-encoded genetic algorithms, single-point crossover is the standard method.  There is no consensus in the genetic algorithm literature on which method is best for real-valued encoding.  \n",
    "\n",
    "Following the operation of the crossover operation, each pair of ”parent” vectors is associated with two ”children” coefficient vectors, which are denoted C1(i) and C2(j).  If crossover has been applied to the pair of parents, the children vectors will generally differ from the parent vectors.\n",
    "\n",
    "4 Mutation\n",
    "\n",
    "The fifth step is mutation of the children.  With some small probability $\\widetilde{pr}$, which decreases over time, each element or coefficient of the two children's vectors is subjected to a mutation.  The probability of each element is subject to mutation in generation $G=1,2,...G^{\\ast}$, given by the probability $\\widetilde{pr}=.15+.33/G$.\n",
    "\n",
    "If mutation is to be performed on a vector element, we use the following non-uniform mutation operation, due to Michalewicz (1996).  \n",
    "\n",
    "Begin by randomly drawing two real numbers $r_{1}$ and $r_{2}$ from the [0,1] interval and one random number s, from a standard normal distribution.  The mutated coefficient $\\widetilde{\\Omega} _{i,p}$ is given by the following $formula:\\widetilde{\\Omega}_{i,p}=\\left\\{ \\begin{array}{c}\n",
    "\\Omega_{i,p}+s[1-r_{2}^{(1-G/G^{\\ast})^{b}}]\\text{ if }r_{1}>.5\\\\\n",
    "\\Omega_{i,p}-s[1-r_{2}^{(1-G/G^{\\ast})^{b}}]\\text{ if }r_{1}\\leq.5\n",
    "\\end{array}\\right\\} $\n",
    "\n",
    "where G is the generation number, $G^{\\ast}$ is the maximum number of generations, and b is a parameter which governs the degree to which the mutation operation is non-uniform.  Usually we set b= 2.  Note that the probability of creating a new coefficient via mutation which is far from the current coefficient value diminishes as $G\\rightarrow G^{\\ast}$, where $G^{\\ast}$ is the number of generations.  Thus, the mutation probability itself \"evolves\" through time  \n",
    "\n",
    "The mutation operation is non-uniform since, over time, the algorithm is sampling increasingly more intensively in a neighborhood of the existing coefficient values.  This more localized search allows for some fine tuning of the coefficient vector in the later stages of the search, when the vectors should be approaching close to a global optimum.\n",
    "\n",
    "5 Election tournament\n",
    "\n",
    "The last step is the election tournament.  Following the mutation operation, the four members of the ”family” (P1,P2,C1,C2) engage in a fitness tournament.  The children are evaluated by the same fitness criterion used to evaluate the parents.  The two vectors with the best fitness, whether parents or children, survive and pass to the next generation, while the two with the worst fitness value are extinguished.  This election operator is due to Arifovic (1996).  She notes that this election operator \"endogenously controls the realized rate of mutation\" in the genetic search process [Arifovic (1996): p. 525].\n",
    "\n",
    "We repeat the above process, with parents i and j returning to the population pool for possible selection again, until the next generation is populated by N* vectors.\n",
    "\n",
    "6 Elitism\n",
    "\n",
    "Once the next generation is populated, we can introduce elitism (or not)  Evaluate all the members of the new generation and the past generation according to the fitness criterion.  If the ”best” member of the older generation dominated the best member of the new generation, then this member displaces the worst member of the new generation and is thus eligible for selection in the coming generation.\n",
    "\n",
    "7 Convergence\n",
    "\n",
    "One continues this process for $G^{\\ast}$ generations.  Unfortunately, the literature gives us little guidance about selecting a value for $G^{\\ast}$. Since we evaluate convergence by the fitness value of the best member of each generation, $G^{\\ast}$ should be large enough so that we see no changes in the fitness values of the \"best\" for several generations.  \n",
    "\n",
    "8  Evolutionary Genetic Algorithms\n",
    "\n",
    "Just as the genetic algorithm is an \"evolutionary search process\" for finding the best coefficient set $\\Omega$ of p elements, the parameters of the genetic algorithm, such as population size, probability of crossover, initial mutation probability, use of elitism or not, can evolve themselves.  As Fogel and Michalewicz (2002) observe, \"let's admit that finding good parameter values for an evolutionary algorithm is a poorly structured, ill-defined, complex problem. But these are the kinds of problems for which evolutionary algorithms are themselves quite adept\" [Fogel and Michalewicz (2002): p.281].  They suggest two different ways to do make a genetic algorithm evolutionary.  One, as we suggested with the mutation probability, is to use a feedback rule from the state of the system which modifies a parameter during the search process. Alternatively, we can incorporate the training parameters into the solution by modifying $\\Omega$, to include additional elements, such as population size, use of elitism, crossover probability.  These parameters thus become subject to evolutionary search along with the solution set $\\Omega$ itself."
   ]
  },
  {
   "cell_type": "markdown",
   "metadata": {},
   "source": [
    "$\\textbf{The Particle Swarm Algorithm}$\n",
    "\n",
    "The Particle Swarm algorithm is similar to the GA.  Both start out with a wide set of candidate solutions to the parameter sector.   It is take from the social behavior of animal groups foraging for food, who are able to share information within their group or swarm, which gives them survival knowledge.\n",
    "\n",
    "Each parameter $\\Omega_{i}$is a position vector, or particle, in the swarm and consists of K-elements at iteration t: \n",
    "\n",
    "$\\Omega_{i}^{t}$ = $[\\omega_{i,1}^t, \\omega_{i,2}^t ...\\omega_{i,k}^t]$, k=1...K,  for i=1.,,,N position vectors\n",
    "\n",
    "Each position vector tries to optimize a payoff or fitness function $f(\\Omega_{i}^t)$\n",
    "\n",
    "For each position vector, $\\Omega_{i}$ there is a Velocity vector $V_{i}^t$.  Each velocity vector is updated at each iteration t, for each of the N position vectors, in the following way:\n",
    "\n",
    "$V_{i,k}^{t+1} = c_0 V_{i,k}^t + c_1 r_1^t (Pbest_{i,k}-\\Omega_{i,k}^t) + c_2 r_2^t(Gbest_{i,k}^t-\\Omega_{i,k}^t)$\n",
    "\n",
    "Given the law of motion of the Velocity of each position vector in the swarm, each position vector updates in the following way:\n",
    "\n",
    "$\\Omega_{i,k}^{t+1}= \\Omega_{i,k}^t + V_{i,k}^{t+1}$\n",
    "\n",
    "The parameter $c_0$ is the inertia coefficient,and is positive, with 0 $\\le c_0 \\le 1$\n",
    "\n",
    "The individual cognition term is given by $c_1$.  It is related to the difference between the particle's current position and its best.  The parameter $c_1$ is shocked by a uniform random term, $r_1^t$.  This random terms plays an important role for avoiding premature convergence.\n",
    "\n",
    "The term $c_2$ is the social learning term.  Because of it all members of the swarm are able to share the information of the best point, given by $Gbest_{i,k}^t$, regardless of which particle found it.  This parameter is also subject to a uniform shock, $r_1^t$.\n",
    "\n",
    "The parameters for learning are usually set to 2.  The number of particles is usually set between 20 and 40.\n",
    "\n",
    "Like the GA, it is derivative-free and has fewer \"hyper-parameters\".\n"
   ]
  },
  {
   "cell_type": "code",
   "execution_count": 22,
   "metadata": {},
   "outputs": [
    {
     "data": {
      "image/png": "[encoded data removed]",
      "text/plain": [
       "<Figure size 432x288 with 1 Axes>"
      ]
     },
     "metadata": {
      "needs_background": "light"
     },
     "output_type": "display_data"
    }
   ],
   "source": [
    "import matplotlib.pyplot as plt\n",
    "\n",
    "\n",
    "\n",
    "plt.plot(yhats, f1hat, '-', label='Fitted Distribution')\n",
    "plt.plot(Xe, Fe, '--', label='Actual Distribution')\n",
    "plt.legend()\n",
    "plt.show()"
   ]
  },
  {
   "cell_type": "code",
   "execution_count": null,
   "metadata": {},
   "outputs": [],
   "source": [
    "\n"
   ]
  },
  {
   "cell_type": "code",
   "execution_count": 23,
   "metadata": {
    "scrolled": true
   },
   "outputs": [
    {
     "name": "stderr",
     "output_type": "stream",
     "text": [
      "C:\\Users\\mcnelis\\AppData\\Local\\Programs\\Python\\Python39\\lib\\site-packages\\scipy\\optimize\\_optimize.py:284: RuntimeWarning: Values in x were outside bounds during a minimize step, clipping to bounds\n",
      "  warnings.warn(\"Values in x were outside bounds during a \"\n"
     ]
    }
   ],
   "source": [
    "\n",
    "from multiprocessing import Process\n",
    "from scipy.optimize import differential_evolution\n",
    "import numpy as np\n",
    "from scipy.optimize import optimize \n",
    "bounds = [[.001,betab[0]*2],[.001,betab[1]*2],[.001,betab[2]*2],[.001,betab[3]*2],[.001,betab[4]*2],[.001,betab[5]*2],[.001,betab[6]*2],[.001,betab[7]*2]]\n",
    "\n",
    "result1 = scipy.optimize.shgo(svjdproc1,bounds)\n",
    "\n",
    "#result = differential_evolution(svjdproc1, bounds, x0=betab,maxiter=100, popsize=100, tol=.001, workers= 12)\n",
    "#print(\"Optimal Solution: \", result.x)\n",
    "#print(\"Objective Value: \", result.fun)\n",
    "\n",
    "\n",
    "#f = svjdproc1(betab1,fixed_param1, fixed_param2, fixed_param3,fixed_param4, fixed_param5)\n"
   ]
  },
  {
   "cell_type": "code",
   "execution_count": null,
   "metadata": {},
   "outputs": [],
   "source": []
  },
  {
   "cell_type": "code",
   "execution_count": 24,
   "metadata": {},
   "outputs": [
    {
     "data": {
      "text/plain": [
       "0.049199359345761244"
      ]
     },
     "execution_count": 24,
     "metadata": {},
     "output_type": "execute_result"
    }
   ],
   "source": [
    "ERROR1 = result1.fun\n",
    "ERROR1"
   ]
  },
  {
   "cell_type": "code",
   "execution_count": 25,
   "metadata": {},
   "outputs": [],
   "source": [
    "betab1 = result1.x"
   ]
  },
  {
   "cell_type": "code",
   "execution_count": 26,
   "metadata": {},
   "outputs": [
    {
     "data": {
      "text/plain": [
       "0.049190574758212424"
      ]
     },
     "execution_count": 26,
     "metadata": {},
     "output_type": "execute_result"
    }
   ],
   "source": [
    "ERROR1a, theta, ys, f1, yhats, f1hat =svjdproc2(betab1)\n",
    "ERROR1a"
   ]
  },
  {
   "cell_type": "code",
   "execution_count": 27,
   "metadata": {},
   "outputs": [
    {
     "data": {
      "image/png": "[encoded data removed]",
      "text/plain": [
       "<Figure size 432x288 with 1 Axes>"
      ]
     },
     "metadata": {
      "needs_background": "light"
     },
     "output_type": "display_data"
    }
   ],
   "source": [
    "plt.plot(yhats, f1hat, '-', label='Fitted Distribution')\n",
    "plt.plot(Xe, Fe, '--', label='Actual Distribution')\n",
    "plt.legend()\n",
    "plt.show()"
   ]
  },
  {
   "cell_type": "code",
   "execution_count": 28,
   "metadata": {},
   "outputs": [],
   "source": [
    "bounds = [[.001,betab1[0]*2],[.001,betab1[1]*2],[.001,betab1[2]*2],[.001,betab1[3]*2],[.001,betab1[4]*2],[.001,betab1[5]*2],[.001,betab1[6]*2],[.001,betab1[7]*2]]\n",
    "result2 = minimize(svjdproc1, betab1)"
   ]
  },
  {
   "cell_type": "code",
   "execution_count": 31,
   "metadata": {},
   "outputs": [],
   "source": [
    "betab2 = result2.x"
   ]
  },
  {
   "cell_type": "code",
   "execution_count": 38,
   "metadata": {},
   "outputs": [],
   "source": [
    "result3 = scipy.optimize.dual_annealing(svjdproc1,bounds)"
   ]
  },
  {
   "cell_type": "code",
   "execution_count": 40,
   "metadata": {},
   "outputs": [
    {
     "data": {
      "text/plain": [
       "     fun: 0.04145327269668165\n",
       " message: ['Maximum number of iteration reached']\n",
       "    nfev: 17486\n",
       "    nhev: 0\n",
       "     nit: 1000\n",
       "    njev: 165\n",
       "  status: 0\n",
       " success: True\n",
       "       x: array([1.01195825e-03, 1.52889792e+00, 1.27829055e-03, 5.84693159e-03,\n",
       "       4.01018451e-03, 4.43666527e-01, 1.01063033e-03, 1.38039667e+00])"
      ]
     },
     "execution_count": 40,
     "metadata": {},
     "output_type": "execute_result"
    }
   ],
   "source": [
    "result3"
   ]
  },
  {
   "cell_type": "code",
   "execution_count": 41,
   "metadata": {},
   "outputs": [],
   "source": [
    "betab3 = result3.x"
   ]
  },
  {
   "cell_type": "code",
   "execution_count": 44,
   "metadata": {},
   "outputs": [
    {
     "data": {
      "text/plain": [
       "0.047107961746067094"
      ]
     },
     "execution_count": 44,
     "metadata": {},
     "output_type": "execute_result"
    }
   ],
   "source": [
    "ERROR3a, theta, ys, f1, yhats, f1hat =svjdproc2(betab3)\n",
    "ERROR3a"
   ]
  },
  {
   "cell_type": "code",
   "execution_count": 45,
   "metadata": {},
   "outputs": [
    {
     "data": {
      "image/png": "[encoded data removed]",
      "text/plain": [
       "<Figure size 432x288 with 1 Axes>"
      ]
     },
     "metadata": {
      "needs_background": "light"
     },
     "output_type": "display_data"
    }
   ],
   "source": [
    "plt.plot(yhats, f1hat, '-', label='Fitted Distribution')\n",
    "plt.plot(Xe, Fe, '--', label='Actual Distribution')\n",
    "plt.legend()\n",
    "plt.show()"
   ]
  },
  {
   "cell_type": "code",
   "execution_count": null,
   "metadata": {},
   "outputs": [],
   "source": [
    "bounds = [[-10,10],[-10,10],[-10,10],[-10,10],[-10,10],[-10,10],[-10,10],[-10,10]]\n",
    "result4 = differential_evolution(svjdproc1, bounds, x0=betab3,maxiter=100, popsize=100, tol=.001, workers= 12)\n",
    "result4"
   ]
  },
  {
   "cell_type": "code",
   "execution_count": null,
   "metadata": {},
   "outputs": [],
   "source": [
    "result4"
   ]
  },
  {
   "cell_type": "code",
   "execution_count": null,
   "metadata": {},
   "outputs": [],
   "source": []
  }
 ],
 "metadata": {
  "colab": {
   "name": "EuroUSD1.ipynb",
   "provenance": []
  },
  "kernelspec": {
   "display_name": "Python 3 (ipykernel)",
   "language": "python",
   "name": "python3"
  },
  "language_info": {
   "codemirror_mode": {
    "name": "ipython",
    "version": 3
   },
   "file_extension": ".py",
   "mimetype": "text/x-python",
   "name": "python",
   "nbconvert_exporter": "python",
   "pygments_lexer": "ipython3",
   "version": "3.9.7"
  }
 },
 "nbformat": 4,
 "nbformat_minor": 1
}
