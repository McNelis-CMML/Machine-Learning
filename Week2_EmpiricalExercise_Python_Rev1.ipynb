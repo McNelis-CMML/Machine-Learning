{
 "cells": [
  {
   "cell_type": "markdown",
   "metadata": {},
   "source": [
    "$\\textbf{Introduction}$\n",
    "\n",
    "In this segment, we will examine the use of the LASSO with cross-validation for both artificially generated data as well as actual data.  We will not test hypothesis but we will see how the Elastic Net/LASSO and Cross-Validation methods help to destroy useless coefficients.\n",
    "As discussed in the lecture, the minimization problem for estimation puts a penalty on the size of the estimated parameters.\n",
    "\n",
    "The estimation problem is to minimize the penalize sum of squared errors, with the penalty based on the sum of the parameters, either in absolute or in squared values:\n",
    "\n",
    "\n",
    "$\\beta_{Enet}=\\stackrel{Min}{\\beta}\\left\\{ \\sum_{t=1}^{T}\\left(y_{t}-\\sum_{i}\\beta_{i}x_{it}\\right)^{2}+\\lambda\\sum_{i=1}^{k}\\left[\\left(\\alpha|\\beta_{i}|\\right)+(1-\\alpha)\\beta_{i}^{2}\\right]\\right\\}$\n",
    "\n",
    "The parameters  $\\alpha$ and $\\lambda$ are $\\textit{hyper-parameters}$.   With $\\alpha=1$ the problem is to minimize the sum of absolute values of the estimate coefficients, and with $\\alpha=0$ the problem is to minimize the sum of squares of the estimated programs.  The former is called LASSO estimation, while the latter is called Ridge regression.   Elastic net estimation implies a value of $\\alpha$ between 0 and 1.   We will set the hyper-parameter $\\alpha=.5$.\n",
    "\n",
    "The problem is to find the right value of $\\lambda$ for minimizing the penalized sum-of-squared errors.\n",
    "\n",
    "The method of Cross-Validation works in the following way:\n",
    "• In this approach, we select a grid of values for $\\lambda$, between $\\lambda=0$, and $\\lambda^{*}$, the minimum $\\lambda$ which sets all of the coefficients $\\beta_{i}=0$.\n",
    "\n",
    "• We then select a set of out-of-sample Mean Squared Error measures, based on holding out 20% of the sample for each specified $\\lambda$ over the grid. \n",
    "\n",
    "• We thus select the optimal $\\lambda$ as the one which minimizes the average out-of-sample mean squared error, based on five sets of hold-outs of 20% of the data. \n",
    "\n",
    "• We note that the coefficients $\\left\\{ \\beta_{i}\\right\\}$  are based on the full in-sample elastic-net estimation with the pre-specified tuning parameter, $\\alpha$, \n",
    "\n",
    "• We obtain the final optimal value of $\\lambda$ from the cross-validation method. \n",
    "\n",
    "\n",
    "\n",
    "\n",
    "\n"
   ]
  },
  {
   "cell_type": "markdown",
   "metadata": {},
   "source": [
    "$\\textbf{Monte Carlo Experiment}$\n",
    "\n",
    "Our first example is a simple Monte Carlo experiment  We will make use of a Matlab built-in function called LASSO wiht the CV option.  But other LASSO programs can be used as well.\n",
    "We basically generate random data, for both the dependent variable and the indepenent variabls.  Of course, the coefficints should be zero.  But they will not be exactly zero."
   ]
  },
  {
   "cell_type": "code",
   "execution_count": 21,
   "metadata": {},
   "outputs": [
    {
     "name": "stdout",
     "output_type": "stream",
     "text": [
      "Collecting glmnet.py\n",
      "  Using cached glmnet_py-0.1.0b2-py2.py3-none-any.whl (378 kB)\n",
      "Requirement already satisfied: joblib>=0.10.3 in c:\\users\\mcnelis\\anaconda3\\lib\\site-packages (from glmnet.py) (0.14.1)\n",
      "Installing collected packages: glmnet.py\n",
      "Successfully installed glmnet.py\n",
      "Requirement already satisfied: sklearn in c:\\users\\mcnelis\\anaconda3\\lib\\site-packages (0.0)\n",
      "Requirement already satisfied: scikit-learn in c:\\users\\mcnelis\\anaconda3\\lib\\site-packages (from sklearn) (0.22.1)\n",
      "Requirement already satisfied: numpy>=1.11.0 in c:\\users\\mcnelis\\anaconda3\\lib\\site-packages (from scikit-learn->sklearn) (1.18.1)\n",
      "Requirement already satisfied: joblib>=0.11 in c:\\users\\mcnelis\\anaconda3\\lib\\site-packages (from scikit-learn->sklearn) (0.14.1)\n",
      "Requirement already satisfied: scipy>=0.17.0 in c:\\users\\mcnelis\\anaconda3\\lib\\site-packages (from scikit-learn->sklearn) (1.4.1)\n"
     ]
    }
   ],
   "source": [
    "!pip install glmnet.py\n",
    "!pip install sklearn\n",
    "import pandas as pd\n",
    "import numpy as np\n",
    "import matplotlib.pyplot as plt\n",
    "import statsmodels.api as sm\n",
    "from statsmodels.tsa.ar_model import AutoReg\n",
    "from sklearn import linear_model\n",
    "from sklearn.linear_model import LassoCV\n",
    "\n"
   ]
  },
  {
   "cell_type": "code",
   "execution_count": 93,
   "metadata": {},
   "outputs": [
    {
     "data": {
      "image/png": "[encoded data removed]",
      "text/plain": [
       "<Figure size 432x288 with 1 Axes>"
      ]
     },
     "metadata": {
      "needs_background": "light"
     },
     "output_type": "display_data"
    }
   ],
   "source": [
    "# Montecarlo Experiment\n",
    "import pandas as pd\n",
    "import numpy as np\n",
    "import matplotlib.pyplot as plt\n",
    "import statsmodels.api as sm\n",
    "from statsmodels.tsa.ar_model import AutoReg\n",
    "from sklearn.linear_model import LassoCV\n",
    "import numpy as np\n",
    "y = np.random.randn(20000,1)\n",
    "x = np.random.randn(20000,20)\n",
    "x = sm.add_constant(x)\n",
    "B = sm.OLS(y,x)\n",
    "plt.bar(np.array(range(20)),B.fit().params[1:])\n",
    "plt.xlabel('Intercept and Coefficients')\n",
    "plt.ylabel('OLS Estimates');\n",
    "\n",
    "\n"
   ]
  },
  {
   "cell_type": "markdown",
   "metadata": {},
   "source": [
    "You can see that the estimation from the randomly-generated data gives coefficients which are not zero.  Of course they are not statistically significant but we are not interested in doing statistical tests.  We want to use the EN-Lasso method to get rid of these useless coefficient.\n",
    "\n",
    "Now let's estimate the coefficients with the LASSO with cross validation method.  We use the pure LASSO with CV and then the Elastic Net."
   ]
  },
  {
   "cell_type": "code",
   "execution_count": 124,
   "metadata": {},
   "outputs": [
    {
     "data": {
      "text/plain": [
       "<BarContainer object of 21 artists>"
      ]
     },
     "execution_count": 124,
     "metadata": {},
     "output_type": "execute_result"
    },
    {
     "data": {
      "image/png": "[encoded data removed]",
      "text/plain": [
       "<Figure size 432x288 with 1 Axes>"
      ]
     },
     "metadata": {
      "needs_background": "light"
     },
     "output_type": "display_data"
    }
   ],
   "source": [
    "from sklearn.utils.validation import column_or_1d\n",
    "y = column_or_1d(y, warn=True)\n",
    "reg = LassoCV(cv=10, random_state=1).fit(x, y)\n",
    "plt.bar(np.array(range(21)), reg.coef_)\n",
    "\n",
    "\n",
    "\n",
    "\n",
    "\n"
   ]
  },
  {
   "cell_type": "code",
   "execution_count": 125,
   "metadata": {},
   "outputs": [
    {
     "data": {
      "text/plain": [
       "<BarContainer object of 21 artists>"
      ]
     },
     "execution_count": 125,
     "metadata": {},
     "output_type": "execute_result"
    },
    {
     "data": {
      "image/png": "[encoded data removed]",
      "text/plain": [
       "<Figure size 432x288 with 1 Axes>"
      ]
     },
     "metadata": {
      "needs_background": "light"
     },
     "output_type": "display_data"
    }
   ],
   "source": [
    "from sklearn.linear_model import ElasticNetCV\n",
    "regr = ElasticNetCV(cv=5, random_state=1)\n",
    "regr.fit(x, y)\n",
    "regr.coef_\n",
    "plt.bar(np.array(range(21)), regr.coef_)"
   ]
  },
  {
   "cell_type": "markdown",
   "metadata": {},
   "source": [
    "In the above Bar chart, we plot the coefficients using OLS and LASSO, with $\\alpha=1$.  You see that LASSO is ruthless, it kills off the useless coefficients.  Not because they are statistically insignificant but because they are useless for out-of-sample prediction. So in Machine Learning we are interested in finding the best set of coefficients for $\\textit{out-of-sample prediction}$.  "
   ]
  },
  {
   "cell_type": "markdown",
   "metadata": {},
   "source": [
    "$\\textbf{Forecasting SP500 Returns}$\n",
    "\n",
    "Now lets read in or import to Matlab SP500 data since 1927 from an Excel Spreadsheet. We will see how we can find coefficints for forecasting returns. We have data on opening, closing, high and low from Yahoo finance. "
   ]
  },
  {
   "cell_type": "code",
   "execution_count": 34,
   "metadata": {},
   "outputs": [
    {
     "data": {
      "text/html": [
       "<div>\n",
       "<style scoped>\n",
       "    .dataframe tbody tr th:only-of-type {\n",
       "        vertical-align: middle;\n",
       "    }\n",
       "\n",
       "    .dataframe tbody tr th {\n",
       "        vertical-align: top;\n",
       "    }\n",
       "\n",
       "    .dataframe thead th {\n",
       "        text-align: right;\n",
       "    }\n",
       "</style>\n",
       "<table border=\"1\" class=\"dataframe\">\n",
       "  <thead>\n",
       "    <tr style=\"text-align: right;\">\n",
       "      <th></th>\n",
       "      <th>Date</th>\n",
       "      <th>Open</th>\n",
       "      <th>High</th>\n",
       "      <th>Low</th>\n",
       "      <th>Close</th>\n",
       "      <th>Adj Close</th>\n",
       "      <th>Volume</th>\n",
       "    </tr>\n",
       "  </thead>\n",
       "  <tbody>\n",
       "    <tr>\n",
       "      <th>0</th>\n",
       "      <td>1927-12-30</td>\n",
       "      <td>17.660000</td>\n",
       "      <td>17.660000</td>\n",
       "      <td>17.660000</td>\n",
       "      <td>17.660000</td>\n",
       "      <td>17.660000</td>\n",
       "      <td>0</td>\n",
       "    </tr>\n",
       "    <tr>\n",
       "      <th>1</th>\n",
       "      <td>1928-01-03</td>\n",
       "      <td>17.760000</td>\n",
       "      <td>17.760000</td>\n",
       "      <td>17.760000</td>\n",
       "      <td>17.760000</td>\n",
       "      <td>17.760000</td>\n",
       "      <td>0</td>\n",
       "    </tr>\n",
       "    <tr>\n",
       "      <th>2</th>\n",
       "      <td>1928-01-04</td>\n",
       "      <td>17.719999</td>\n",
       "      <td>17.719999</td>\n",
       "      <td>17.719999</td>\n",
       "      <td>17.719999</td>\n",
       "      <td>17.719999</td>\n",
       "      <td>0</td>\n",
       "    </tr>\n",
       "    <tr>\n",
       "      <th>3</th>\n",
       "      <td>1928-01-05</td>\n",
       "      <td>17.549999</td>\n",
       "      <td>17.549999</td>\n",
       "      <td>17.549999</td>\n",
       "      <td>17.549999</td>\n",
       "      <td>17.549999</td>\n",
       "      <td>0</td>\n",
       "    </tr>\n",
       "    <tr>\n",
       "      <th>4</th>\n",
       "      <td>1928-01-06</td>\n",
       "      <td>17.660000</td>\n",
       "      <td>17.660000</td>\n",
       "      <td>17.660000</td>\n",
       "      <td>17.660000</td>\n",
       "      <td>17.660000</td>\n",
       "      <td>0</td>\n",
       "    </tr>\n",
       "  </tbody>\n",
       "</table>\n",
       "</div>"
      ],
      "text/plain": [
       "        Date       Open       High        Low      Close  Adj Close  Volume\n",
       "0 1927-12-30  17.660000  17.660000  17.660000  17.660000  17.660000       0\n",
       "1 1928-01-03  17.760000  17.760000  17.760000  17.760000  17.760000       0\n",
       "2 1928-01-04  17.719999  17.719999  17.719999  17.719999  17.719999       0\n",
       "3 1928-01-05  17.549999  17.549999  17.549999  17.549999  17.549999       0\n",
       "4 1928-01-06  17.660000  17.660000  17.660000  17.660000  17.660000       0"
      ]
     },
     "execution_count": 34,
     "metadata": {},
     "output_type": "execute_result"
    }
   ],
   "source": [
    "tab = pd.read_excel('SP500.xlsx')\n",
    "tab.head()"
   ]
  },
  {
   "cell_type": "code",
   "execution_count": 35,
   "metadata": {},
   "outputs": [
    {
     "data": {
      "text/plain": [
       "23262"
      ]
     },
     "execution_count": 35,
     "metadata": {},
     "output_type": "execute_result"
    }
   ],
   "source": [
    "len(tab)"
   ]
  },
  {
   "cell_type": "code",
   "execution_count": 36,
   "metadata": {},
   "outputs": [],
   "source": [
    "date1 = np.array(tab.iloc[:,0])\n",
    "open_ = np.array(tab.iloc[:,1])\n",
    "high = np.array(tab.iloc[:,2])\n",
    "low = np.array(tab.iloc[:,3])\n",
    "close = np.array(tab.iloc[:,4])\n",
    "adjclose = np.array(tab.iloc[:,5])"
   ]
  },
  {
   "cell_type": "code",
   "execution_count": 37,
   "metadata": {},
   "outputs": [
    {
     "data": {
      "image/png": "[encoded data removed]",
      "text/plain": [
       "<Figure size 432x288 with 1 Axes>"
      ]
     },
     "metadata": {
      "needs_background": "light"
     },
     "output_type": "display_data"
    }
   ],
   "source": [
    "index = range(1, len(adjclose), 5)\n",
    "Close = adjclose[index]\n",
    "date2 = date1[index]\n",
    "plt.plot(date2, Close)\n",
    "plt.grid()\n"
   ]
  },
  {
   "cell_type": "code",
   "execution_count": 38,
   "metadata": {},
   "outputs": [
    {
     "data": {
      "text/plain": [
       "Text(0.5, 1.0, 'Return')"
      ]
     },
     "execution_count": 38,
     "metadata": {},
     "output_type": "execute_result"
    },
    {
     "data": {
      "image/png": "[encoded data removed]",
      "text/plain": [
       "<Figure size 432x288 with 2 Axes>"
      ]
     },
     "metadata": {
      "needs_background": "light"
     },
     "output_type": "display_data"
    }
   ],
   "source": [
    "date3 = date2[1:]\n",
    "LClose = np.log(Close)\n",
    "Return = np.diff(np.log(Close))\n",
    "\n",
    "fig, (ax1, ax2) = plt.subplots(2)\n",
    "ax1.plot(date2, LClose)\n",
    "ax1.set_title('SP500')\n",
    "ax2.plot(date3, Return)\n",
    "ax2.set_title('Return')"
   ]
  },
  {
   "cell_type": "markdown",
   "metadata": {},
   "source": [
    "We see in the above figures the upward spiral of the weekly SP500 index since 1925.  We also see the recurring periods of voaltlity in this index, at the times of the Great Depression in the 1930's, at the time of the Oil Shocks in the 1970's,, at the time of the 911 attack after 2000, and at the time of the Global Financial Crisis in 2008.\n",
    "\n",
    "Now leets estimate the model with the AR estimation program for a lag of 20 weeks.  "
   ]
  },
  {
   "cell_type": "code",
   "execution_count": 39,
   "metadata": {},
   "outputs": [
    {
     "data": {
      "text/plain": [
       "Text(0, 0.5, 'OLS Estiaties')"
      ]
     },
     "execution_count": 39,
     "metadata": {},
     "output_type": "execute_result"
    },
    {
     "data": {
      "image/png": "[encoded data removed]",
      "text/plain": [
       "<Figure size 432x288 with 1 Axes>"
      ]
     },
     "metadata": {
      "needs_background": "light"
     },
     "output_type": "display_data"
    }
   ],
   "source": [
    "Model = AutoReg(Return, lags=20)\n",
    "pvec = Model.fit().params\n",
    "plt.bar(range(1, 22), pvec)\n",
    "plt.xlabel('Coefficients of Lags')\n",
    "plt.ylabel('OLS Estiaties')"
   ]
  },
  {
   "cell_type": "markdown",
   "metadata": {},
   "source": [
    "We see ups and downs of the coefficients.  Which ones really matter?\n",
    "We use the function mlag to create a vector of x's variables which are lags of the Return.\n",
    "Then create a dependent variable yy.  We use the glmnet programs cvglmnet (cross-validation glmnet) and obtain the Beta (coefficient vector) from the best out-of-sample error.  Looking at the Bar chart of the Lasso coefficients, we see that it kills off a lot."
   ]
  },
  {
   "cell_type": "code",
   "execution_count": 40,
   "metadata": {},
   "outputs": [],
   "source": [
    "def mlag(x, n=1, init=0):\n",
    "   \n",
    "       \n",
    "    [nobs, nvar] = x.shape\n",
    "    \n",
    "    xlag = np.ones((nobs, nvar*n))*init\n",
    "    icnt = 0\n",
    "    for i in range(nvar):\n",
    "        for j in range(n):\n",
    "            xlag[j+1:nobs, icnt+j] = x[:nobs-j-1, i]\n",
    "        icnt += n\n",
    "        \n",
    "    return xlag"
   ]
  },
  {
   "cell_type": "code",
   "execution_count": 126,
   "metadata": {},
   "outputs": [
    {
     "data": {
      "text/plain": [
       "array([ 0.,  0.,  0., -0., -0.,  0.,  0.,  0., -0., -0.,  0., -0., -0.,\n",
       "       -0.,  0., -0.,  0., -0.,  0., -0.])"
      ]
     },
     "execution_count": 126,
     "metadata": {},
     "output_type": "execute_result"
    },
    {
     "data": {
      "image/png": "[encoded data removed]",
      "text/plain": [
       "<Figure size 432x288 with 1 Axes>"
      ]
     },
     "metadata": {
      "needs_background": "light"
     },
     "output_type": "display_data"
    }
   ],
   "source": [
    "\n",
    "xx = mlag(Return.reshape(-1,1), n=20)\n",
    "yy = Return[20:]\n",
    "xx = xx[20:,:]\n",
    "from sklearn.linear_model import ElasticNetCV\n",
    "regr = ElasticNetCV(cv=10, random_state=1)\n",
    "regr.fit(xx, yy)\n",
    "plt.bar(np.array(range(20)), regr.coef_)\n",
    "regr.coef_\n",
    "\n"
   ]
  },
  {
   "cell_type": "code",
   "execution_count": 127,
   "metadata": {},
   "outputs": [
    {
     "data": {
      "text/plain": [
       "<BarContainer object of 20 artists>"
      ]
     },
     "execution_count": 127,
     "metadata": {},
     "output_type": "execute_result"
    },
    {
     "data": {
      "image/png": "[encoded data removed]",
      "text/plain": [
       "<Figure size 432x288 with 1 Axes>"
      ]
     },
     "metadata": {
      "needs_background": "light"
     },
     "output_type": "display_data"
    }
   ],
   "source": [
    "reg1 = LassoCV(cv=10, random_state=0).fit(xx, yy)\n",
    "plt.bar(np.array(range(20)), reg1.coef_)"
   ]
  },
  {
   "cell_type": "markdown",
   "metadata": {},
   "source": [
    "$\\textbf{Forecasting SP500 Volatility}$\n",
    "\n",
    "Now let's see if we can forecast the range volatility.  We calculate it from the high, low, opening and closing values of the daily indices.  We are shifting to daily, not weekly, frequency.\n",
    "For the logarithm of the high, low, opening and adjusted closing values, we calculate the Range Volatility:\n",
    "\n",
    "$\\hat{\\sigma_{t}^{R}=.511(h-l)^{2}-.019[(c-o)(h-l-2o)}-2(h-o)(l-o)]-.383(c-o)^{2}$\n"
   ]
  },
  {
   "cell_type": "code",
   "execution_count": 51,
   "metadata": {},
   "outputs": [],
   "source": [
    "def rangefun(data):\n",
    "     # UNTITLED Summary of this function goes here\n",
    "     # Detailed explanation goes here\n",
    "    \n",
    "    data = np.log(data)\n",
    "    open_ = data.iloc[:,0]\n",
    "    high = data.iloc[:,1]\n",
    "    low = data.iloc[:, 2]\n",
    "    close = data.iloc[:, 3]\n",
    "    rangevol = 0.511 * (high-low)**2 -0.019*((close-open_)*(high+low-2*open_)-2*(high-open_)*(low-open_))-0.383*(close-open_)**2\n",
    "    \n",
    "    return rangevol"
   ]
  },
  {
   "cell_type": "code",
   "execution_count": 52,
   "metadata": {},
   "outputs": [],
   "source": [
    "Data = pd.DataFrame({'open': open_, 'high': high, 'low': low, \"adjclose\": adjclose})\n",
    "RangeVol = rangefun(Data)\n",
    "date4 = date1[10000:]\n",
    "RangeVol1 = RangeVol[10000:]"
   ]
  },
  {
   "cell_type": "code",
   "execution_count": 53,
   "metadata": {},
   "outputs": [
    {
     "data": {
      "text/plain": [
       "Text(0.5, 1.0, 'Daily Range Volatility, SP500')"
      ]
     },
     "execution_count": 53,
     "metadata": {},
     "output_type": "execute_result"
    },
    {
     "data": {
      "image/png": "[encoded data removed]",
      "text/plain": [
       "<Figure size 432x288 with 1 Axes>"
      ]
     },
     "metadata": {
      "needs_background": "light"
     },
     "output_type": "display_data"
    }
   ],
   "source": [
    "plt.plot(date4, RangeVol1)\n",
    "plt.grid()\n",
    "plt.title('Daily Range Volatility, SP500')"
   ]
  },
  {
   "cell_type": "markdown",
   "metadata": {},
   "source": [
    "For simplicity we will only use data since the late 60's.  We see spikes at the time of the oil shocks, at the time of the Gulf War, at the time of 911 in 2001, and in 2008 at the time of the Global Financial Crisis and in 2020 at the time of the COVID19 Pandemic.\n",
    "Let's first estimate the coefficients with the AR process."
   ]
  },
  {
   "cell_type": "code",
   "execution_count": 54,
   "metadata": {},
   "outputs": [
    {
     "data": {
      "text/plain": [
       "Text(0, 0.5, 'OLS Estimates')"
      ]
     },
     "execution_count": 54,
     "metadata": {},
     "output_type": "execute_result"
    },
    {
     "data": {
      "image/png": "[encoded data removed]",
      "text/plain": [
       "<Figure size 432x288 with 1 Axes>"
      ]
     },
     "metadata": {
      "needs_background": "light"
     },
     "output_type": "display_data"
    }
   ],
   "source": [
    "Model1 = AutoReg(RangeVol1, lags=20)\n",
    "pvec1 = Model1.fit().params\n",
    "plt.bar(range(1, 22), pvec1)\n",
    "plt.xlabel('Coefficients of Lags')\n",
    "plt.ylabel('OLS Estimates')"
   ]
  },
  {
   "cell_type": "markdown",
   "metadata": {},
   "source": [
    "We see that the AR lags move around quite a bit.   Now what happens if we use LASSO?"
   ]
  },
  {
   "cell_type": "code",
   "execution_count": 56,
   "metadata": {},
   "outputs": [
    {
     "data": {
      "text/plain": [
       "<BarContainer object of 20 artists>"
      ]
     },
     "execution_count": 56,
     "metadata": {},
     "output_type": "execute_result"
    },
    {
     "data": {
      "image/png": "[encoded data removed]",
      "text/plain": [
       "<Figure size 432x288 with 1 Axes>"
      ]
     },
     "metadata": {
      "needs_background": "light"
     },
     "output_type": "display_data"
    }
   ],
   "source": [
    "xxx =  mlag(np.array(RangeVol1).reshape(-1,1), n=20)\n",
    "xxx = xxx[20:,:]\n",
    "yyy = RangeVol1[20:]\n",
    "\n",
    "reg = LassoCV(cv=20, random_state=0).fit(xxx, yyy)\n",
    "plt.bar(np.array(range(20)), reg.coef_)"
   ]
  },
  {
   "cell_type": "markdown",
   "metadata": {},
   "source": [
    "We see that the LASSO estimation gets rid of a lot of the coefficients after period 10 and switches their sign.  But not all.  This means that there is significant persistence for forecasting volatility measures, but not for return measures."
   ]
  },
  {
   "cell_type": "markdown",
   "metadata": {},
   "source": [
    "The LASSO estimation tells us we need to only look at the data for the past five or six days to forecast the range volatility."
   ]
  }
 ],
 "metadata": {
  "kernelspec": {
   "display_name": "Python 3",
   "language": "python",
   "name": "python3"
  }
 },
 "nbformat": 4,
 "nbformat_minor": 4
}
