{
 "cells": [
  {
   "cell_type": "markdown",
   "id": "339e9364",
   "metadata": {},
   "source": [
    "$\\textbf{No Free Lunch:  Does the RMB Follow the SGD?}$\n",
    "\n",
    "This is an exercise in the \"No Free Lunch\" warning.  \n",
    "I want to evaluate how closely the RMB following the US dollar.  \n",
    "\n",
    "- We need to use a numeraire currency.  \n",
    "- Chinese said that they do not have the Swiff Franc in their \"basket\"\n",
    "- So we set the RMB/CHF rate as the dependent variable \n",
    "- For regressors we take the values of the USD, Korean Wan, Japanese Yen, Euro and the UK Sterling against the CHF\n",
    "- We calculate these rates from artibrate or as cross rates from their respective values against the US Dollar\n",
    "\n",
    "- We do a regression below, for the data set since 2004, and find that the Dollar/CHF rate has the strongest effect on the RMB/CHF movements, followed by the Sterling and Korean Won.  Not so much the Euro, surprisingly.\n",
    "\n",
    "- However when I add in the Singapore Dollar against the CHF, it has strong effects.\n",
    "- Does this make sense? Should any of you go to the IMF or AMRO or the investment banking community and tell the leaders that the SMD has a strong effect on the movements of the RMB?\n",
    "\n",
    "- Again this is a case of \"knowing the data\": the SGD is tied to the USD so that their is multicollinearity.\n"
   ]
  },
  {
   "cell_type": "code",
   "execution_count": 14,
   "id": "2625769a",
   "metadata": {},
   "outputs": [
    {
     "name": "stdout",
     "output_type": "stream",
     "text": [
      "[*********************100%***********************]  10 of 10 completed\n"
     ]
    }
   ],
   "source": [
    "import pandas as pd\n",
    "import yfinance as yf\n",
    "\n",
    "# Define a list of currency pairs you want to retrieve\n",
    "currency_pairs = [\n",
    "    \"CNY=X\",  # Chinese Yuan (RMB) to USD\n",
    "    \"USDJPY=X\",  # USD to Japanese Yen\n",
    "    \"USDKRW=X\",  # USD to Korean Won\n",
    "    \"EURUSD=X\",  # Euro to USD\n",
    "   # \"USDBTH=X\",  # USD to Thai Baht\n",
    "    \"USDSGD=X\",  # USD to Singapore Dollar\n",
    "    \"USDMYR=X\",  # USD to Malaysian Ringgit\n",
    "    \"GBPUSD=X\",  # British Pound to USD\n",
    "    \"EURCHF=X\",  # Euro to Swiss Franc\n",
    "  #  \"AUDUSD=X\",  # USD to Australian Dollar\n",
    "   # \"USDAUD=X\",  # Australian Dollar to USD (cross rate)\n",
    "    \"USDCHF=X\",  # USD to Swiss Franc\n",
    "    \"CHFUSD=X\",  # Swiss Franc to USD (cross rate)\n",
    "]\n",
    "\n",
    "# Define a function to download exchange rate data\n",
    "def download_exchange_rates(currency_pairs, start_date, end_date):\n",
    "    data = yf.download(currency_pairs, start=start_date, end=end_date)\n",
    "    return data[\"Adj Close\"]\n",
    "\n",
    "# Specify the date range for the exchange rate data\n",
    "start_date = \"2004-01-02\"\n",
    "end_date = \"2023-10-01\"\n",
    "\n",
    "# Download the exchange rate data\n",
    "exchange_rate_data = download_exchange_rates(currency_pairs, start_date, end_date)\n",
    "\n",
    "# Print the first few rows of the data\n",
    "#print(exchange_rate_data.head())\n",
    "#exchange_rate_data_clean = exchange_rate_data.dropna(axis=1)\n",
    "\n",
    "# Print the cleaned DataFrame\n",
    "#print(exchange_rate_data_clean.head())\n"
   ]
  },
  {
   "cell_type": "code",
   "execution_count": 15,
   "id": "25ca734e",
   "metadata": {},
   "outputs": [
    {
     "name": "stdout",
     "output_type": "stream",
     "text": [
      "            CHFUSD=X     CNY=X  EURCHF=X  EURUSD=X  GBPUSD=X  USDCHF=X   \n",
      "Date                                                                     \n",
      "2004-01-02  0.806452  8.266900    1.5585  1.258194  1.793690    1.2400  \\\n",
      "2004-01-05  0.811688  8.267000    1.5630  1.268698  1.807207    1.2320   \n",
      "2004-01-06  0.811754  8.267100    1.5670  1.272103  1.821295    1.2319   \n",
      "2004-01-07  0.806777  8.267201    1.5670  1.264095  1.817785    1.2395   \n",
      "2004-01-08  0.815262  8.267201    1.5666  1.277498  1.833887    1.2266   \n",
      "\n",
      "              USDJPY=X     USDKRW=X  USDMYR=X  USDSGD=X  \n",
      "Date                                                     \n",
      "2004-01-02  106.910004  1195.800049    3.8019    1.7018  \n",
      "2004-01-05  106.239998  1178.900024    3.7972    1.6975  \n",
      "2004-01-06  106.230003  1189.400024    3.7950    1.6973  \n",
      "2004-01-07  106.180000  1176.800049    3.8052    1.6962  \n",
      "2004-01-08  106.169998  1171.000000    3.7988    1.6935  \n"
     ]
    }
   ],
   "source": [
    "print(exchange_rate_data.head())"
   ]
  },
  {
   "cell_type": "code",
   "execution_count": 16,
   "id": "a5a6f3c2",
   "metadata": {},
   "outputs": [],
   "source": [
    "exchange_rate_data_filled = exchange_rate_data.fillna(method='ffill')"
   ]
  },
  {
   "cell_type": "code",
   "execution_count": 19,
   "id": "bfbefce1",
   "metadata": {},
   "outputs": [
    {
     "name": "stdout",
     "output_type": "stream",
     "text": [
      "(5151, 10)\n"
     ]
    }
   ],
   "source": [
    "exdata = exchange_rate_data_filled\n",
    "print(exdata.shape)"
   ]
  },
  {
   "cell_type": "code",
   "execution_count": 107,
   "id": "6232d982",
   "metadata": {},
   "outputs": [],
   "source": [
    "\n",
    "CNY = exdata['CNY=X']\n",
    "exdata['CHFEUR'] = 1 / exdata['EURCHF=X']\n",
    "exdata['MYRUSD'] = exdata['USDMYR=X']\n",
    "exdata['SGDUSD'] = 1/exdata['USDSGD=X']\n",
    "exdata['USDCHF'] = 1/exdata['USDCHF=X']\n",
    "exdata['CNCHF'] = exdata['CNY=X']*exdata['USDCHF']  # rmb to swiss frank\n",
    "exdata['JPYCHF'] = exdata['USDJPY=X'] * exdata['USDCHF']\n",
    "exdata['KRWCHF'] = exdata['USDKRW=X'] * exdata['USDCHF']\n",
    "exdata['EURCHF'] = 1/exdata['EURCHF=X'] \n",
    "exdata['GBPCHF'] = 1/exdata['GBPUSD=X'] * exdata['USDCHF']\n",
    "exdata['SGDCHF']=  exdata['USDSGD=X'] * exdata['USDCHF']\n",
    "\n"
   ]
  },
  {
   "cell_type": "code",
   "execution_count": 108,
   "id": "fb8971ab",
   "metadata": {},
   "outputs": [
    {
     "name": "stdout",
     "output_type": "stream",
     "text": [
      "X1 after zero value replacement:               USDCHF      JPYCHF       KRWCHF    EURCHF    GBPCHF\n",
      "Date                                                             \n",
      "2004-01-02  0.806452   86.217744   964.354871  0.641643  0.449605\n",
      "2004-01-05  0.811688   86.233765   956.899376  0.639795  0.449140\n",
      "2004-01-06  0.811754   86.232653   965.500485  0.638162  0.445702\n",
      "2004-01-07  0.806777   85.663571   949.415091  0.638162  0.443824\n",
      "2004-01-08  0.815262   86.556329   954.671410  0.638325  0.444554\n",
      "...              ...         ...          ...       ...       ...\n",
      "2023-09-25  1.102414  163.635765  1471.348255  1.035325  0.900529\n",
      "2023-09-26  1.096395  163.155651  1467.469921  1.035154  0.897717\n",
      "2023-09-27  1.091989  162.755527  1478.280367  1.033165  0.898991\n",
      "2023-09-28  1.085989  162.353122  1469.147010  1.033795  0.894898\n",
      "2023-09-29  1.093183  163.252664  1473.446571  1.034961  0.895699\n",
      "\n",
      "[5151 rows x 5 columns]\n",
      "Y1 after zero value replacement: Date\n",
      "2004-01-02    6.666855\n",
      "2004-01-05    6.710227\n",
      "2004-01-06    6.710854\n",
      "2004-01-07    6.669787\n",
      "2004-01-08    6.739932\n",
      "                ...   \n",
      "2023-09-25    8.044868\n",
      "2023-09-26    8.014538\n",
      "2023-09-27    7.983205\n",
      "2023-09-28    7.936513\n",
      "2023-09-29    7.980126\n",
      "Freq: B, Name: CNCHF, Length: 5151, dtype: float64\n"
     ]
    }
   ],
   "source": [
    "\n",
    "Y = exdata['CNCHF']\n",
    "X = exdata[['USDCHF', 'JPYCHF', 'KRWCHF', 'EURCHF','GBPCHF']]\n",
    "X = X.replace(0, np.nan)\n",
    "Y = Y.replace(0, np.nan)\n",
    "X1 = X.fillna(method='ffill')\n",
    "Y1 = Y.fillna(method='ffill')\n",
    "\n",
    "X1 = X1.replace(0, np.nan).fillna(method='ffill')\n",
    "Y1 = Y1.replace(0, np.nan).fillna(method='ffill')\n",
    "\n",
    "# Print X1 and Y1 after zero value replacement\n",
    "print(\"X1 after zero value replacement:\", X1)\n",
    "print(\"Y1 after zero value replacement:\", Y1)"
   ]
  },
  {
   "cell_type": "code",
   "execution_count": 109,
   "id": "b11f086c",
   "metadata": {},
   "outputs": [
    {
     "name": "stdout",
     "output_type": "stream",
     "text": [
      "X1diff:\n",
      "              USDCHF    JPYCHF    KRWCHF    EURCHF    GBPCHF\n",
      "Date                                                        \n",
      "2004-01-02       NaN       NaN       NaN       NaN       NaN\n",
      "2004-01-05  0.649352  0.018582 -0.773107 -0.287902 -0.103476\n",
      "2004-01-06  0.008119 -0.001289  0.898852 -0.255269 -0.765435\n",
      "2004-01-07 -0.613156 -0.659938 -1.666016  0.000000 -0.421281\n",
      "2004-01-08  1.051687  1.042168  0.553638  0.025537  0.164462\n",
      "...              ...       ...       ...       ...       ...\n",
      "2023-09-25 -0.289934  0.243591 -0.773925 -0.162545  0.136667\n",
      "2023-09-26 -0.546001 -0.293404 -0.263590 -0.016566 -0.312236\n",
      "2023-09-27 -0.401851 -0.245241  0.736672 -0.192165  0.141880\n",
      "2023-09-28 -0.549512 -0.247245 -0.617837  0.060990 -0.455287\n",
      "2023-09-29  0.662469  0.554065  0.292657  0.112810  0.089552\n",
      "\n",
      "[5151 rows x 5 columns]\n",
      "Y1_diff:\n",
      "               CNCHF\n",
      "Date                \n",
      "2004-01-02       NaN\n",
      "2004-01-05  0.650571\n",
      "2004-01-06  0.009330\n",
      "2004-01-07 -0.611941\n",
      "2004-01-08  1.051687\n",
      "...              ...\n",
      "2023-09-25 -0.412753\n",
      "2023-09-26 -0.377012\n",
      "2023-09-27 -0.390949\n",
      "2023-09-28 -0.584877\n",
      "2023-09-29  0.549519\n",
      "\n",
      "[5151 rows x 1 columns]\n"
     ]
    }
   ],
   "source": [
    "X1 = pd.DataFrame(X1)\n",
    "Y1 = pd.DataFrame(Y1)\n",
    "\n",
    "# Calculate log first differences for X1 and Y1 if needed\n",
    "X1diff = X1.pct_change() * 100 \n",
    "Y1diff = Y1.pct_change() * 100 \n",
    "\n",
    "# Print X1_diff and Y1_diff\n",
    "print(\"X1diff:\")\n",
    "print(X1diff)\n",
    "\n",
    "print(\"Y1_diff:\")\n",
    "print(Y1diff)\n",
    "\n",
    "\n",
    "\n",
    "\n",
    "\n",
    "\n",
    "\n"
   ]
  },
  {
   "cell_type": "code",
   "execution_count": 110,
   "id": "c5b6b2a6",
   "metadata": {},
   "outputs": [],
   "source": [
    "import statsmodels.api as sm\n"
   ]
  },
  {
   "cell_type": "code",
   "execution_count": 111,
   "id": "f9732d39",
   "metadata": {},
   "outputs": [
    {
     "name": "stdout",
     "output_type": "stream",
     "text": [
      "                            OLS Regression Results                            \n",
      "==============================================================================\n",
      "Dep. Variable:                  CNCHF   R-squared:                       0.843\n",
      "Model:                            OLS   Adj. R-squared:                  0.842\n",
      "Method:                 Least Squares   F-statistic:                     5508.\n",
      "Date:                Wed, 04 Oct 2023   Prob (F-statistic):               0.00\n",
      "Time:                        14:36:32   Log-Likelihood:                -812.48\n",
      "No. Observations:                5150   AIC:                             1637.\n",
      "Df Residuals:                    5144   BIC:                             1676.\n",
      "Df Model:                           5                                         \n",
      "Covariance Type:            nonrobust                                         \n",
      "==============================================================================\n",
      "                 coef    std err          t      P>|t|      [0.025      0.975]\n",
      "------------------------------------------------------------------------------\n",
      "const         -0.0026      0.004     -0.666      0.506      -0.010       0.005\n",
      "USDCHF         0.9009      0.009    102.523      0.000       0.884       0.918\n",
      "JPYCHF         0.0101      0.006      1.797      0.072      -0.001       0.021\n",
      "KRWCHF         0.0259      0.005      5.548      0.000       0.017       0.035\n",
      "EURCHF         0.0113      0.011      1.051      0.293      -0.010       0.032\n",
      "GBPCHF         0.0388      0.008      4.580      0.000       0.022       0.055\n",
      "==============================================================================\n",
      "Omnibus:                     4938.294   Durbin-Watson:                   2.559\n",
      "Prob(Omnibus):                  0.000   Jarque-Bera (JB):         58973422.462\n",
      "Skew:                           3.012   Prob(JB):                         0.00\n",
      "Kurtosis:                     527.205   Cond. No.                         3.90\n",
      "==============================================================================\n",
      "\n",
      "Notes:\n",
      "[1] Standard Errors assume that the covariance matrix of the errors is correctly specified.\n"
     ]
    }
   ],
   "source": [
    "Y1diff = Y1diff[1:]\n",
    "X1diff = X1diff[1:]\n",
    "\n",
    "X1diff = sm.add_constant(X1diff)  # Adding a cons\n",
    "model = sm.OLS(Y1diff, X1diff).fit()\n",
    "\n",
    "# Print the regression summary\n",
    "print(model.summary())"
   ]
  },
  {
   "cell_type": "code",
   "execution_count": 114,
   "id": "e4f2cf2b",
   "metadata": {},
   "outputs": [
    {
     "name": "stdout",
     "output_type": "stream",
     "text": [
      "X1diff:\n",
      "              USDCHF    JPYCHF    KRWCHF    EURCHF    GBPCHF    SGDCHF\n",
      "Date                                                                  \n",
      "2004-01-02       NaN       NaN       NaN       NaN       NaN       NaN\n",
      "2004-01-05  0.649352  0.018582 -0.773107 -0.287902 -0.103476  0.395038\n",
      "2004-01-06  0.008119 -0.001289  0.898852 -0.255269 -0.765435 -0.003666\n",
      "2004-01-07 -0.613156 -0.659938 -1.666016  0.000000 -0.421281 -0.677564\n",
      "2004-01-08  1.051687  1.042168  0.553638  0.025537  0.164462  0.890835\n",
      "...              ...       ...       ...       ...       ...       ...\n",
      "2023-09-25 -0.289934  0.243591 -0.773925 -0.162545  0.136667 -0.343923\n",
      "2023-09-26 -0.546001 -0.293404 -0.263590 -0.016566 -0.312236 -0.517608\n",
      "2023-09-27 -0.401851 -0.245241  0.736672 -0.192165  0.141880 -0.205750\n",
      "2023-09-28 -0.549512 -0.247245 -0.617837  0.060990 -0.455287 -0.256725\n",
      "2023-09-29  0.662469  0.554065  0.292657  0.112810  0.089552  0.157294\n",
      "\n",
      "[5151 rows x 6 columns]\n",
      "Y1_diff:\n",
      "               CNCHF\n",
      "Date                \n",
      "2004-01-02       NaN\n",
      "2004-01-05  0.650571\n",
      "2004-01-06  0.009330\n",
      "2004-01-07 -0.611941\n",
      "2004-01-08  1.051687\n",
      "...              ...\n",
      "2023-09-25 -0.412753\n",
      "2023-09-26 -0.377012\n",
      "2023-09-27 -0.390949\n",
      "2023-09-28 -0.584877\n",
      "2023-09-29  0.549519\n",
      "\n",
      "[5151 rows x 1 columns]\n",
      "                            OLS Regression Results                            \n",
      "==============================================================================\n",
      "Dep. Variable:                  CNCHF   R-squared:                       0.844\n",
      "Model:                            OLS   Adj. R-squared:                  0.844\n",
      "Method:                 Least Squares   F-statistic:                     4652.\n",
      "Date:                Wed, 04 Oct 2023   Prob (F-statistic):               0.00\n",
      "Time:                        14:37:52   Log-Likelihood:                -782.94\n",
      "No. Observations:                5150   AIC:                             1580.\n",
      "Df Residuals:                    5143   BIC:                             1626.\n",
      "Df Model:                           6                                         \n",
      "Covariance Type:            nonrobust                                         \n",
      "==============================================================================\n",
      "                 coef    std err          t      P>|t|      [0.025      0.975]\n",
      "------------------------------------------------------------------------------\n",
      "const         -0.0017      0.004     -0.443      0.657      -0.009       0.006\n",
      "USDCHF         0.8320      0.013     66.528      0.000       0.808       0.857\n",
      "JPYCHF         0.0064      0.006      1.145      0.252      -0.005       0.017\n",
      "KRWCHF         0.0144      0.005      2.943      0.003       0.005       0.024\n",
      "EURCHF        -0.0200      0.011     -1.760      0.078      -0.042       0.002\n",
      "GBPCHF         0.0241      0.009      2.783      0.005       0.007       0.041\n",
      "SGDCHF         0.1326      0.017      7.704      0.000       0.099       0.166\n",
      "==============================================================================\n",
      "Omnibus:                     5002.103   Durbin-Watson:                   2.572\n",
      "Prob(Omnibus):                  0.000   Jarque-Bera (JB):         62860133.060\n",
      "Skew:                           3.086   Prob(JB):                         0.00\n",
      "Kurtosis:                     544.205   Cond. No.                         7.26\n",
      "==============================================================================\n",
      "\n",
      "Notes:\n",
      "[1] Standard Errors assume that the covariance matrix of the errors is correctly specified.\n"
     ]
    }
   ],
   "source": [
    "Y = exdata['CNCHF']\n",
    "X = exdata[['USDCHF', 'JPYCHF', 'KRWCHF', 'EURCHF','GBPCHF', 'SGDCHF']]\n",
    "X = X.replace(0, np.nan)\n",
    "Y = Y.replace(0, np.nan)\n",
    "X1 = X.fillna(method='ffill')\n",
    "Y1 = Y.fillna(method='ffill')\n",
    "\n",
    "X1 = X1.replace(0, np.nan).fillna(method='ffill')\n",
    "Y1 = Y1.replace(0, np.nan).fillna(method='ffill')\n",
    "X1 = pd.DataFrame(X1)\n",
    "Y1 = pd.DataFrame(Y1)\n",
    "\n",
    "# Calculate log first differences for X1 and Y1 if needed\n",
    "X1diff = X1.pct_change() * 100 \n",
    "Y1diff = Y1.pct_change() * 100 \n",
    "\n",
    "# Print X1_diff and Y1_diff\n",
    "print(\"X1diff:\")\n",
    "print(X1diff)\n",
    "\n",
    "print(\"Y1_diff:\")\n",
    "print(Y1diff)\n",
    "Y1diff = Y1diff[1:]\n",
    "X1diff = X1diff[1:]\n",
    "\n",
    "X1diff = sm.add_constant(X1diff)  # Adding a cons\n",
    "model = sm.OLS(Y1diff, X1diff).fit()\n",
    "\n",
    "# Print the regression summary\n",
    "print(model.summary())"
   ]
  },
  {
   "cell_type": "code",
   "execution_count": null,
   "id": "de6a2cf8",
   "metadata": {},
   "outputs": [],
   "source": [
    "\n"
   ]
  },
  {
   "cell_type": "code",
   "execution_count": null,
   "id": "8ade3cc1",
   "metadata": {},
   "outputs": [],
   "source": []
  }
 ],
 "metadata": {
  "kernelspec": {
   "display_name": "Python 3 (ipykernel)",
   "language": "python",
   "name": "python3"
  },
  "language_info": {
   "codemirror_mode": {
    "name": "ipython",
    "version": 3
   },
   "file_extension": ".py",
   "mimetype": "text/x-python",
   "name": "python",
   "nbconvert_exporter": "python",
   "pygments_lexer": "ipython3",
   "version": "3.9.7"
  }
 },
 "nbformat": 4,
 "nbformat_minor": 5
}
